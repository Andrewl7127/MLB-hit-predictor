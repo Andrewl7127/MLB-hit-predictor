{
 "cells": [
  {
   "cell_type": "code",
   "execution_count": 1,
   "metadata": {},
   "outputs": [],
   "source": [
    "import pandas as pd\n",
    "import numpy as np\n",
    "import pandas as pd\n",
    "import seaborn as sns\n",
    "import matplotlib.pyplot as plt"
   ]
  },
  {
   "cell_type": "code",
   "execution_count": 2,
   "metadata": {},
   "outputs": [
    {
     "data": {
      "text/html": [
       "<div>\n",
       "<style scoped>\n",
       "    .dataframe tbody tr th:only-of-type {\n",
       "        vertical-align: middle;\n",
       "    }\n",
       "\n",
       "    .dataframe tbody tr th {\n",
       "        vertical-align: top;\n",
       "    }\n",
       "\n",
       "    .dataframe thead th {\n",
       "        text-align: right;\n",
       "    }\n",
       "</style>\n",
       "<table border=\"1\" class=\"dataframe\">\n",
       "  <thead>\n",
       "    <tr style=\"text-align: right;\">\n",
       "      <th></th>\n",
       "      <th>Game_date</th>\n",
       "      <th>Games_played_to_date</th>\n",
       "      <th>BA</th>\n",
       "      <th>PA</th>\n",
       "      <th>Name</th>\n",
       "      <th>ISO</th>\n",
       "      <th>SLG</th>\n",
       "      <th>BABIP</th>\n",
       "      <th>BIP</th>\n",
       "      <th>OBP</th>\n",
       "      <th>...</th>\n",
       "      <th>strike_percentage</th>\n",
       "      <th>pitches_per_appearance_avg</th>\n",
       "      <th>ground_ball_percentage</th>\n",
       "      <th>fly_ball_percentage</th>\n",
       "      <th>strikeout_percentage</th>\n",
       "      <th>next_game_team1</th>\n",
       "      <th>next_game_team2</th>\n",
       "      <th>hitter_R%</th>\n",
       "      <th>hitter_L%</th>\n",
       "      <th>next_game_hit_vs_fp</th>\n",
       "    </tr>\n",
       "  </thead>\n",
       "  <tbody>\n",
       "    <tr>\n",
       "      <th>0</th>\n",
       "      <td>2014-03-31</td>\n",
       "      <td>1</td>\n",
       "      <td>0.00000</td>\n",
       "      <td>4</td>\n",
       "      <td>Travis d'Arnaud</td>\n",
       "      <td>0.0</td>\n",
       "      <td>0.00000</td>\n",
       "      <td>0.00000</td>\n",
       "      <td>0.33333</td>\n",
       "      <td>0.25</td>\n",
       "      <td>...</td>\n",
       "      <td>NaN</td>\n",
       "      <td>NaN</td>\n",
       "      <td>NaN</td>\n",
       "      <td>NaN</td>\n",
       "      <td>NaN</td>\n",
       "      <td>NaN</td>\n",
       "      <td>NaN</td>\n",
       "      <td>1.0</td>\n",
       "      <td>0.0</td>\n",
       "      <td>0</td>\n",
       "    </tr>\n",
       "    <tr>\n",
       "      <th>1</th>\n",
       "      <td>2014-03-31</td>\n",
       "      <td>1</td>\n",
       "      <td>0.20000</td>\n",
       "      <td>5</td>\n",
       "      <td>Jayson Werth</td>\n",
       "      <td>0.0</td>\n",
       "      <td>0.20000</td>\n",
       "      <td>0.33333</td>\n",
       "      <td>0.60000</td>\n",
       "      <td>0.20</td>\n",
       "      <td>...</td>\n",
       "      <td>NaN</td>\n",
       "      <td>NaN</td>\n",
       "      <td>NaN</td>\n",
       "      <td>NaN</td>\n",
       "      <td>NaN</td>\n",
       "      <td>NaN</td>\n",
       "      <td>NaN</td>\n",
       "      <td>1.0</td>\n",
       "      <td>0.0</td>\n",
       "      <td>1</td>\n",
       "    </tr>\n",
       "    <tr>\n",
       "      <th>2</th>\n",
       "      <td>2014-03-31</td>\n",
       "      <td>1</td>\n",
       "      <td>0.25000</td>\n",
       "      <td>5</td>\n",
       "      <td>Ian Desmond</td>\n",
       "      <td>0.0</td>\n",
       "      <td>0.25000</td>\n",
       "      <td>0.25000</td>\n",
       "      <td>1.00000</td>\n",
       "      <td>0.20</td>\n",
       "      <td>...</td>\n",
       "      <td>NaN</td>\n",
       "      <td>NaN</td>\n",
       "      <td>NaN</td>\n",
       "      <td>NaN</td>\n",
       "      <td>NaN</td>\n",
       "      <td>NaN</td>\n",
       "      <td>NaN</td>\n",
       "      <td>1.0</td>\n",
       "      <td>0.0</td>\n",
       "      <td>1</td>\n",
       "    </tr>\n",
       "    <tr>\n",
       "      <th>3</th>\n",
       "      <td>2014-03-31</td>\n",
       "      <td>1</td>\n",
       "      <td>0.25000</td>\n",
       "      <td>5</td>\n",
       "      <td>Bryce Harper</td>\n",
       "      <td>0.0</td>\n",
       "      <td>0.25000</td>\n",
       "      <td>0.50000</td>\n",
       "      <td>0.50000</td>\n",
       "      <td>0.40</td>\n",
       "      <td>...</td>\n",
       "      <td>NaN</td>\n",
       "      <td>NaN</td>\n",
       "      <td>NaN</td>\n",
       "      <td>NaN</td>\n",
       "      <td>NaN</td>\n",
       "      <td>NaN</td>\n",
       "      <td>NaN</td>\n",
       "      <td>0.0</td>\n",
       "      <td>1.0</td>\n",
       "      <td>0</td>\n",
       "    </tr>\n",
       "    <tr>\n",
       "      <th>4</th>\n",
       "      <td>2014-03-31</td>\n",
       "      <td>1</td>\n",
       "      <td>0.33333</td>\n",
       "      <td>5</td>\n",
       "      <td>Adam LaRoche</td>\n",
       "      <td>1.0</td>\n",
       "      <td>1.33333</td>\n",
       "      <td>0.00000</td>\n",
       "      <td>1.00000</td>\n",
       "      <td>0.60</td>\n",
       "      <td>...</td>\n",
       "      <td>NaN</td>\n",
       "      <td>NaN</td>\n",
       "      <td>NaN</td>\n",
       "      <td>NaN</td>\n",
       "      <td>NaN</td>\n",
       "      <td>NaN</td>\n",
       "      <td>NaN</td>\n",
       "      <td>0.0</td>\n",
       "      <td>1.0</td>\n",
       "      <td>1</td>\n",
       "    </tr>\n",
       "  </tbody>\n",
       "</table>\n",
       "<p>5 rows × 261 columns</p>\n",
       "</div>"
      ],
      "text/plain": [
       "    Game_date  Games_played_to_date       BA  PA             Name  ISO  \\\n",
       "0  2014-03-31                     1  0.00000   4  Travis d'Arnaud  0.0   \n",
       "1  2014-03-31                     1  0.20000   5     Jayson Werth  0.0   \n",
       "2  2014-03-31                     1  0.25000   5      Ian Desmond  0.0   \n",
       "3  2014-03-31                     1  0.25000   5     Bryce Harper  0.0   \n",
       "4  2014-03-31                     1  0.33333   5     Adam LaRoche  1.0   \n",
       "\n",
       "       SLG    BABIP      BIP   OBP  ...  strike_percentage  \\\n",
       "0  0.00000  0.00000  0.33333  0.25  ...                NaN   \n",
       "1  0.20000  0.33333  0.60000  0.20  ...                NaN   \n",
       "2  0.25000  0.25000  1.00000  0.20  ...                NaN   \n",
       "3  0.25000  0.50000  0.50000  0.40  ...                NaN   \n",
       "4  1.33333  0.00000  1.00000  0.60  ...                NaN   \n",
       "\n",
       "   pitches_per_appearance_avg  ground_ball_percentage  fly_ball_percentage  \\\n",
       "0                         NaN                     NaN                  NaN   \n",
       "1                         NaN                     NaN                  NaN   \n",
       "2                         NaN                     NaN                  NaN   \n",
       "3                         NaN                     NaN                  NaN   \n",
       "4                         NaN                     NaN                  NaN   \n",
       "\n",
       "   strikeout_percentage  next_game_team1 next_game_team2  hitter_R%  \\\n",
       "0                   NaN              NaN             NaN        1.0   \n",
       "1                   NaN              NaN             NaN        1.0   \n",
       "2                   NaN              NaN             NaN        1.0   \n",
       "3                   NaN              NaN             NaN        0.0   \n",
       "4                   NaN              NaN             NaN        0.0   \n",
       "\n",
       "   hitter_L%  next_game_hit_vs_fp  \n",
       "0        0.0                    0  \n",
       "1        0.0                    1  \n",
       "2        0.0                    1  \n",
       "3        1.0                    0  \n",
       "4        1.0                    1  \n",
       "\n",
       "[5 rows x 261 columns]"
      ]
     },
     "execution_count": 2,
     "metadata": {},
     "output_type": "execute_result"
    }
   ],
   "source": [
    "df = pd.read_csv('merged_data.csv')\n",
    "df = df.drop(['Unnamed: 0'], axis = 1)\n",
    "df = df.drop(['Unnamed: 0.1'], axis = 1)\n",
    "df.head()"
   ]
  },
  {
   "cell_type": "code",
   "execution_count": 3,
   "metadata": {},
   "outputs": [
    {
     "data": {
      "text/plain": [
       "227"
      ]
     },
     "execution_count": 3,
     "metadata": {},
     "output_type": "execute_result"
    }
   ],
   "source": [
    "train = df._get_numeric_data()\n",
    "train.shape[1]"
   ]
  },
  {
   "cell_type": "code",
   "execution_count": 4,
   "metadata": {},
   "outputs": [
    {
     "name": "stdout",
     "output_type": "stream",
     "text": [
      "Games_played_to_date\n",
      "BA\n",
      "PA\n",
      "ISO\n",
      "SLG\n",
      "BABIP\n",
      "BIP\n",
      "OBP\n",
      "OPS\n",
      "LA_avg\n",
      "LA_median\n",
      "Walks\n",
      "next_game_HIT\n",
      "H_total_next_game\n",
      "AB_next_game\n",
      "Walks_next_game\n",
      "AB_vs_first_pitcher\n",
      "earliest_inning\n",
      "first_pitcher_faced_next_game_id\n",
      "hits_vs_first_pitcher\n",
      "BA_last_10_games\n",
      "BA_last_20_games\n",
      "BA_last_30_games\n",
      "BABIP_last_10_games\n",
      "BABIP_last_20_games\n",
      "BABIP_last_30_games\n",
      "BIP_last_10_games\n",
      "BIP_last_20_games\n",
      "BIP_last_30_games\n",
      "ISO_last_10_games\n",
      "ISO_last_20_games\n",
      "ISO_last_30_games\n",
      "LAmed_last_10_games\n",
      "LAmed_last_20_games\n",
      "LAmed_last_30_games\n",
      "OBP_last_10_games\n",
      "OBP_last_20_games\n",
      "OBP_last_30_games\n",
      "OPS_last_10_games\n",
      "OPS_last_20_games\n",
      "OPS_last_30_games\n",
      "PA_last_10_games\n",
      "PA_last_20_games\n",
      "PA_last_30_games\n",
      "SLG_last_10_games\n",
      "SLG_last_20_games\n",
      "SLG_last_30_games\n",
      "Walks_last_10_games\n",
      "Walks_last_20_games\n",
      "Walks_last_30_games\n",
      "mlbam_code\n",
      "Flare/Burner_lsa_p\n",
      "SolidContact_lsa_p\n",
      "Topped_lsa_p\n",
      "Under_lsa_p\n",
      "Barrel_lsa_p\n",
      "Weak_lsa_p\n",
      "CH_percentage_hits\n",
      "CU_percentage_hits\n",
      "EP_percentage_hits\n",
      "FA_percentage_hits\n",
      "FC_percentage_hits\n",
      "FF_percentage_hits\n",
      "FO_percentage_hits\n",
      "FS_percentage_hits\n",
      "FT_percentage_hits\n",
      "SL_percentage_hits\n",
      "KC_percentage_hits\n",
      "KN_percentage_hits\n",
      "SC_percentage_hits\n",
      "SI_percentage_hits\n",
      "pHitsByZone1\n",
      "pHitsByZone11\n",
      "pHitsByZone12\n",
      "pHitsByZone13\n",
      "pHitsByZone14\n",
      "pHitsByZone2\n",
      "pHitsByZone3\n",
      "pHitsByZone4\n",
      "pHitsByZone5\n",
      "pHitsByZone6\n",
      "pHitsByZone7\n",
      "pHitsByZone8\n",
      "pHitsByZone9\n",
      "Team 1 Score\n",
      "Team 2 Score\n",
      "Weather (Degrees)\n",
      "Wind (MPH)\n",
      "nYear\n",
      "YEAR\n",
      "RUNS\n",
      "HR\n",
      "H\n",
      "2B\n",
      "3B\n",
      "BB\n",
      "Latitude\n",
      "Longitude\n",
      "Altitude\n",
      "LF_outfield\n",
      "SLF_outfield\n",
      "LFA_outfield\n",
      "LCF_outfield\n",
      "LCC_outfield\n",
      "CF_outfield\n",
      "RCC_outfield\n",
      "RCF_outfield\n",
      "RFA_outfield\n",
      "SRF_outfield\n",
      "RF_outfield\n",
      "LF_wall\n",
      "LCF_wall\n",
      "CF_wall\n",
      "RCF_wall\n",
      "RF_wall\n",
      "Area\n",
      "Back\n",
      "RUNS_norm\n",
      "RUNS_stand\n",
      "HR_norm\n",
      "HR_stand\n",
      "H_norm\n",
      "H_stand\n",
      "2B_norm\n",
      "2B_stand\n",
      "3B_norm\n",
      "3B_stand\n",
      "BB_norm\n",
      "BB_stand\n",
      "LF_outfield_norm\n",
      "LF_outfield_stand\n",
      "SLF_outfield_norm\n",
      "SLF_outfield_stand\n",
      "LFA_outfield_norm\n",
      "LFA_outfield_stand\n",
      "LCF_outfield_norm\n",
      "LCF_outfield_stand\n",
      "LCC_outfield_norm\n",
      "LCC_outfield_stand\n",
      "CF_outfield_norm\n",
      "CF_outfield_stand\n",
      "RCC_outfield_norm\n",
      "RCC_outfield_stand\n",
      "RCF_outfield_norm\n",
      "RCF_outfield_stand\n",
      "RFA_outfield_norm\n",
      "RFA_outfield_stand\n",
      "SRF_outfield_norm\n",
      "SRF_outfield_stand\n",
      "RF_outfield_norm\n",
      "RF_outfield_stand\n",
      "LF_wall_norm\n",
      "LF_wall_stand\n",
      "LCF_wall_norm\n",
      "LCF_wall_stand\n",
      "CF_wall_norm\n",
      "CF_wall_stand\n",
      "RCF_wall_norm\n",
      "RCF_wall_stand\n",
      "RF_wall_norm\n",
      "RF_wall_stand\n",
      "Area_norm\n",
      "Area_stand\n",
      "Back_norm\n",
      "Back_stand\n",
      "Rank\n",
      "Game_Number\n",
      "Team_Game_Number\n",
      "Days_Rest\n",
      "Innings_Pitched\n",
      "Hits_Allowed\n",
      "Runs_Allowed\n",
      "Earned_Runs_Allowed\n",
      "Bases\n",
      "Strikeouts\n",
      "Home_Runs_Allowed\n",
      "Times_Hit\n",
      "ERA\n",
      "Batters_Faced\n",
      "Pitchers_in_PA\n",
      "Strikes\n",
      "Strikes_Looking\n",
      "Strikes_Swinging\n",
      "Ground_Balls\n",
      "Fly_Balls\n",
      "Line_Drives\n",
      "Pop_Ups\n",
      "Unknown_Batted_Ball_Type\n",
      "Game_Score\n",
      "Inherited_Runners\n",
      "Inherited_Score\n",
      "Stolen_Bases\n",
      "Caught_Stealing\n",
      "Pickoffs\n",
      "At_Bats\n",
      "Double_Hits_Allowed\n",
      "Triple_Hits_Allowed\n",
      "Intentional_Bases_on_Balls\n",
      "Double_Plays_Grounded_Into\n",
      "Sacrifice_Flies\n",
      "Reached_on_Errors\n",
      "Average_Leverage_Index\n",
      "Win_Probability_Added\n",
      "BaseOut_Runs_Saved\n",
      "key_mlbam\n",
      "key_fangraphs\n",
      "mlb_played_first\n",
      "mlb_played_last\n",
      "Year_y\n",
      "hip_last_three\n",
      "hip_last_five\n",
      "hip_last_ten\n",
      "hip_season\n",
      "wip_last_three\n",
      "wip_last_five\n",
      "wip_last_ten\n",
      "wip_season\n",
      "whip_season\n",
      "batters_faced_on_season\n",
      "strike_percentage\n",
      "pitches_per_appearance_avg\n",
      "ground_ball_percentage\n",
      "fly_ball_percentage\n",
      "strikeout_percentage\n",
      "hitter_R%\n",
      "hitter_L%\n",
      "next_game_hit_vs_fp\n"
     ]
    }
   ],
   "source": [
    "for i in df.columns:\n",
    "    if str(type(df.at[df[i].first_valid_index(), i])) == \"<class 'numpy.int64'>\" or str(type(df.at[df[i].first_valid_index(), i])) == \"<class 'numpy.float64'>\" or isinstance(df.at[df[i].first_valid_index(), i], int) or isinstance(df.at[df[i].first_valid_index(), i], float):\n",
    "        print (i)"
   ]
  },
  {
   "cell_type": "code",
   "execution_count": 5,
   "metadata": {},
   "outputs": [
    {
     "name": "stdout",
     "output_type": "stream",
     "text": [
      "Game_date\n",
      "Name\n",
      "next_game_date\n",
      "HomeTeam\n",
      "AwayTeam\n",
      "Date_x\n",
      "Team 1\n",
      "Team 2\n",
      "Venue\n",
      "Weather Type\n",
      "Wind Direction\n",
      "Year_x\n",
      "PARK NAME\n",
      "PARKID\n",
      "LEAGUE\n",
      "CITY\n",
      "Foul\n",
      "Pitcher_Name\n",
      "Pitcher_ID\n",
      "Date_y\n",
      "Team\n",
      "At\n",
      "Opponent\n",
      "Result\n",
      "Innings\n",
      "Decision\n",
      "Entered\n",
      "Exited\n",
      "name_last\n",
      "name_first\n",
      "key_retro\n",
      "key_bbref\n",
      "next_game_team1\n",
      "next_game_team2\n"
     ]
    }
   ],
   "source": [
    "for i in df.columns:\n",
    "    if not (str(type(df.at[df[i].first_valid_index(), i])) == \"<class 'numpy.int64'>\" or str(type(df.at[df[i].first_valid_index(), i])) == \"<class 'numpy.float64'>\" or isinstance(df.at[df[i].first_valid_index(), i], int) or isinstance(df.at[df[i].first_valid_index(), i], float)):\n",
    "        print (i)"
   ]
  },
  {
   "cell_type": "code",
   "execution_count": 6,
   "metadata": {},
   "outputs": [
    {
     "data": {
      "text/html": [
       "<div>\n",
       "<style scoped>\n",
       "    .dataframe tbody tr th:only-of-type {\n",
       "        vertical-align: middle;\n",
       "    }\n",
       "\n",
       "    .dataframe tbody tr th {\n",
       "        vertical-align: top;\n",
       "    }\n",
       "\n",
       "    .dataframe thead th {\n",
       "        text-align: right;\n",
       "    }\n",
       "</style>\n",
       "<table border=\"1\" class=\"dataframe\">\n",
       "  <thead>\n",
       "    <tr style=\"text-align: right;\">\n",
       "      <th></th>\n",
       "      <th>Games_played_to_date</th>\n",
       "      <th>BA</th>\n",
       "      <th>PA</th>\n",
       "      <th>ISO</th>\n",
       "      <th>SLG</th>\n",
       "      <th>BABIP</th>\n",
       "      <th>BIP</th>\n",
       "      <th>OBP</th>\n",
       "      <th>OPS</th>\n",
       "      <th>LA_avg</th>\n",
       "      <th>...</th>\n",
       "      <th>wip_season</th>\n",
       "      <th>whip_season</th>\n",
       "      <th>batters_faced_on_season</th>\n",
       "      <th>strike_percentage</th>\n",
       "      <th>pitches_per_appearance_avg</th>\n",
       "      <th>ground_ball_percentage</th>\n",
       "      <th>fly_ball_percentage</th>\n",
       "      <th>strikeout_percentage</th>\n",
       "      <th>hitter_R%</th>\n",
       "      <th>hitter_L%</th>\n",
       "    </tr>\n",
       "  </thead>\n",
       "  <tbody>\n",
       "    <tr>\n",
       "      <th>0</th>\n",
       "      <td>1</td>\n",
       "      <td>0.00000</td>\n",
       "      <td>4</td>\n",
       "      <td>0.0</td>\n",
       "      <td>0.00000</td>\n",
       "      <td>0.00000</td>\n",
       "      <td>0.33333</td>\n",
       "      <td>0.25</td>\n",
       "      <td>0.25000</td>\n",
       "      <td>NaN</td>\n",
       "      <td>...</td>\n",
       "      <td>NaN</td>\n",
       "      <td>NaN</td>\n",
       "      <td>NaN</td>\n",
       "      <td>NaN</td>\n",
       "      <td>NaN</td>\n",
       "      <td>NaN</td>\n",
       "      <td>NaN</td>\n",
       "      <td>NaN</td>\n",
       "      <td>1.0</td>\n",
       "      <td>0.0</td>\n",
       "    </tr>\n",
       "    <tr>\n",
       "      <th>1</th>\n",
       "      <td>1</td>\n",
       "      <td>0.20000</td>\n",
       "      <td>5</td>\n",
       "      <td>0.0</td>\n",
       "      <td>0.20000</td>\n",
       "      <td>0.33333</td>\n",
       "      <td>0.60000</td>\n",
       "      <td>0.20</td>\n",
       "      <td>0.40000</td>\n",
       "      <td>NaN</td>\n",
       "      <td>...</td>\n",
       "      <td>NaN</td>\n",
       "      <td>NaN</td>\n",
       "      <td>NaN</td>\n",
       "      <td>NaN</td>\n",
       "      <td>NaN</td>\n",
       "      <td>NaN</td>\n",
       "      <td>NaN</td>\n",
       "      <td>NaN</td>\n",
       "      <td>1.0</td>\n",
       "      <td>0.0</td>\n",
       "    </tr>\n",
       "    <tr>\n",
       "      <th>2</th>\n",
       "      <td>1</td>\n",
       "      <td>0.25000</td>\n",
       "      <td>5</td>\n",
       "      <td>0.0</td>\n",
       "      <td>0.25000</td>\n",
       "      <td>0.25000</td>\n",
       "      <td>1.00000</td>\n",
       "      <td>0.20</td>\n",
       "      <td>0.45000</td>\n",
       "      <td>NaN</td>\n",
       "      <td>...</td>\n",
       "      <td>NaN</td>\n",
       "      <td>NaN</td>\n",
       "      <td>NaN</td>\n",
       "      <td>NaN</td>\n",
       "      <td>NaN</td>\n",
       "      <td>NaN</td>\n",
       "      <td>NaN</td>\n",
       "      <td>NaN</td>\n",
       "      <td>1.0</td>\n",
       "      <td>0.0</td>\n",
       "    </tr>\n",
       "    <tr>\n",
       "      <th>3</th>\n",
       "      <td>1</td>\n",
       "      <td>0.25000</td>\n",
       "      <td>5</td>\n",
       "      <td>0.0</td>\n",
       "      <td>0.25000</td>\n",
       "      <td>0.50000</td>\n",
       "      <td>0.50000</td>\n",
       "      <td>0.40</td>\n",
       "      <td>0.65000</td>\n",
       "      <td>NaN</td>\n",
       "      <td>...</td>\n",
       "      <td>NaN</td>\n",
       "      <td>NaN</td>\n",
       "      <td>NaN</td>\n",
       "      <td>NaN</td>\n",
       "      <td>NaN</td>\n",
       "      <td>NaN</td>\n",
       "      <td>NaN</td>\n",
       "      <td>NaN</td>\n",
       "      <td>0.0</td>\n",
       "      <td>1.0</td>\n",
       "    </tr>\n",
       "    <tr>\n",
       "      <th>4</th>\n",
       "      <td>1</td>\n",
       "      <td>0.33333</td>\n",
       "      <td>5</td>\n",
       "      <td>1.0</td>\n",
       "      <td>1.33333</td>\n",
       "      <td>0.00000</td>\n",
       "      <td>1.00000</td>\n",
       "      <td>0.60</td>\n",
       "      <td>1.93333</td>\n",
       "      <td>NaN</td>\n",
       "      <td>...</td>\n",
       "      <td>NaN</td>\n",
       "      <td>NaN</td>\n",
       "      <td>NaN</td>\n",
       "      <td>NaN</td>\n",
       "      <td>NaN</td>\n",
       "      <td>NaN</td>\n",
       "      <td>NaN</td>\n",
       "      <td>NaN</td>\n",
       "      <td>0.0</td>\n",
       "      <td>1.0</td>\n",
       "    </tr>\n",
       "  </tbody>\n",
       "</table>\n",
       "<p>5 rows × 207 columns</p>\n",
       "</div>"
      ],
      "text/plain": [
       "   Games_played_to_date       BA  PA  ISO      SLG    BABIP      BIP   OBP  \\\n",
       "0                     1  0.00000   4  0.0  0.00000  0.00000  0.33333  0.25   \n",
       "1                     1  0.20000   5  0.0  0.20000  0.33333  0.60000  0.20   \n",
       "2                     1  0.25000   5  0.0  0.25000  0.25000  1.00000  0.20   \n",
       "3                     1  0.25000   5  0.0  0.25000  0.50000  0.50000  0.40   \n",
       "4                     1  0.33333   5  1.0  1.33333  0.00000  1.00000  0.60   \n",
       "\n",
       "       OPS  LA_avg  ...  wip_season  whip_season  batters_faced_on_season  \\\n",
       "0  0.25000     NaN  ...         NaN          NaN                      NaN   \n",
       "1  0.40000     NaN  ...         NaN          NaN                      NaN   \n",
       "2  0.45000     NaN  ...         NaN          NaN                      NaN   \n",
       "3  0.65000     NaN  ...         NaN          NaN                      NaN   \n",
       "4  1.93333     NaN  ...         NaN          NaN                      NaN   \n",
       "\n",
       "   strike_percentage  pitches_per_appearance_avg  ground_ball_percentage  \\\n",
       "0                NaN                         NaN                     NaN   \n",
       "1                NaN                         NaN                     NaN   \n",
       "2                NaN                         NaN                     NaN   \n",
       "3                NaN                         NaN                     NaN   \n",
       "4                NaN                         NaN                     NaN   \n",
       "\n",
       "   fly_ball_percentage  strikeout_percentage  hitter_R%  hitter_L%  \n",
       "0                  NaN                   NaN        1.0        0.0  \n",
       "1                  NaN                   NaN        1.0        0.0  \n",
       "2                  NaN                   NaN        1.0        0.0  \n",
       "3                  NaN                   NaN        0.0        1.0  \n",
       "4                  NaN                   NaN        0.0        1.0  \n",
       "\n",
       "[5 rows x 207 columns]"
      ]
     },
     "execution_count": 6,
     "metadata": {},
     "output_type": "execute_result"
    }
   ],
   "source": [
    "train = train.drop(['next_game_HIT'], axis = 1)\n",
    "train = train.drop(['H_total_next_game'], axis = 1)\n",
    "train = train.drop(['AB_next_game'], axis = 1)\n",
    "train = train.drop(['Walks_next_game'], axis = 1)\n",
    "train = train.drop(['next_game_hit_vs_fp'], axis = 1)\n",
    "train = train.drop(['hits_vs_first_pitcher'], axis = 1)\n",
    "train = train.drop(['Team 1 Score'], axis = 1)\n",
    "train = train.drop(['Team 2 Score'], axis = 1)\n",
    "train = train.drop(['Game_Score'], axis = 1)\n",
    "train = train.drop(['Inherited_Score'], axis = 1)\n",
    "train = train.drop(['key_fangraphs'], axis = 1)\n",
    "train = train.drop(['first_pitcher_faced_next_game_id'], axis = 1)\n",
    "train = train.drop(['YEAR'], axis = 1)\n",
    "train = train.drop(['nYear'], axis = 1)\n",
    "train = train.drop(['Year_y'], axis = 1)\n",
    "train = train.drop(['key_mlbam'], axis = 1)\n",
    "train = train.drop(['mlb_played_first'], axis = 1)\n",
    "train = train.drop(['mlb_played_last'], axis = 1)\n",
    "train = train.drop(['Game_Number'], axis = 1)\n",
    "train = train.drop(['Team_Game_Number'], axis = 1)\n",
    "test = df['next_game_HIT']\n",
    "train.head()"
   ]
  },
  {
   "cell_type": "code",
   "execution_count": 7,
   "metadata": {},
   "outputs": [],
   "source": [
    "train = train.join(pd.get_dummies(df['Weather Type'], prefix = 'Weather'))\n",
    "train = train.join(pd.get_dummies(df['Wind Direction'], prefix = 'Wind'))\n",
    "train = train.join(pd.get_dummies(df['PARKID'], prefix = 'Park'))"
   ]
  },
  {
   "cell_type": "code",
   "execution_count": 8,
   "metadata": {},
   "outputs": [
    {
     "name": "stdout",
     "output_type": "stream",
     "text": [
      "BA_last_30_games\n",
      "BABIP_last_30_games\n",
      "BIP_last_30_games\n",
      "ISO_last_30_games\n",
      "LAmed_last_20_games\n",
      "LAmed_last_30_games\n",
      "OBP_last_30_games\n",
      "OPS_last_30_games\n",
      "PA_last_30_games\n",
      "SLG_last_30_games\n",
      "Walks_last_30_games\n",
      "EP_percentage_hits\n",
      "FA_percentage_hits\n",
      "FO_percentage_hits\n",
      "FS_percentage_hits\n",
      "KC_percentage_hits\n",
      "KN_percentage_hits\n",
      "SC_percentage_hits\n",
      "pHitsByZone11\n",
      "pHitsByZone12\n",
      "pHitsByZone3\n",
      "Inherited_Runners\n",
      "hip_last_ten\n",
      "wip_last_ten\n"
     ]
    }
   ],
   "source": [
    "for i in train.columns:    \n",
    "    if (train.shape[0] - train[i].count()) / train.shape[0] > .3:\n",
    "        print (i)\n",
    "        train = train.drop([i], axis = 1)"
   ]
  },
  {
   "cell_type": "code",
   "execution_count": 9,
   "metadata": {},
   "outputs": [],
   "source": [
    "for i in train.columns:\n",
    "    if len(train[i].unique()) > 2:\n",
    "        train[i] = train[i].fillna(train[i].median())\n",
    "    else:\n",
    "        train[i] = train[i].fillna(train[i].mode()[0])"
   ]
  },
  {
   "cell_type": "code",
   "execution_count": 10,
   "metadata": {},
   "outputs": [
    {
     "data": {
      "text/plain": [
       "<matplotlib.axes._subplots.AxesSubplot at 0x263bc83f708>"
      ]
     },
     "execution_count": 10,
     "metadata": {},
     "output_type": "execute_result"
    },
    {
     "data": {
      "image/png": "[encoded data removed]",
      "text/plain": [
       "<Figure size 432x288 with 2 Axes>"
      ]
     },
     "metadata": {
      "needs_background": "light"
     },
     "output_type": "display_data"
    }
   ],
   "source": [
    "corr = train.corr()\n",
    "sns.heatmap(corr)"
   ]
  },
  {
   "cell_type": "code",
   "execution_count": 11,
   "metadata": {},
   "outputs": [],
   "source": [
    "#VIF better for collinearity\n",
    "columns = np.full((corr.shape[0],), True, dtype=bool)\n",
    "for i in range(corr.shape[0]):\n",
    "    for j in range(i+1, corr.shape[0]):\n",
    "        if abs(corr.iloc[i,j]) >= 0.9:\n",
    "            if columns[j]:\n",
    "                columns[j] = False\n",
    "selected_columns = train.columns[columns]\n",
    "train = train[selected_columns]"
   ]
  },
  {
   "cell_type": "code",
   "execution_count": 12,
   "metadata": {},
   "outputs": [],
   "source": [
    "def get_accuracy(predictions):\n",
    "    acc = []\n",
    "    predictions = [float(i) for i in predictions]\n",
    "    comparison = pd.DataFrame({\"Real\" : y_test.iloc[:,0], \"Predictions\" : predictions})\n",
    "    comparison = comparison.reset_index()\n",
    "    comparison = comparison.drop(['index'], axis=1)\n",
    "    correct = 0\n",
    "    for i in range(len(comparison)):\n",
    "        if comparison.at[i, 'Real'] == comparison.at[i, 'Predictions']:\n",
    "            correct += 1\n",
    "    acc.append(correct / len(comparison))\n",
    "    false = comparison[comparison['Real'] != comparison['Predictions']]\n",
    "    false = false.reset_index()\n",
    "    false = false.drop(['index'], axis = 1)\n",
    "    falsePositive = 0\n",
    "    if len(false) == 0:\n",
    "        acc.append(falsePositive)\n",
    "    else:\n",
    "        for i in range(len(false)):\n",
    "            if false.at[i, 'Real'] == 0:\n",
    "                falsePositive += 1\n",
    "        acc.append(falsePositive / len(false))\n",
    "    return acc"
   ]
  },
  {
   "cell_type": "code",
   "execution_count": 13,
   "metadata": {},
   "outputs": [],
   "source": [
    "from sklearn.model_selection import train_test_split\n",
    "from sklearn import preprocessing\n",
    "\n",
    "columns = train.columns\n",
    "train = preprocessing.normalize(train)\n",
    "train = pd.DataFrame(train, columns = columns)\n",
    "test = pd.DataFrame(test)\n",
    "\n",
    "X, y = train, test\n",
    "X_train, X_test, y_train, y_test = train_test_split(X, y, test_size=0.20, shuffle=False)"
   ]
  },
  {
   "cell_type": "code",
   "execution_count": 14,
   "metadata": {},
   "outputs": [
    {
     "name": "stdout",
     "output_type": "stream",
     "text": [
      "Accuracy: 0.6379042288557214 False Positive: 1.0\n"
     ]
    }
   ],
   "source": [
    "from sklearn.linear_model import LogisticRegression\n",
    "\n",
    "logreg = LogisticRegression()\n",
    "logreg.fit(X_train, y_train.values.ravel())\n",
    "predictions = logreg.predict(X_test)\n",
    "acc = get_accuracy(predictions)\n",
    "print ('Accuracy: ' + str(acc[0]) + ' False Positive: ' + str(acc[1]))"
   ]
  },
  {
   "cell_type": "code",
   "execution_count": 15,
   "metadata": {},
   "outputs": [
    {
     "data": {
      "text/plain": [
       "<matplotlib.axes._subplots.AxesSubplot at 0x263bd955a48>"
      ]
     },
     "execution_count": 15,
     "metadata": {},
     "output_type": "execute_result"
    },
    {
     "data": {
      "image/png": "[encoded data removed]",
      "text/plain": [
       "<Figure size 432x288 with 1 Axes>"
      ]
     },
     "metadata": {
      "needs_background": "light"
     },
     "output_type": "display_data"
    }
   ],
   "source": [
    "feat_importances = pd.Series(logreg.coef_[0], index=train.columns)\n",
    "feat_importances.nlargest(10).plot(kind='barh')"
   ]
  },
  {
   "cell_type": "code",
   "execution_count": 16,
   "metadata": {},
   "outputs": [
    {
     "data": {
      "text/plain": [
       "<matplotlib.axes._subplots.AxesSubplot at 0x263bdb5a8c8>"
      ]
     },
     "execution_count": 16,
     "metadata": {},
     "output_type": "execute_result"
    },
    {
     "data": {
      "image/png": "[encoded data removed]",
      "text/plain": [
       "<Figure size 432x288 with 1 Axes>"
      ]
     },
     "metadata": {
      "needs_background": "light"
     },
     "output_type": "display_data"
    }
   ],
   "source": [
    "feat_importances.nlargest(len(feat_importances)).plot(kind='line')"
   ]
  },
  {
   "cell_type": "code",
   "execution_count": 17,
   "metadata": {},
   "outputs": [
    {
     "name": "stdout",
     "output_type": "stream",
     "text": [
      "Accuracy: 0.6342506218905473 False Positive: 0.9024442082890543\n"
     ]
    }
   ],
   "source": [
    "from sklearn.ensemble import RandomForestClassifier\n",
    "\n",
    "clf = RandomForestClassifier()\n",
    "clf.fit(X_train, y_train.values.ravel())\n",
    "predictions = clf.predict(X_test)\n",
    "acc = get_accuracy(predictions)\n",
    "print ('Accuracy: ' + str(acc[0]) + ' False Positive: ' + str(acc[1]))"
   ]
  },
  {
   "cell_type": "code",
   "execution_count": 18,
   "metadata": {},
   "outputs": [
    {
     "data": {
      "text/plain": [
       "<matplotlib.axes._subplots.AxesSubplot at 0x263e7f57288>"
      ]
     },
     "execution_count": 18,
     "metadata": {},
     "output_type": "execute_result"
    },
    {
     "data": {
      "image/png": "[encoded data removed]",
      "text/plain": [
       "<Figure size 432x288 with 1 Axes>"
      ]
     },
     "metadata": {
      "needs_background": "light"
     },
     "output_type": "display_data"
    }
   ],
   "source": [
    "feat_importances = pd.Series(clf.feature_importances_, index=train.columns)\n",
    "feat_importances.nlargest(10).plot(kind='barh')"
   ]
  },
  {
   "cell_type": "code",
   "execution_count": 19,
   "metadata": {},
   "outputs": [
    {
     "data": {
      "text/plain": [
       "<matplotlib.axes._subplots.AxesSubplot at 0x263e7f8b208>"
      ]
     },
     "execution_count": 19,
     "metadata": {},
     "output_type": "execute_result"
    },
    {
     "data": {
      "image/png": "[encoded data removed]",
      "text/plain": [
       "<Figure size 432x288 with 1 Axes>"
      ]
     },
     "metadata": {
      "needs_background": "light"
     },
     "output_type": "display_data"
    }
   ],
   "source": [
    "feat_importances.nlargest(len(feat_importances)).plot(kind='line')"
   ]
  },
  {
   "cell_type": "code",
   "execution_count": 20,
   "metadata": {},
   "outputs": [
    {
     "name": "stdout",
     "output_type": "stream",
     "text": [
      "Accuracy: 0.6379042288557214 False Positive: 1.0\n"
     ]
    }
   ],
   "source": [
    "#rbf svc too slow to train\n",
    "from sklearn.svm import LinearSVC\n",
    "\n",
    "linsvc=LinearSVC()\n",
    "linsvc.fit(X_train, y_train.values.ravel())\n",
    "predictions = linsvc.predict(X_test)\n",
    "acc = get_accuracy(predictions)\n",
    "print ('Accuracy: ' + str(acc[0]) + ' False Positive: ' + str(acc[1]))"
   ]
  },
  {
   "cell_type": "code",
   "execution_count": 21,
   "metadata": {},
   "outputs": [
    {
     "data": {
      "text/plain": [
       "<matplotlib.axes._subplots.AxesSubplot at 0x263e8183d88>"
      ]
     },
     "execution_count": 21,
     "metadata": {},
     "output_type": "execute_result"
    },
    {
     "data": {
      "image/png": "[encoded data removed]",
      "text/plain": [
       "<Figure size 432x288 with 1 Axes>"
      ]
     },
     "metadata": {
      "needs_background": "light"
     },
     "output_type": "display_data"
    }
   ],
   "source": [
    "feat_importances = pd.Series(linsvc.coef_[0], index=train.columns)\n",
    "feat_importances.nlargest(10).plot(kind='barh')"
   ]
  },
  {
   "cell_type": "code",
   "execution_count": 22,
   "metadata": {},
   "outputs": [
    {
     "data": {
      "text/plain": [
       "<matplotlib.axes._subplots.AxesSubplot at 0x263e803bfc8>"
      ]
     },
     "execution_count": 22,
     "metadata": {},
     "output_type": "execute_result"
    },
    {
     "data": {
      "image/png": "[encoded data removed]",
      "text/plain": [
       "<Figure size 432x288 with 1 Axes>"
      ]
     },
     "metadata": {
      "needs_background": "light"
     },
     "output_type": "display_data"
    }
   ],
   "source": [
    "feat_importances.nlargest(len(feat_importances)).plot(kind='line')"
   ]
  },
  {
   "cell_type": "code",
   "execution_count": 23,
   "metadata": {},
   "outputs": [
    {
     "name": "stdout",
     "output_type": "stream",
     "text": [
      "Percentile: 1, Accuracy: 0.6379042288557214, False Positive: 1.0, X_train: 154364, 2, X_test: 38592, 2\n",
      "Percentile: 3, Accuracy: 0.6379042288557214, False Positive: 1.0, X_train: 154364, 6, X_test: 38592, 6\n",
      "Percentile: 6, Accuracy: 0.6379042288557214, False Positive: 1.0, X_train: 154364, 11, X_test: 38592, 11\n",
      "Percentile: 10, Accuracy: 0.6379042288557214, False Positive: 1.0, X_train: 154364, 17, X_test: 38592, 17\n",
      "Percentile: 15, Accuracy: 0.6379042288557214, False Positive: 1.0, X_train: 154364, 26, X_test: 38592, 26\n",
      "Percentile: 20, Accuracy: 0.6379042288557214, False Positive: 1.0, X_train: 154364, 34, X_test: 38592, 34\n",
      "Percentile: 30, Accuracy: 0.6379042288557214, False Positive: 1.0, X_train: 154364, 52, X_test: 38592, 52\n",
      "Percentile: 40, Accuracy: 0.6379042288557214, False Positive: 1.0, X_train: 154364, 68, X_test: 38592, 68\n",
      "Percentile: 60, Accuracy: 0.6379042288557214, False Positive: 1.0, X_train: 154364, 102, X_test: 38592, 102\n",
      "Percentile: 80, Accuracy: 0.6379042288557214, False Positive: 1.0, X_train: 154364, 136, X_test: 38592, 136\n",
      "Percentile: 100, Accuracy: 0.6379042288557214, False Positive: 1.0, X_train: 154364, 171, X_test: 38592, 171\n"
     ]
    }
   ],
   "source": [
    "from sklearn.feature_selection import SelectPercentile\n",
    "from sklearn.feature_selection import f_classif\n",
    "from sklearn.linear_model import LogisticRegression\n",
    "\n",
    "percentiles = [1, 3, 6, 10, 15, 20, 30, 40, 60, 80, 100]\n",
    "\n",
    "for i in percentiles:\n",
    "    \n",
    "    fs = SelectPercentile(score_func=f_classif, percentile=i)\n",
    "    fs.fit_transform(X_train, y_train.values.ravel())\n",
    "    X_train_fs = fs.transform(X_train)\n",
    "    X_test_fs = fs.transform(X_test)\n",
    "    \n",
    "    logreg = LogisticRegression()\n",
    "    logreg.fit(X_train_fs, y_train.values.ravel())\n",
    "    predictions = logreg.predict(X_test_fs)\n",
    "    acc = get_accuracy(predictions)\n",
    "    print ('Percentile: ' + str(i) + ', Accuracy: ' + str(acc[0]) + ', False Positive: ' + str(acc[1]) + ', X_train: ' + str(X_train_fs.shape[0]) + ', ' + str(X_train_fs.shape[1]) + ', X_test: ' + str(X_test_fs.shape[0]) + ', ' + str(X_test_fs.shape[1]))"
   ]
  },
  {
   "cell_type": "code",
   "execution_count": 24,
   "metadata": {},
   "outputs": [],
   "source": [
    "train = train.join(df['Name'])\n",
    "train = train.join(df['next_game_HIT'])\n",
    "names = train['Name'].unique().tolist()\n",
    "temp = train['Name'].value_counts().to_frame()\n",
    "temp = temp.reset_index()\n",
    "temp.columns = ['Name', 'Count']\n",
    "for i in range(len(temp)):\n",
    "    if temp.at[i, 'Count'] < 30:\n",
    "        names.remove(temp.at[i, 'Name'])"
   ]
  },
  {
   "cell_type": "code",
   "execution_count": 25,
   "metadata": {},
   "outputs": [
    {
     "data": {
      "text/plain": [
       "300"
      ]
     },
     "execution_count": 25,
     "metadata": {},
     "output_type": "execute_result"
    }
   ],
   "source": [
    "len(df['Name'].unique()) - len(names)"
   ]
  },
  {
   "cell_type": "code",
   "execution_count": 29,
   "metadata": {},
   "outputs": [
    {
     "data": {
      "text/plain": [
       "0.7169811320754716"
      ]
     },
     "execution_count": 29,
     "metadata": {},
     "output_type": "execute_result"
    }
   ],
   "source": [
    "len(names) / len(df['Name'].unique()) "
   ]
  },
  {
   "cell_type": "code",
   "execution_count": 26,
   "metadata": {},
   "outputs": [
    {
     "data": {
      "text/html": [
       "<div>\n",
       "<style scoped>\n",
       "    .dataframe tbody tr th:only-of-type {\n",
       "        vertical-align: middle;\n",
       "    }\n",
       "\n",
       "    .dataframe tbody tr th {\n",
       "        vertical-align: top;\n",
       "    }\n",
       "\n",
       "    .dataframe thead th {\n",
       "        text-align: right;\n",
       "    }\n",
       "</style>\n",
       "<table border=\"1\" class=\"dataframe\">\n",
       "  <thead>\n",
       "    <tr style=\"text-align: right;\">\n",
       "      <th></th>\n",
       "      <th>Name</th>\n",
       "      <th>Samples</th>\n",
       "      <th>LRacc</th>\n",
       "      <th>LRfp</th>\n",
       "      <th>RFacc</th>\n",
       "      <th>RFfp</th>\n",
       "      <th>LSVCacc</th>\n",
       "      <th>LSVCfp</th>\n",
       "    </tr>\n",
       "  </thead>\n",
       "  <tbody>\n",
       "    <tr>\n",
       "      <th>0</th>\n",
       "      <td>Travis d'Arnaud</td>\n",
       "      <td>365.0</td>\n",
       "      <td>0.726027</td>\n",
       "      <td>1.0</td>\n",
       "      <td>0.712329</td>\n",
       "      <td>0.714286</td>\n",
       "      <td>0.726027</td>\n",
       "      <td>1.0</td>\n",
       "    </tr>\n",
       "    <tr>\n",
       "      <th>1</th>\n",
       "      <td>Jayson Werth</td>\n",
       "      <td>376.0</td>\n",
       "      <td>0.618421</td>\n",
       "      <td>1.0</td>\n",
       "      <td>0.605263</td>\n",
       "      <td>0.866667</td>\n",
       "      <td>0.618421</td>\n",
       "      <td>1.0</td>\n",
       "    </tr>\n",
       "    <tr>\n",
       "      <th>2</th>\n",
       "      <td>Ian Desmond</td>\n",
       "      <td>649.0</td>\n",
       "      <td>0.669231</td>\n",
       "      <td>1.0</td>\n",
       "      <td>0.630769</td>\n",
       "      <td>0.770833</td>\n",
       "      <td>0.669231</td>\n",
       "      <td>1.0</td>\n",
       "    </tr>\n",
       "    <tr>\n",
       "      <th>3</th>\n",
       "      <td>Bryce Harper</td>\n",
       "      <td>728.0</td>\n",
       "      <td>0.623288</td>\n",
       "      <td>1.0</td>\n",
       "      <td>0.636986</td>\n",
       "      <td>0.943396</td>\n",
       "      <td>0.623288</td>\n",
       "      <td>1.0</td>\n",
       "    </tr>\n",
       "    <tr>\n",
       "      <th>4</th>\n",
       "      <td>Adam LaRoche</td>\n",
       "      <td>198.0</td>\n",
       "      <td>0.600000</td>\n",
       "      <td>1.0</td>\n",
       "      <td>0.650000</td>\n",
       "      <td>0.857143</td>\n",
       "      <td>0.600000</td>\n",
       "      <td>1.0</td>\n",
       "    </tr>\n",
       "  </tbody>\n",
       "</table>\n",
       "</div>"
      ],
      "text/plain": [
       "              Name  Samples     LRacc  LRfp     RFacc      RFfp   LSVCacc  \\\n",
       "0  Travis d'Arnaud    365.0  0.726027   1.0  0.712329  0.714286  0.726027   \n",
       "1     Jayson Werth    376.0  0.618421   1.0  0.605263  0.866667  0.618421   \n",
       "2      Ian Desmond    649.0  0.669231   1.0  0.630769  0.770833  0.669231   \n",
       "3     Bryce Harper    728.0  0.623288   1.0  0.636986  0.943396  0.623288   \n",
       "4     Adam LaRoche    198.0  0.600000   1.0  0.650000  0.857143  0.600000   \n",
       "\n",
       "   LSVCfp  \n",
       "0     1.0  \n",
       "1     1.0  \n",
       "2     1.0  \n",
       "3     1.0  \n",
       "4     1.0  "
      ]
     },
     "execution_count": 26,
     "metadata": {},
     "output_type": "execute_result"
    }
   ],
   "source": [
    "players = pd.DataFrame()\n",
    "\n",
    "count = 0\n",
    "\n",
    "for name in names:\n",
    "    \n",
    "    players.at[count, 'Name'] = name\n",
    "    \n",
    "    train2 = train[train['Name'] == name]\n",
    "    train2 = train2.drop(['Name'], axis = 1)\n",
    "    test2 = train2['next_game_HIT']\n",
    "    train2 = train2.drop(['next_game_HIT'], axis = 1)\n",
    "    \n",
    "    players.at[count, 'Samples'] = train2.shape[0]\n",
    "    \n",
    "    from sklearn.model_selection import train_test_split\n",
    "    from sklearn import preprocessing\n",
    "\n",
    "    columns = train2.columns\n",
    "    train2 = preprocessing.normalize(train2)\n",
    "    train2 = pd.DataFrame(train2, columns = columns)\n",
    "    test2 = pd.DataFrame(test2)\n",
    "\n",
    "    X, y = train2, test2\n",
    "    X_train, X_test, y_train, y_test = train_test_split(X, y, test_size=0.20, shuffle=False)\n",
    "\n",
    "    from sklearn.linear_model import LogisticRegression\n",
    "    logreg = LogisticRegression()\n",
    "    logreg.fit(X_train, y_train.values.ravel())\n",
    "    predictions = logreg.predict(X_test)\n",
    "    acc = get_accuracy(predictions)\n",
    "    players.at[count, 'LRacc'] = acc[0]\n",
    "    players.at[count, 'LRfp'] = acc[1]\n",
    "    \n",
    "    from sklearn.ensemble import RandomForestClassifier\n",
    "    clf = RandomForestClassifier()\n",
    "    clf.fit(X_train, y_train.values.ravel())\n",
    "    predictions = clf.predict(X_test)\n",
    "    acc = get_accuracy(predictions)\n",
    "    players.at[count, 'RFacc'] = acc[0]\n",
    "    players.at[count, 'RFfp'] = acc[1]\n",
    "               \n",
    "        \n",
    "    from sklearn.svm import LinearSVC\n",
    "    linsvc = LinearSVC()\n",
    "    linsvc.fit(X_train, y_train.values.ravel())\n",
    "    predictions = linsvc.predict(X_test)\n",
    "    acc = get_accuracy(predictions)\n",
    "    players.at[count, 'LSVCacc'] = acc[0]\n",
    "    players.at[count, 'LSVCfp'] = acc[1]\n",
    "    \n",
    "    count += 1\n",
    "               \n",
    "players.head()"
   ]
  },
  {
   "cell_type": "code",
   "execution_count": 27,
   "metadata": {},
   "outputs": [
    {
     "name": "stdout",
     "output_type": "stream",
     "text": [
      "LR: 0.603004733763203, 0.9235502819548872\n",
      "RF: 0.5883373011137052, 0.7133410990572869\n",
      "LSVC: 0.602942077121599, 0.9204581766917292\n"
     ]
    }
   ],
   "source": [
    "print ('LR: ' + str(players['LRacc'].mean()) + ', ' + str(players['LRfp'].mean()))\n",
    "print ('RF: ' + str(players['RFacc'].mean()) + ', ' + str(players['RFfp'].mean()))\n",
    "print ('LSVC: ' + str(players['LSVCacc'].mean()) + ', ' + str(players['LSVCfp'].mean()))"
   ]
  },
  {
   "cell_type": "code",
   "execution_count": null,
   "metadata": {},
   "outputs": [],
   "source": []
  }
 ],
 "metadata": {
  "kernelspec": {
   "display_name": "Python 3",
   "language": "python",
   "name": "python3"
  },
  "language_info": {
   "codemirror_mode": {
    "name": "ipython",
    "version": 3
   },
   "file_extension": ".py",
   "mimetype": "text/x-python",
   "name": "python",
   "nbconvert_exporter": "python",
   "pygments_lexer": "ipython3",
   "version": "3.7.6"
  }
 },
 "nbformat": 4,
 "nbformat_minor": 4
}

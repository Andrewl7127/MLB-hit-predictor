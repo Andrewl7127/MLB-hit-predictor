{
 "cells": [
  {
   "cell_type": "code",
   "execution_count": 2,
   "metadata": {},
   "outputs": [],
   "source": [
    "import numpy as np\n",
    "import seaborn as sns\n",
    "import matplotlib.pyplot as plt\n",
    "import pandas as pd\n",
    "import statsmodels.api as sm"
   ]
  },
  {
   "cell_type": "code",
   "execution_count": 3,
   "metadata": {},
   "outputs": [
    {
     "data": {
      "text/html": [
       "<div>\n",
       "<style scoped>\n",
       "    .dataframe tbody tr th:only-of-type {\n",
       "        vertical-align: middle;\n",
       "    }\n",
       "\n",
       "    .dataframe tbody tr th {\n",
       "        vertical-align: top;\n",
       "    }\n",
       "\n",
       "    .dataframe thead th {\n",
       "        text-align: right;\n",
       "    }\n",
       "</style>\n",
       "<table border=\"1\" class=\"dataframe\">\n",
       "  <thead>\n",
       "    <tr style=\"text-align: right;\">\n",
       "      <th></th>\n",
       "      <th>Date</th>\n",
       "      <th>Home</th>\n",
       "      <th>Away</th>\n",
       "      <th>Home Score</th>\n",
       "      <th>Away Score</th>\n",
       "      <th>Venue</th>\n",
       "      <th>Weather (Degrees)</th>\n",
       "      <th>Weather Type</th>\n",
       "      <th>Wind (MPH)</th>\n",
       "      <th>Wind Direction</th>\n",
       "    </tr>\n",
       "  </thead>\n",
       "  <tbody>\n",
       "    <tr>\n",
       "      <th>0</th>\n",
       "      <td>2014-03-22</td>\n",
       "      <td>D-backs</td>\n",
       "      <td>Dodgers</td>\n",
       "      <td>1</td>\n",
       "      <td>3</td>\n",
       "      <td>Sydney Cricket Ground</td>\n",
       "      <td>75</td>\n",
       "      <td>Overcast</td>\n",
       "      <td>5</td>\n",
       "      <td>Varies</td>\n",
       "    </tr>\n",
       "    <tr>\n",
       "      <th>1</th>\n",
       "      <td>2014-03-22</td>\n",
       "      <td>D-backs</td>\n",
       "      <td>Dodgers</td>\n",
       "      <td>5</td>\n",
       "      <td>7</td>\n",
       "      <td>Sydney Cricket Ground</td>\n",
       "      <td>79</td>\n",
       "      <td>Partly Cloudy</td>\n",
       "      <td>5</td>\n",
       "      <td>Varies</td>\n",
       "    </tr>\n",
       "    <tr>\n",
       "      <th>2</th>\n",
       "      <td>2014-03-30</td>\n",
       "      <td>Dodgers</td>\n",
       "      <td>Padres</td>\n",
       "      <td>1</td>\n",
       "      <td>3</td>\n",
       "      <td>Petco Park</td>\n",
       "      <td>67</td>\n",
       "      <td>Clear</td>\n",
       "      <td>11</td>\n",
       "      <td>L To R</td>\n",
       "    </tr>\n",
       "    <tr>\n",
       "      <th>3</th>\n",
       "      <td>2014-03-31</td>\n",
       "      <td>Cubs</td>\n",
       "      <td>Pirates</td>\n",
       "      <td>0</td>\n",
       "      <td>1</td>\n",
       "      <td>PNC Park</td>\n",
       "      <td>54</td>\n",
       "      <td>Sunny</td>\n",
       "      <td>2</td>\n",
       "      <td>Out To CF</td>\n",
       "    </tr>\n",
       "    <tr>\n",
       "      <th>4</th>\n",
       "      <td>2014-03-31</td>\n",
       "      <td>Royals</td>\n",
       "      <td>Tigers</td>\n",
       "      <td>3</td>\n",
       "      <td>4</td>\n",
       "      <td>Comerica Park</td>\n",
       "      <td>52</td>\n",
       "      <td>Sunny</td>\n",
       "      <td>4</td>\n",
       "      <td>In From CF</td>\n",
       "    </tr>\n",
       "  </tbody>\n",
       "</table>\n",
       "</div>"
      ],
      "text/plain": [
       "         Date     Home     Away  Home Score  Away Score  \\\n",
       "0  2014-03-22  D-backs  Dodgers           1           3   \n",
       "1  2014-03-22  D-backs  Dodgers           5           7   \n",
       "2  2014-03-30  Dodgers   Padres           1           3   \n",
       "3  2014-03-31     Cubs  Pirates           0           1   \n",
       "4  2014-03-31   Royals   Tigers           3           4   \n",
       "\n",
       "                   Venue  Weather (Degrees)   Weather Type  Wind (MPH)  \\\n",
       "0  Sydney Cricket Ground                 75       Overcast           5   \n",
       "1  Sydney Cricket Ground                 79  Partly Cloudy           5   \n",
       "2             Petco Park                 67          Clear          11   \n",
       "3               PNC Park                 54          Sunny           2   \n",
       "4          Comerica Park                 52          Sunny           4   \n",
       "\n",
       "  Wind Direction  \n",
       "0         Varies  \n",
       "1         Varies  \n",
       "2         L To R  \n",
       "3      Out To CF  \n",
       "4     In From CF  "
      ]
     },
     "execution_count": 3,
     "metadata": {},
     "output_type": "execute_result"
    }
   ],
   "source": [
    "df = pd.read_csv('weather.csv')\n",
    "df.head()"
   ]
  },
  {
   "cell_type": "code",
   "execution_count": 4,
   "metadata": {},
   "outputs": [
    {
     "data": {
      "text/html": [
       "<div>\n",
       "<style scoped>\n",
       "    .dataframe tbody tr th:only-of-type {\n",
       "        vertical-align: middle;\n",
       "    }\n",
       "\n",
       "    .dataframe tbody tr th {\n",
       "        vertical-align: top;\n",
       "    }\n",
       "\n",
       "    .dataframe thead th {\n",
       "        text-align: right;\n",
       "    }\n",
       "</style>\n",
       "<table border=\"1\" class=\"dataframe\">\n",
       "  <thead>\n",
       "    <tr style=\"text-align: right;\">\n",
       "      <th></th>\n",
       "      <th>Venue</th>\n",
       "      <th>Weather (Degrees)</th>\n",
       "      <th>Wind (MPH)</th>\n",
       "    </tr>\n",
       "  </thead>\n",
       "  <tbody>\n",
       "    <tr>\n",
       "      <th>0</th>\n",
       "      <td>AT&amp;T Park</td>\n",
       "      <td>63.983827</td>\n",
       "      <td>12.797844</td>\n",
       "    </tr>\n",
       "    <tr>\n",
       "      <th>1</th>\n",
       "      <td>Angel Stadium</td>\n",
       "      <td>74.318750</td>\n",
       "      <td>7.825000</td>\n",
       "    </tr>\n",
       "    <tr>\n",
       "      <th>2</th>\n",
       "      <td>Angel Stadium of Anaheim</td>\n",
       "      <td>75.812500</td>\n",
       "      <td>7.197917</td>\n",
       "    </tr>\n",
       "    <tr>\n",
       "      <th>3</th>\n",
       "      <td>BB&amp;T Ballpark</td>\n",
       "      <td>75.666667</td>\n",
       "      <td>4.333333</td>\n",
       "    </tr>\n",
       "    <tr>\n",
       "      <th>4</th>\n",
       "      <td>Busch Stadium</td>\n",
       "      <td>78.168122</td>\n",
       "      <td>8.058952</td>\n",
       "    </tr>\n",
       "  </tbody>\n",
       "</table>\n",
       "</div>"
      ],
      "text/plain": [
       "                      Venue  Weather (Degrees)  Wind (MPH)\n",
       "0                 AT&T Park          63.983827   12.797844\n",
       "1             Angel Stadium          74.318750    7.825000\n",
       "2  Angel Stadium of Anaheim          75.812500    7.197917\n",
       "3             BB&T Ballpark          75.666667    4.333333\n",
       "4             Busch Stadium          78.168122    8.058952"
      ]
     },
     "execution_count": 4,
     "metadata": {},
     "output_type": "execute_result"
    }
   ],
   "source": [
    "df = df[['Venue', 'Weather (Degrees)', 'Wind (MPH)']]\n",
    "df = df.groupby('Venue').mean()\n",
    "df = df.reset_index()\n",
    "df.head()"
   ]
  },
  {
   "cell_type": "code",
   "execution_count": 5,
   "metadata": {},
   "outputs": [
    {
     "data": {
      "text/html": [
       "<div>\n",
       "<style scoped>\n",
       "    .dataframe tbody tr th:only-of-type {\n",
       "        vertical-align: middle;\n",
       "    }\n",
       "\n",
       "    .dataframe tbody tr th {\n",
       "        vertical-align: top;\n",
       "    }\n",
       "\n",
       "    .dataframe thead th {\n",
       "        text-align: right;\n",
       "    }\n",
       "</style>\n",
       "<table border=\"1\" class=\"dataframe\">\n",
       "  <thead>\n",
       "    <tr style=\"text-align: right;\">\n",
       "      <th></th>\n",
       "      <th>PARK NAME</th>\n",
       "      <th>RUNS</th>\n",
       "      <th>HR</th>\n",
       "      <th>H</th>\n",
       "      <th>2B</th>\n",
       "      <th>3B</th>\n",
       "    </tr>\n",
       "  </thead>\n",
       "  <tbody>\n",
       "    <tr>\n",
       "      <th>0</th>\n",
       "      <td>Angel Stadium</td>\n",
       "      <td>0.937667</td>\n",
       "      <td>1.000667</td>\n",
       "      <td>0.963667</td>\n",
       "      <td>0.913333</td>\n",
       "      <td>0.673833</td>\n",
       "    </tr>\n",
       "    <tr>\n",
       "      <th>1</th>\n",
       "      <td>Busch Stadium</td>\n",
       "      <td>0.947333</td>\n",
       "      <td>0.876667</td>\n",
       "      <td>0.988167</td>\n",
       "      <td>0.974667</td>\n",
       "      <td>0.953333</td>\n",
       "    </tr>\n",
       "    <tr>\n",
       "      <th>2</th>\n",
       "      <td>Chase Field</td>\n",
       "      <td>1.112833</td>\n",
       "      <td>1.067833</td>\n",
       "      <td>1.058333</td>\n",
       "      <td>1.124500</td>\n",
       "      <td>1.792667</td>\n",
       "    </tr>\n",
       "    <tr>\n",
       "      <th>3</th>\n",
       "      <td>Citi Field</td>\n",
       "      <td>0.864167</td>\n",
       "      <td>0.954333</td>\n",
       "      <td>0.887667</td>\n",
       "      <td>0.865500</td>\n",
       "      <td>0.664167</td>\n",
       "    </tr>\n",
       "    <tr>\n",
       "      <th>4</th>\n",
       "      <td>Citizens Bank Park</td>\n",
       "      <td>0.994833</td>\n",
       "      <td>1.212000</td>\n",
       "      <td>0.980333</td>\n",
       "      <td>0.912333</td>\n",
       "      <td>0.884000</td>\n",
       "    </tr>\n",
       "  </tbody>\n",
       "</table>\n",
       "</div>"
      ],
      "text/plain": [
       "            PARK NAME      RUNS        HR         H        2B        3B\n",
       "0       Angel Stadium  0.937667  1.000667  0.963667  0.913333  0.673833\n",
       "1       Busch Stadium  0.947333  0.876667  0.988167  0.974667  0.953333\n",
       "2         Chase Field  1.112833  1.067833  1.058333  1.124500  1.792667\n",
       "3          Citi Field  0.864167  0.954333  0.887667  0.865500  0.664167\n",
       "4  Citizens Bank Park  0.994833  1.212000  0.980333  0.912333  0.884000"
      ]
     },
     "execution_count": 5,
     "metadata": {},
     "output_type": "execute_result"
    }
   ],
   "source": [
    "park = pd.read_csv('park.csv')\n",
    "park['YEAR'] = [i.replace('-01-01 00:00:00', '') for i in park['YEAR']]\n",
    "park['YEAR'] = park['YEAR'].astype('int')\n",
    "park = park[park['YEAR'] >= 2014]\n",
    "park = park[['PARK NAME', 'RUNS', 'HR', 'H', '2B', '3B']]\n",
    "park = park.groupby('PARK NAME').mean()\n",
    "park = park.reset_index()\n",
    "park.head()"
   ]
  },
  {
   "cell_type": "code",
   "execution_count": 6,
   "metadata": {},
   "outputs": [
    {
     "data": {
      "text/html": [
       "<div>\n",
       "<style scoped>\n",
       "    .dataframe tbody tr th:only-of-type {\n",
       "        vertical-align: middle;\n",
       "    }\n",
       "\n",
       "    .dataframe tbody tr th {\n",
       "        vertical-align: top;\n",
       "    }\n",
       "\n",
       "    .dataframe thead th {\n",
       "        text-align: right;\n",
       "    }\n",
       "</style>\n",
       "<table border=\"1\" class=\"dataframe\">\n",
       "  <thead>\n",
       "    <tr style=\"text-align: right;\">\n",
       "      <th></th>\n",
       "      <th>PARK NAME</th>\n",
       "      <th>RUNS</th>\n",
       "      <th>HR</th>\n",
       "      <th>H</th>\n",
       "      <th>2B</th>\n",
       "      <th>3B</th>\n",
       "      <th>Weather (Degrees)</th>\n",
       "      <th>Wind (MPH)</th>\n",
       "    </tr>\n",
       "  </thead>\n",
       "  <tbody>\n",
       "    <tr>\n",
       "      <th>0</th>\n",
       "      <td>Angel Stadium</td>\n",
       "      <td>0.937667</td>\n",
       "      <td>1.000667</td>\n",
       "      <td>0.963667</td>\n",
       "      <td>0.913333</td>\n",
       "      <td>0.673833</td>\n",
       "      <td>74.318750</td>\n",
       "      <td>7.825000</td>\n",
       "    </tr>\n",
       "    <tr>\n",
       "      <th>1</th>\n",
       "      <td>Busch Stadium</td>\n",
       "      <td>0.947333</td>\n",
       "      <td>0.876667</td>\n",
       "      <td>0.988167</td>\n",
       "      <td>0.974667</td>\n",
       "      <td>0.953333</td>\n",
       "      <td>78.168122</td>\n",
       "      <td>8.058952</td>\n",
       "    </tr>\n",
       "    <tr>\n",
       "      <th>2</th>\n",
       "      <td>Chase Field</td>\n",
       "      <td>1.112833</td>\n",
       "      <td>1.067833</td>\n",
       "      <td>1.058333</td>\n",
       "      <td>1.124500</td>\n",
       "      <td>1.792667</td>\n",
       "      <td>80.629712</td>\n",
       "      <td>2.815965</td>\n",
       "    </tr>\n",
       "    <tr>\n",
       "      <th>3</th>\n",
       "      <td>Citi Field</td>\n",
       "      <td>0.864167</td>\n",
       "      <td>0.954333</td>\n",
       "      <td>0.887667</td>\n",
       "      <td>0.865500</td>\n",
       "      <td>0.664167</td>\n",
       "      <td>72.772829</td>\n",
       "      <td>10.761693</td>\n",
       "    </tr>\n",
       "    <tr>\n",
       "      <th>4</th>\n",
       "      <td>Citizens Bank Park</td>\n",
       "      <td>0.994833</td>\n",
       "      <td>1.212000</td>\n",
       "      <td>0.980333</td>\n",
       "      <td>0.912333</td>\n",
       "      <td>0.884000</td>\n",
       "      <td>75.657080</td>\n",
       "      <td>8.993363</td>\n",
       "    </tr>\n",
       "  </tbody>\n",
       "</table>\n",
       "</div>"
      ],
      "text/plain": [
       "            PARK NAME      RUNS        HR         H        2B        3B  \\\n",
       "0       Angel Stadium  0.937667  1.000667  0.963667  0.913333  0.673833   \n",
       "1       Busch Stadium  0.947333  0.876667  0.988167  0.974667  0.953333   \n",
       "2         Chase Field  1.112833  1.067833  1.058333  1.124500  1.792667   \n",
       "3          Citi Field  0.864167  0.954333  0.887667  0.865500  0.664167   \n",
       "4  Citizens Bank Park  0.994833  1.212000  0.980333  0.912333  0.884000   \n",
       "\n",
       "   Weather (Degrees)  Wind (MPH)  \n",
       "0          74.318750    7.825000  \n",
       "1          78.168122    8.058952  \n",
       "2          80.629712    2.815965  \n",
       "3          72.772829   10.761693  \n",
       "4          75.657080    8.993363  "
      ]
     },
     "execution_count": 6,
     "metadata": {},
     "output_type": "execute_result"
    }
   ],
   "source": [
    "merge = pd.merge(left= park, right= df, left_on= 'PARK NAME', right_on= 'Venue')\n",
    "merge = merge.drop(['Venue'], axis = 1)\n",
    "merge.head()"
   ]
  },
  {
   "cell_type": "code",
   "execution_count": 7,
   "metadata": {},
   "outputs": [
    {
     "data": {
      "image/png": "[encoded data removed]",
      "text/plain": [
       "<Figure size 432x288 with 1 Axes>"
      ]
     },
     "metadata": {
      "needs_background": "light"
     },
     "output_type": "display_data"
    }
   ],
   "source": [
    "x = merge['Wind (MPH)']\n",
    "y = merge['H']\n",
    "plt.scatter(x, y)\n",
    "plt.plot(np.unique(x), np.poly1d(np.polyfit(x, y, 1))(np.unique(x)))\n",
    "plt.show()"
   ]
  },
  {
   "cell_type": "code",
   "execution_count": 8,
   "metadata": {
    "scrolled": true
   },
   "outputs": [
    {
     "data": {
      "text/plain": [
       "<matplotlib.axes._subplots.AxesSubplot at 0x14f46cfaf88>"
      ]
     },
     "execution_count": 8,
     "metadata": {},
     "output_type": "execute_result"
    },
    {
     "data": {
      "image/png": "[encoded data removed]",
      "text/plain": [
       "<Figure size 432x288 with 1 Axes>"
      ]
     },
     "metadata": {
      "needs_background": "light"
     },
     "output_type": "display_data"
    }
   ],
   "source": [
    "sns.regplot(x, y)"
   ]
  },
  {
   "cell_type": "code",
   "execution_count": 9,
   "metadata": {},
   "outputs": [
    {
     "data": {
      "text/plain": [
       "array([0.00222493, 0.9835119 ])"
      ]
     },
     "execution_count": 9,
     "metadata": {},
     "output_type": "execute_result"
    }
   ],
   "source": [
    "model = np.polyfit(x, y, 1)\n",
    "model"
   ]
  },
  {
   "cell_type": "code",
   "execution_count": 10,
   "metadata": {},
   "outputs": [
    {
     "data": {
      "text/html": [
       "<table class=\"simpletable\">\n",
       "<caption>OLS Regression Results</caption>\n",
       "<tr>\n",
       "  <th>Dep. Variable:</th>            <td>H</td>        <th>  R-squared:         </th> <td>   0.013</td>\n",
       "</tr>\n",
       "<tr>\n",
       "  <th>Model:</th>                   <td>OLS</td>       <th>  Adj. R-squared:    </th> <td>  -0.027</td>\n",
       "</tr>\n",
       "<tr>\n",
       "  <th>Method:</th>             <td>Least Squares</td>  <th>  F-statistic:       </th> <td>  0.3167</td>\n",
       "</tr>\n",
       "<tr>\n",
       "  <th>Date:</th>             <td>Mon, 15 Jun 2020</td> <th>  Prob (F-statistic):</th>  <td> 0.579</td> \n",
       "</tr>\n",
       "<tr>\n",
       "  <th>Time:</th>                 <td>14:55:17</td>     <th>  Log-Likelihood:    </th> <td>  34.748</td>\n",
       "</tr>\n",
       "<tr>\n",
       "  <th>No. Observations:</th>      <td>    27</td>      <th>  AIC:               </th> <td>  -65.50</td>\n",
       "</tr>\n",
       "<tr>\n",
       "  <th>Df Residuals:</th>          <td>    25</td>      <th>  BIC:               </th> <td>  -62.90</td>\n",
       "</tr>\n",
       "<tr>\n",
       "  <th>Df Model:</th>              <td>     1</td>      <th>                     </th>     <td> </td>   \n",
       "</tr>\n",
       "<tr>\n",
       "  <th>Covariance Type:</th>      <td>nonrobust</td>    <th>                     </th>     <td> </td>   \n",
       "</tr>\n",
       "</table>\n",
       "<table class=\"simpletable\">\n",
       "<tr>\n",
       "       <td></td>         <th>coef</th>     <th>std err</th>      <th>t</th>      <th>P>|t|</th>  <th>[0.025</th>    <th>0.975]</th>  \n",
       "</tr>\n",
       "<tr>\n",
       "  <th>const</th>      <td>    0.9835</td> <td>    0.032</td> <td>   30.914</td> <td> 0.000</td> <td>    0.918</td> <td>    1.049</td>\n",
       "</tr>\n",
       "<tr>\n",
       "  <th>Wind (MPH)</th> <td>    0.0022</td> <td>    0.004</td> <td>    0.563</td> <td> 0.579</td> <td>   -0.006</td> <td>    0.010</td>\n",
       "</tr>\n",
       "</table>\n",
       "<table class=\"simpletable\">\n",
       "<tr>\n",
       "  <th>Omnibus:</th>       <td>26.466</td> <th>  Durbin-Watson:     </th> <td>   2.465</td>\n",
       "</tr>\n",
       "<tr>\n",
       "  <th>Prob(Omnibus):</th> <td> 0.000</td> <th>  Jarque-Bera (JB):  </th> <td>  55.096</td>\n",
       "</tr>\n",
       "<tr>\n",
       "  <th>Skew:</th>          <td> 1.939</td> <th>  Prob(JB):          </th> <td>1.09e-12</td>\n",
       "</tr>\n",
       "<tr>\n",
       "  <th>Kurtosis:</th>      <td> 8.825</td> <th>  Cond. No.          </th> <td>    19.4</td>\n",
       "</tr>\n",
       "</table><br/><br/>Warnings:<br/>[1] Standard Errors assume that the covariance matrix of the errors is correctly specified."
      ],
      "text/plain": [
       "<class 'statsmodels.iolib.summary.Summary'>\n",
       "\"\"\"\n",
       "                            OLS Regression Results                            \n",
       "==============================================================================\n",
       "Dep. Variable:                      H   R-squared:                       0.013\n",
       "Model:                            OLS   Adj. R-squared:                 -0.027\n",
       "Method:                 Least Squares   F-statistic:                    0.3167\n",
       "Date:                Mon, 15 Jun 2020   Prob (F-statistic):              0.579\n",
       "Time:                        14:55:17   Log-Likelihood:                 34.748\n",
       "No. Observations:                  27   AIC:                            -65.50\n",
       "Df Residuals:                      25   BIC:                            -62.90\n",
       "Df Model:                           1                                         \n",
       "Covariance Type:            nonrobust                                         \n",
       "==============================================================================\n",
       "                 coef    std err          t      P>|t|      [0.025      0.975]\n",
       "------------------------------------------------------------------------------\n",
       "const          0.9835      0.032     30.914      0.000       0.918       1.049\n",
       "Wind (MPH)     0.0022      0.004      0.563      0.579      -0.006       0.010\n",
       "==============================================================================\n",
       "Omnibus:                       26.466   Durbin-Watson:                   2.465\n",
       "Prob(Omnibus):                  0.000   Jarque-Bera (JB):               55.096\n",
       "Skew:                           1.939   Prob(JB):                     1.09e-12\n",
       "Kurtosis:                       8.825   Cond. No.                         19.4\n",
       "==============================================================================\n",
       "\n",
       "Warnings:\n",
       "[1] Standard Errors assume that the covariance matrix of the errors is correctly specified.\n",
       "\"\"\""
      ]
     },
     "execution_count": 10,
     "metadata": {},
     "output_type": "execute_result"
    }
   ],
   "source": [
    "model = sm.OLS(y, sm.add_constant(x)).fit()\n",
    "model.summary()"
   ]
  },
  {
   "cell_type": "code",
   "execution_count": 11,
   "metadata": {},
   "outputs": [
    {
     "data": {
      "image/png": "[encoded data removed]",
      "text/plain": [
       "<Figure size 432x288 with 1 Axes>"
      ]
     },
     "metadata": {
      "needs_background": "light"
     },
     "output_type": "display_data"
    }
   ],
   "source": [
    "x = merge['Weather (Degrees)']\n",
    "y = merge['H']\n",
    "plt.scatter(x, y)\n",
    "plt.plot(np.unique(x), np.poly1d(np.polyfit(x, y, 1))(np.unique(x)))\n",
    "plt.show()"
   ]
  },
  {
   "cell_type": "code",
   "execution_count": 12,
   "metadata": {},
   "outputs": [
    {
     "data": {
      "text/plain": [
       "<matplotlib.axes._subplots.AxesSubplot at 0x14f47229108>"
      ]
     },
     "execution_count": 12,
     "metadata": {},
     "output_type": "execute_result"
    },
    {
     "data": {
      "image/png": "[encoded data removed]",
      "text/plain": [
       "<Figure size 432x288 with 1 Axes>"
      ]
     },
     "metadata": {
      "needs_background": "light"
     },
     "output_type": "display_data"
    }
   ],
   "source": [
    "sns.regplot(x, y)"
   ]
  },
  {
   "cell_type": "code",
   "execution_count": 13,
   "metadata": {},
   "outputs": [
    {
     "data": {
      "text/plain": [
       "array([0.0036938 , 0.72994952])"
      ]
     },
     "execution_count": 13,
     "metadata": {},
     "output_type": "execute_result"
    }
   ],
   "source": [
    "model = np.polyfit(x, y, 1)\n",
    "model"
   ]
  },
  {
   "cell_type": "code",
   "execution_count": 14,
   "metadata": {},
   "outputs": [
    {
     "data": {
      "text/html": [
       "<table class=\"simpletable\">\n",
       "<caption>OLS Regression Results</caption>\n",
       "<tr>\n",
       "  <th>Dep. Variable:</th>            <td>H</td>        <th>  R-squared:         </th> <td>   0.040</td>\n",
       "</tr>\n",
       "<tr>\n",
       "  <th>Model:</th>                   <td>OLS</td>       <th>  Adj. R-squared:    </th> <td>   0.001</td>\n",
       "</tr>\n",
       "<tr>\n",
       "  <th>Method:</th>             <td>Least Squares</td>  <th>  F-statistic:       </th> <td>   1.030</td>\n",
       "</tr>\n",
       "<tr>\n",
       "  <th>Date:</th>             <td>Mon, 15 Jun 2020</td> <th>  Prob (F-statistic):</th>  <td> 0.320</td> \n",
       "</tr>\n",
       "<tr>\n",
       "  <th>Time:</th>                 <td>14:55:18</td>     <th>  Log-Likelihood:    </th> <td>  35.123</td>\n",
       "</tr>\n",
       "<tr>\n",
       "  <th>No. Observations:</th>      <td>    27</td>      <th>  AIC:               </th> <td>  -66.25</td>\n",
       "</tr>\n",
       "<tr>\n",
       "  <th>Df Residuals:</th>          <td>    25</td>      <th>  BIC:               </th> <td>  -63.65</td>\n",
       "</tr>\n",
       "<tr>\n",
       "  <th>Df Model:</th>              <td>     1</td>      <th>                     </th>     <td> </td>   \n",
       "</tr>\n",
       "<tr>\n",
       "  <th>Covariance Type:</th>      <td>nonrobust</td>    <th>                     </th>     <td> </td>   \n",
       "</tr>\n",
       "</table>\n",
       "<table class=\"simpletable\">\n",
       "<tr>\n",
       "          <td></td>             <th>coef</th>     <th>std err</th>      <th>t</th>      <th>P>|t|</th>  <th>[0.025</th>    <th>0.975]</th>  \n",
       "</tr>\n",
       "<tr>\n",
       "  <th>const</th>             <td>    0.7299</td> <td>    0.266</td> <td>    2.742</td> <td> 0.011</td> <td>    0.182</td> <td>    1.278</td>\n",
       "</tr>\n",
       "<tr>\n",
       "  <th>Weather (Degrees)</th> <td>    0.0037</td> <td>    0.004</td> <td>    1.015</td> <td> 0.320</td> <td>   -0.004</td> <td>    0.011</td>\n",
       "</tr>\n",
       "</table>\n",
       "<table class=\"simpletable\">\n",
       "<tr>\n",
       "  <th>Omnibus:</th>       <td>25.189</td> <th>  Durbin-Watson:     </th> <td>   2.347</td>\n",
       "</tr>\n",
       "<tr>\n",
       "  <th>Prob(Omnibus):</th> <td> 0.000</td> <th>  Jarque-Bera (JB):  </th> <td>  47.966</td>\n",
       "</tr>\n",
       "<tr>\n",
       "  <th>Skew:</th>          <td> 1.893</td> <th>  Prob(JB):          </th> <td>3.84e-11</td>\n",
       "</tr>\n",
       "<tr>\n",
       "  <th>Kurtosis:</th>      <td> 8.320</td> <th>  Cond. No.          </th> <td>1.48e+03</td>\n",
       "</tr>\n",
       "</table><br/><br/>Warnings:<br/>[1] Standard Errors assume that the covariance matrix of the errors is correctly specified.<br/>[2] The condition number is large, 1.48e+03. This might indicate that there are<br/>strong multicollinearity or other numerical problems."
      ],
      "text/plain": [
       "<class 'statsmodels.iolib.summary.Summary'>\n",
       "\"\"\"\n",
       "                            OLS Regression Results                            \n",
       "==============================================================================\n",
       "Dep. Variable:                      H   R-squared:                       0.040\n",
       "Model:                            OLS   Adj. R-squared:                  0.001\n",
       "Method:                 Least Squares   F-statistic:                     1.030\n",
       "Date:                Mon, 15 Jun 2020   Prob (F-statistic):              0.320\n",
       "Time:                        14:55:18   Log-Likelihood:                 35.123\n",
       "No. Observations:                  27   AIC:                            -66.25\n",
       "Df Residuals:                      25   BIC:                            -63.65\n",
       "Df Model:                           1                                         \n",
       "Covariance Type:            nonrobust                                         \n",
       "=====================================================================================\n",
       "                        coef    std err          t      P>|t|      [0.025      0.975]\n",
       "-------------------------------------------------------------------------------------\n",
       "const                 0.7299      0.266      2.742      0.011       0.182       1.278\n",
       "Weather (Degrees)     0.0037      0.004      1.015      0.320      -0.004       0.011\n",
       "==============================================================================\n",
       "Omnibus:                       25.189   Durbin-Watson:                   2.347\n",
       "Prob(Omnibus):                  0.000   Jarque-Bera (JB):               47.966\n",
       "Skew:                           1.893   Prob(JB):                     3.84e-11\n",
       "Kurtosis:                       8.320   Cond. No.                     1.48e+03\n",
       "==============================================================================\n",
       "\n",
       "Warnings:\n",
       "[1] Standard Errors assume that the covariance matrix of the errors is correctly specified.\n",
       "[2] The condition number is large, 1.48e+03. This might indicate that there are\n",
       "strong multicollinearity or other numerical problems.\n",
       "\"\"\""
      ]
     },
     "execution_count": 14,
     "metadata": {},
     "output_type": "execute_result"
    }
   ],
   "source": [
    "model = sm.OLS(y, sm.add_constant(x)).fit()\n",
    "model.summary()"
   ]
  },
  {
   "cell_type": "code",
   "execution_count": 15,
   "metadata": {},
   "outputs": [
    {
     "data": {
      "text/html": [
       "<table class=\"simpletable\">\n",
       "<caption>OLS Regression Results</caption>\n",
       "<tr>\n",
       "  <th>Dep. Variable:</th>            <td>H</td>        <th>  R-squared:         </th> <td>   0.077</td>\n",
       "</tr>\n",
       "<tr>\n",
       "  <th>Model:</th>                   <td>OLS</td>       <th>  Adj. R-squared:    </th> <td>   0.000</td>\n",
       "</tr>\n",
       "<tr>\n",
       "  <th>Method:</th>             <td>Least Squares</td>  <th>  F-statistic:       </th> <td>   1.003</td>\n",
       "</tr>\n",
       "<tr>\n",
       "  <th>Date:</th>             <td>Mon, 15 Jun 2020</td> <th>  Prob (F-statistic):</th>  <td> 0.382</td> \n",
       "</tr>\n",
       "<tr>\n",
       "  <th>Time:</th>                 <td>14:55:19</td>     <th>  Log-Likelihood:    </th> <td>  35.662</td>\n",
       "</tr>\n",
       "<tr>\n",
       "  <th>No. Observations:</th>      <td>    27</td>      <th>  AIC:               </th> <td>  -65.32</td>\n",
       "</tr>\n",
       "<tr>\n",
       "  <th>Df Residuals:</th>          <td>    24</td>      <th>  BIC:               </th> <td>  -61.44</td>\n",
       "</tr>\n",
       "<tr>\n",
       "  <th>Df Model:</th>              <td>     2</td>      <th>                     </th>     <td> </td>   \n",
       "</tr>\n",
       "<tr>\n",
       "  <th>Covariance Type:</th>      <td>nonrobust</td>    <th>                     </th>     <td> </td>   \n",
       "</tr>\n",
       "</table>\n",
       "<table class=\"simpletable\">\n",
       "<tr>\n",
       "          <td></td>             <th>coef</th>     <th>std err</th>      <th>t</th>      <th>P>|t|</th>  <th>[0.025</th>    <th>0.975]</th>  \n",
       "</tr>\n",
       "<tr>\n",
       "  <th>const</th>             <td>    0.6014</td> <td>    0.296</td> <td>    2.029</td> <td> 0.054</td> <td>   -0.010</td> <td>    1.213</td>\n",
       "</tr>\n",
       "<tr>\n",
       "  <th>Weather (Degrees)</th> <td>    0.0050</td> <td>    0.004</td> <td>    1.297</td> <td> 0.207</td> <td>   -0.003</td> <td>    0.013</td>\n",
       "</tr>\n",
       "<tr>\n",
       "  <th>Wind (MPH)</th>        <td>    0.0041</td> <td>    0.004</td> <td>    0.989</td> <td> 0.333</td> <td>   -0.004</td> <td>    0.013</td>\n",
       "</tr>\n",
       "</table>\n",
       "<table class=\"simpletable\">\n",
       "<tr>\n",
       "  <th>Omnibus:</th>       <td>27.759</td> <th>  Durbin-Watson:     </th> <td>   2.258</td>\n",
       "</tr>\n",
       "<tr>\n",
       "  <th>Prob(Omnibus):</th> <td> 0.000</td> <th>  Jarque-Bera (JB):  </th> <td>  63.112</td>\n",
       "</tr>\n",
       "<tr>\n",
       "  <th>Skew:</th>          <td> 1.989</td> <th>  Prob(JB):          </th> <td>1.97e-14</td>\n",
       "</tr>\n",
       "<tr>\n",
       "  <th>Kurtosis:</th>      <td> 9.346</td> <th>  Cond. No.          </th> <td>1.65e+03</td>\n",
       "</tr>\n",
       "</table><br/><br/>Warnings:<br/>[1] Standard Errors assume that the covariance matrix of the errors is correctly specified.<br/>[2] The condition number is large, 1.65e+03. This might indicate that there are<br/>strong multicollinearity or other numerical problems."
      ],
      "text/plain": [
       "<class 'statsmodels.iolib.summary.Summary'>\n",
       "\"\"\"\n",
       "                            OLS Regression Results                            \n",
       "==============================================================================\n",
       "Dep. Variable:                      H   R-squared:                       0.077\n",
       "Model:                            OLS   Adj. R-squared:                  0.000\n",
       "Method:                 Least Squares   F-statistic:                     1.003\n",
       "Date:                Mon, 15 Jun 2020   Prob (F-statistic):              0.382\n",
       "Time:                        14:55:19   Log-Likelihood:                 35.662\n",
       "No. Observations:                  27   AIC:                            -65.32\n",
       "Df Residuals:                      24   BIC:                            -61.44\n",
       "Df Model:                           2                                         \n",
       "Covariance Type:            nonrobust                                         \n",
       "=====================================================================================\n",
       "                        coef    std err          t      P>|t|      [0.025      0.975]\n",
       "-------------------------------------------------------------------------------------\n",
       "const                 0.6014      0.296      2.029      0.054      -0.010       1.213\n",
       "Weather (Degrees)     0.0050      0.004      1.297      0.207      -0.003       0.013\n",
       "Wind (MPH)            0.0041      0.004      0.989      0.333      -0.004       0.013\n",
       "==============================================================================\n",
       "Omnibus:                       27.759   Durbin-Watson:                   2.258\n",
       "Prob(Omnibus):                  0.000   Jarque-Bera (JB):               63.112\n",
       "Skew:                           1.989   Prob(JB):                     1.97e-14\n",
       "Kurtosis:                       9.346   Cond. No.                     1.65e+03\n",
       "==============================================================================\n",
       "\n",
       "Warnings:\n",
       "[1] Standard Errors assume that the covariance matrix of the errors is correctly specified.\n",
       "[2] The condition number is large, 1.65e+03. This might indicate that there are\n",
       "strong multicollinearity or other numerical problems.\n",
       "\"\"\""
      ]
     },
     "execution_count": 15,
     "metadata": {},
     "output_type": "execute_result"
    }
   ],
   "source": [
    "x = merge[['Weather (Degrees)', 'Wind (MPH)']]\n",
    "y = merge['H']\n",
    "model = sm.OLS(y, sm.add_constant(x)).fit()\n",
    "model.summary()"
   ]
  },
  {
   "cell_type": "code",
   "execution_count": 21,
   "metadata": {},
   "outputs": [
    {
     "data": {
      "text/plain": [
       "RandomForestRegressor(bootstrap=True, ccp_alpha=0.0, criterion='mse',\n",
       "                      max_depth=None, max_features='auto', max_leaf_nodes=None,\n",
       "                      max_samples=None, min_impurity_decrease=0.0,\n",
       "                      min_impurity_split=None, min_samples_leaf=1,\n",
       "                      min_samples_split=2, min_weight_fraction_leaf=0.0,\n",
       "                      n_estimators=100, n_jobs=None, oob_score=False,\n",
       "                      random_state=None, verbose=0, warm_start=False)"
      ]
     },
     "execution_count": 21,
     "metadata": {},
     "output_type": "execute_result"
    }
   ],
   "source": [
    "from sklearn.ensemble import RandomForestRegressor\n",
    "from sklearn.model_selection import train_test_split\n",
    "\n",
    "x, y = pd.DataFrame(merge, columns = ['Weather (Degrees)']), pd.DataFrame(merge, columns = ['H'])\n",
    "x_train, x_test, y_train, y_test = train_test_split(x, y, test_size=0.20)\n",
    "\n",
    "regressor = RandomForestRegressor()\n",
    "regressor.fit(x_train, y_train.values.ravel())"
   ]
  },
  {
   "cell_type": "code",
   "execution_count": 23,
   "metadata": {},
   "outputs": [
    {
     "data": {
      "text/html": [
       "<div>\n",
       "<style scoped>\n",
       "    .dataframe tbody tr th:only-of-type {\n",
       "        vertical-align: middle;\n",
       "    }\n",
       "\n",
       "    .dataframe tbody tr th {\n",
       "        vertical-align: top;\n",
       "    }\n",
       "\n",
       "    .dataframe thead th {\n",
       "        text-align: right;\n",
       "    }\n",
       "</style>\n",
       "<table border=\"1\" class=\"dataframe\">\n",
       "  <thead>\n",
       "    <tr style=\"text-align: right;\">\n",
       "      <th></th>\n",
       "      <th>Real</th>\n",
       "      <th>Predictions</th>\n",
       "    </tr>\n",
       "  </thead>\n",
       "  <tbody>\n",
       "    <tr>\n",
       "      <th>0</th>\n",
       "      <td>1.025667</td>\n",
       "      <td>1.037007</td>\n",
       "    </tr>\n",
       "    <tr>\n",
       "      <th>1</th>\n",
       "      <td>1.255333</td>\n",
       "      <td>0.955680</td>\n",
       "    </tr>\n",
       "    <tr>\n",
       "      <th>2</th>\n",
       "      <td>0.934500</td>\n",
       "      <td>0.922408</td>\n",
       "    </tr>\n",
       "    <tr>\n",
       "      <th>3</th>\n",
       "      <td>1.027167</td>\n",
       "      <td>0.974520</td>\n",
       "    </tr>\n",
       "    <tr>\n",
       "      <th>4</th>\n",
       "      <td>0.978167</td>\n",
       "      <td>0.978173</td>\n",
       "    </tr>\n",
       "    <tr>\n",
       "      <th>5</th>\n",
       "      <td>0.988167</td>\n",
       "      <td>1.027960</td>\n",
       "    </tr>\n",
       "  </tbody>\n",
       "</table>\n",
       "</div>"
      ],
      "text/plain": [
       "       Real  Predictions\n",
       "0  1.025667     1.037007\n",
       "1  1.255333     0.955680\n",
       "2  0.934500     0.922408\n",
       "3  1.027167     0.974520\n",
       "4  0.978167     0.978173\n",
       "5  0.988167     1.027960"
      ]
     },
     "execution_count": 23,
     "metadata": {},
     "output_type": "execute_result"
    }
   ],
   "source": [
    "predictions = regressor.predict(x_test)\n",
    "predictions = [float(i) for i in predictions]\n",
    "comparison = pd.DataFrame({\"Real\" : y_test.iloc[:,0], \"Predictions\" : predictions})\n",
    "comparison = comparison.reset_index()\n",
    "comparison = comparison.drop(['index'], axis=1)\n",
    "comparison"
   ]
  },
  {
   "cell_type": "code",
   "execution_count": 24,
   "metadata": {},
   "outputs": [
    {
     "data": {
      "image/png": "[encoded data removed]",
      "text/plain": [
       "<Figure size 432x288 with 2 Axes>"
      ]
     },
     "metadata": {
      "needs_background": "light"
     },
     "output_type": "display_data"
    }
   ],
   "source": [
    "fig, (g1, g2) = plt.subplots(1, 2)\n",
    "g1.plot(comparison.index, comparison[\"Real\"], color = \"Green\")\n",
    "g2.plot(comparison.index, comparison[\"Predictions\"], color = \"Red\")\n",
    "g1.set_title(\"Real\")\n",
    "g2.set_title(\"Predictions\")\n",
    "fig.tight_layout()\n",
    "plt.show()"
   ]
  },
  {
   "cell_type": "code",
   "execution_count": 25,
   "metadata": {},
   "outputs": [
    {
     "data": {
      "text/plain": [
       "RandomForestRegressor(bootstrap=True, ccp_alpha=0.0, criterion='mse',\n",
       "                      max_depth=None, max_features='auto', max_leaf_nodes=None,\n",
       "                      max_samples=None, min_impurity_decrease=0.0,\n",
       "                      min_impurity_split=None, min_samples_leaf=1,\n",
       "                      min_samples_split=2, min_weight_fraction_leaf=0.0,\n",
       "                      n_estimators=100, n_jobs=None, oob_score=False,\n",
       "                      random_state=None, verbose=0, warm_start=False)"
      ]
     },
     "execution_count": 25,
     "metadata": {},
     "output_type": "execute_result"
    }
   ],
   "source": [
    "from sklearn.ensemble import RandomForestRegressor\n",
    "from sklearn.model_selection import train_test_split\n",
    "\n",
    "x, y = pd.DataFrame(merge, columns = ['Wind (MPH)']), pd.DataFrame(merge, columns = ['H'])\n",
    "x_train, x_test, y_train, y_test = train_test_split(x, y, test_size=0.20)\n",
    "\n",
    "regressor = RandomForestRegressor()\n",
    "regressor.fit(x_train, y_train.values.ravel())"
   ]
  },
  {
   "cell_type": "code",
   "execution_count": 26,
   "metadata": {},
   "outputs": [
    {
     "data": {
      "text/html": [
       "<div>\n",
       "<style scoped>\n",
       "    .dataframe tbody tr th:only-of-type {\n",
       "        vertical-align: middle;\n",
       "    }\n",
       "\n",
       "    .dataframe tbody tr th {\n",
       "        vertical-align: top;\n",
       "    }\n",
       "\n",
       "    .dataframe thead th {\n",
       "        text-align: right;\n",
       "    }\n",
       "</style>\n",
       "<table border=\"1\" class=\"dataframe\">\n",
       "  <thead>\n",
       "    <tr style=\"text-align: right;\">\n",
       "      <th></th>\n",
       "      <th>Real</th>\n",
       "      <th>Predictions</th>\n",
       "    </tr>\n",
       "  </thead>\n",
       "  <tbody>\n",
       "    <tr>\n",
       "      <th>0</th>\n",
       "      <td>0.978167</td>\n",
       "      <td>1.041967</td>\n",
       "    </tr>\n",
       "    <tr>\n",
       "      <th>1</th>\n",
       "      <td>0.934500</td>\n",
       "      <td>0.953402</td>\n",
       "    </tr>\n",
       "    <tr>\n",
       "      <th>2</th>\n",
       "      <td>0.998500</td>\n",
       "      <td>1.039547</td>\n",
       "    </tr>\n",
       "    <tr>\n",
       "      <th>3</th>\n",
       "      <td>0.941000</td>\n",
       "      <td>1.163413</td>\n",
       "    </tr>\n",
       "    <tr>\n",
       "      <th>4</th>\n",
       "      <td>1.049500</td>\n",
       "      <td>0.921857</td>\n",
       "    </tr>\n",
       "    <tr>\n",
       "      <th>5</th>\n",
       "      <td>1.008000</td>\n",
       "      <td>0.978652</td>\n",
       "    </tr>\n",
       "  </tbody>\n",
       "</table>\n",
       "</div>"
      ],
      "text/plain": [
       "       Real  Predictions\n",
       "0  0.978167     1.041967\n",
       "1  0.934500     0.953402\n",
       "2  0.998500     1.039547\n",
       "3  0.941000     1.163413\n",
       "4  1.049500     0.921857\n",
       "5  1.008000     0.978652"
      ]
     },
     "execution_count": 26,
     "metadata": {},
     "output_type": "execute_result"
    }
   ],
   "source": [
    "predictions = regressor.predict(x_test)\n",
    "predictions = [float(i) for i in predictions]\n",
    "comparison = pd.DataFrame({\"Real\" : y_test.iloc[:,0], \"Predictions\" : predictions})\n",
    "comparison = comparison.reset_index()\n",
    "comparison = comparison.drop(['index'], axis=1)\n",
    "comparison"
   ]
  },
  {
   "cell_type": "code",
   "execution_count": 28,
   "metadata": {},
   "outputs": [
    {
     "data": {
      "image/png": "[encoded data removed]",
      "text/plain": [
       "<Figure size 432x288 with 2 Axes>"
      ]
     },
     "metadata": {
      "needs_background": "light"
     },
     "output_type": "display_data"
    }
   ],
   "source": [
    "fig, (g1, g2) = plt.subplots(1, 2)\n",
    "g1.plot(comparison.index, comparison[\"Real\"], color = \"Green\")\n",
    "g2.plot(comparison.index, comparison[\"Predictions\"], color = \"Red\")\n",
    "g1.set_title(\"Real\")\n",
    "g2.set_title(\"Predictions\")\n",
    "fig.tight_layout()\n",
    "plt.show()"
   ]
  },
  {
   "cell_type": "code",
   "execution_count": 29,
   "metadata": {},
   "outputs": [
    {
     "data": {
      "text/plain": [
       "RandomForestRegressor(bootstrap=True, ccp_alpha=0.0, criterion='mse',\n",
       "                      max_depth=None, max_features='auto', max_leaf_nodes=None,\n",
       "                      max_samples=None, min_impurity_decrease=0.0,\n",
       "                      min_impurity_split=None, min_samples_leaf=1,\n",
       "                      min_samples_split=2, min_weight_fraction_leaf=0.0,\n",
       "                      n_estimators=100, n_jobs=None, oob_score=False,\n",
       "                      random_state=None, verbose=0, warm_start=False)"
      ]
     },
     "execution_count": 29,
     "metadata": {},
     "output_type": "execute_result"
    }
   ],
   "source": [
    "from sklearn.ensemble import RandomForestRegressor\n",
    "from sklearn.model_selection import train_test_split\n",
    "\n",
    "x, y = pd.DataFrame(merge, columns = ['Weather (Degrees)', 'Wind (MPH)']), pd.DataFrame(merge, columns = ['H'])\n",
    "x_train, x_test, y_train, y_test = train_test_split(x, y, test_size=0.20)\n",
    "\n",
    "regressor = RandomForestRegressor()\n",
    "regressor.fit(x_train, y_train.values.ravel())"
   ]
  },
  {
   "cell_type": "code",
   "execution_count": 30,
   "metadata": {},
   "outputs": [
    {
     "data": {
      "text/html": [
       "<div>\n",
       "<style scoped>\n",
       "    .dataframe tbody tr th:only-of-type {\n",
       "        vertical-align: middle;\n",
       "    }\n",
       "\n",
       "    .dataframe tbody tr th {\n",
       "        vertical-align: top;\n",
       "    }\n",
       "\n",
       "    .dataframe thead th {\n",
       "        text-align: right;\n",
       "    }\n",
       "</style>\n",
       "<table border=\"1\" class=\"dataframe\">\n",
       "  <thead>\n",
       "    <tr style=\"text-align: right;\">\n",
       "      <th></th>\n",
       "      <th>Real</th>\n",
       "      <th>Predictions</th>\n",
       "    </tr>\n",
       "  </thead>\n",
       "  <tbody>\n",
       "    <tr>\n",
       "      <th>0</th>\n",
       "      <td>0.959667</td>\n",
       "      <td>0.946197</td>\n",
       "    </tr>\n",
       "    <tr>\n",
       "      <th>1</th>\n",
       "      <td>0.952000</td>\n",
       "      <td>0.978613</td>\n",
       "    </tr>\n",
       "    <tr>\n",
       "      <th>2</th>\n",
       "      <td>1.008000</td>\n",
       "      <td>0.967568</td>\n",
       "    </tr>\n",
       "    <tr>\n",
       "      <th>3</th>\n",
       "      <td>1.055333</td>\n",
       "      <td>0.993992</td>\n",
       "    </tr>\n",
       "    <tr>\n",
       "      <th>4</th>\n",
       "      <td>1.027167</td>\n",
       "      <td>0.982513</td>\n",
       "    </tr>\n",
       "    <tr>\n",
       "      <th>5</th>\n",
       "      <td>1.255333</td>\n",
       "      <td>0.953740</td>\n",
       "    </tr>\n",
       "  </tbody>\n",
       "</table>\n",
       "</div>"
      ],
      "text/plain": [
       "       Real  Predictions\n",
       "0  0.959667     0.946197\n",
       "1  0.952000     0.978613\n",
       "2  1.008000     0.967568\n",
       "3  1.055333     0.993992\n",
       "4  1.027167     0.982513\n",
       "5  1.255333     0.953740"
      ]
     },
     "execution_count": 30,
     "metadata": {},
     "output_type": "execute_result"
    }
   ],
   "source": [
    "predictions = regressor.predict(x_test)\n",
    "predictions = [float(i) for i in predictions]\n",
    "comparison = pd.DataFrame({\"Real\" : y_test.iloc[:,0], \"Predictions\" : predictions})\n",
    "comparison = comparison.reset_index()\n",
    "comparison = comparison.drop(['index'], axis=1)\n",
    "comparison"
   ]
  },
  {
   "cell_type": "code",
   "execution_count": 31,
   "metadata": {},
   "outputs": [
    {
     "data": {
      "image/png": "[encoded data removed]",
      "text/plain": [
       "<Figure size 432x288 with 2 Axes>"
      ]
     },
     "metadata": {
      "needs_background": "light"
     },
     "output_type": "display_data"
    }
   ],
   "source": [
    "fig, (g1, g2) = plt.subplots(1, 2)\n",
    "g1.plot(comparison.index, comparison[\"Real\"], color = \"Green\")\n",
    "g2.plot(comparison.index, comparison[\"Predictions\"], color = \"Red\")\n",
    "g1.set_title(\"Real\")\n",
    "g2.set_title(\"Predictions\")\n",
    "fig.tight_layout()\n",
    "plt.show()"
   ]
  }
 ],
 "metadata": {
  "kernelspec": {
   "display_name": "Python 3",
   "language": "python",
   "name": "python3"
  },
  "language_info": {
   "codemirror_mode": {
    "name": "ipython",
    "version": 3
   },
   "file_extension": ".py",
   "mimetype": "text/x-python",
   "name": "python",
   "nbconvert_exporter": "python",
   "pygments_lexer": "ipython3",
   "version": "3.7.6"
  }
 },
 "nbformat": 4,
 "nbformat_minor": 4
}

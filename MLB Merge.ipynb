{
 "cells": [
  {
   "cell_type": "code",
   "execution_count": 76,
   "metadata": {},
   "outputs": [],
   "source": [
    "import pandas as pd\n",
    "import matplotlib.pyplot as plt"
   ]
  },
  {
   "cell_type": "code",
   "execution_count": 77,
   "metadata": {},
   "outputs": [],
   "source": [
    "agg = pd.read_csv('agg.csv', low_memory=False)\n",
    "agg = agg.drop(['index'], axis = 1)\n",
    "weather = pd.read_csv('weather2.csv')\n",
    "weather = weather.drop(['Unnamed: 0'], axis = 1)\n",
    "park = pd.read_csv('park.csv')\n",
    "park['YEAR'] = [i.replace('-01-01 00:00:00', '') for i in park['YEAR']]\n",
    "park['YEAR'] = park['YEAR'].astype('int')\n",
    "park = park[park['YEAR'] >= 2014]\n",
    "park = park.reset_index()\n",
    "park = park.drop(['index'], axis = 1)"
   ]
  },
  {
   "cell_type": "code",
   "execution_count": 78,
   "metadata": {},
   "outputs": [],
   "source": [
    "abb = {'KAN' : 'KC', 'FLA' : 'MIA', 'CHW' : 'CWS', 'WAS' : 'WSH'}\n",
    "for i in range(len(weather)):\n",
    "    for word, initial in abb.items():\n",
    "        weather.at[i, 'Team 1'] = weather.at[i, 'Team 1'].replace(word, initial)\n",
    "        weather.at[i, 'Team 2'] = weather.at[i, 'Team 2'].replace(word, initial)"
   ]
  },
  {
   "cell_type": "code",
   "execution_count": 79,
   "metadata": {},
   "outputs": [],
   "source": [
    "mergeTemp = pd.merge(how = \"left\", left = weather, right = park, left_on = 'Venue', right_on = 'PARK NAME')\n",
    "mergeTemp2 = pd.merge(agg, mergeTemp, how = \"inner\", left_on = [\"next_game_date\", \"HomeTeam\", \"AwayTeam\"], right_on = [\"Date\", \"Team 1\", \"Team 2\"])\n",
    "mergeTemp3 = pd.merge(agg, mergeTemp, how = \"inner\", left_on = [\"next_game_date\", \"HomeTeam\", \"AwayTeam\"], right_on = [\"Date\", \"Team 2\", \"Team 1\"])\n",
    "merge = mergeTemp2.append(mergeTemp3)"
   ]
  },
  {
   "cell_type": "code",
   "execution_count": 80,
   "metadata": {},
   "outputs": [],
   "source": [
    "merge = merge.drop_duplicates(['Name', 'Game_date'], keep = False)\n",
    "merge = merge.reset_index()\n",
    "merge = merge.drop(['index'], axis = 1)"
   ]
  },
  {
   "cell_type": "code",
   "execution_count": 81,
   "metadata": {},
   "outputs": [
    {
     "data": {
      "text/plain": [
       "16434"
      ]
     },
     "execution_count": 81,
     "metadata": {},
     "output_type": "execute_result"
    }
   ],
   "source": [
    "merge = merge[merge[\"HomeTeam\"].notnull()]\n",
    "merge = merge[merge[\"AwayTeam\"].notnull()]\n",
    "merge = merge[merge[\"next_game_date\"].notnull()]\n",
    "merge.shape[0]"
   ]
  },
  {
   "cell_type": "code",
   "execution_count": 82,
   "metadata": {},
   "outputs": [
    {
     "data": {
      "text/plain": [
       "0"
      ]
     },
     "execution_count": 82,
     "metadata": {},
     "output_type": "execute_result"
    }
   ],
   "source": [
    "fix = merge[merge['Venue'].isna()]\n",
    "fix.shape[0]"
   ]
  },
  {
   "cell_type": "code",
   "execution_count": 83,
   "metadata": {},
   "outputs": [
    {
     "data": {
      "text/plain": [
       "RandomForestClassifier(bootstrap=True, ccp_alpha=0.0, class_weight=None,\n",
       "                       criterion='gini', max_depth=None, max_features='auto',\n",
       "                       max_leaf_nodes=None, max_samples=None,\n",
       "                       min_impurity_decrease=0.0, min_impurity_split=None,\n",
       "                       min_samples_leaf=1, min_samples_split=2,\n",
       "                       min_weight_fraction_leaf=0.0, n_estimators=100,\n",
       "                       n_jobs=None, oob_score=False, random_state=None,\n",
       "                       verbose=0, warm_start=False)"
      ]
     },
     "execution_count": 83,
     "metadata": {},
     "output_type": "execute_result"
    }
   ],
   "source": [
    "from sklearn.ensemble import RandomForestClassifier\n",
    "from sklearn.model_selection import train_test_split\n",
    "\n",
    "x, y = pd.DataFrame(merge, columns = ['Games_played_to_date', 'BA', 'PA', 'ISO', 'SLG', 'BABIP', 'BIP', 'OBP', 'OPS']), pd.DataFrame(merge, columns = ['next_game_HIT'])\n",
    "x_train, x_test, y_train, y_test = train_test_split(x, y, test_size=0.20)\n",
    "\n",
    "clf = RandomForestClassifier()\n",
    "clf.fit(x_train, y_train.values.ravel())"
   ]
  },
  {
   "cell_type": "code",
   "execution_count": 84,
   "metadata": {},
   "outputs": [
    {
     "name": "stdout",
     "output_type": "stream",
     "text": [
      "0.5768177669607545\n"
     ]
    }
   ],
   "source": [
    "predictions = clf.predict(x_test)\n",
    "predictions = [float(i) for i in predictions]\n",
    "comparison = pd.DataFrame({\"Real\" : y_test.iloc[:,0], \"Predictions\" : predictions})\n",
    "comparison = comparison.reset_index()\n",
    "comparison = comparison.drop(['index'], axis=1)\n",
    "correct = 0\n",
    "for i in range(len(comparison)):\n",
    "    if comparison.at[i, 'Real'] == comparison.at[i, 'Predictions']:\n",
    "        correct += 1\n",
    "print (correct / len(comparison))"
   ]
  },
  {
   "cell_type": "code",
   "execution_count": 85,
   "metadata": {},
   "outputs": [
    {
     "name": "stdout",
     "output_type": "stream",
     "text": [
      "0.6606757728253055\n"
     ]
    }
   ],
   "source": [
    "false = comparison[comparison['Real'] != comparison['Predictions']]\n",
    "false = false.reset_index()\n",
    "false = false.drop(['index'], axis = 1)\n",
    "falsePositive = 0\n",
    "for i in range(len(false)):\n",
    "    if false.at[i, 'Real'] == 0:\n",
    "        falsePositive += 1\n",
    "print (falsePositive / len(false))"
   ]
  },
  {
   "cell_type": "code",
   "execution_count": null,
   "metadata": {},
   "outputs": [],
   "source": []
  }
 ],
 "metadata": {
  "kernelspec": {
   "display_name": "Python 3",
   "language": "python",
   "name": "python3"
  },
  "language_info": {
   "codemirror_mode": {
    "name": "ipython",
    "version": 3
   },
   "file_extension": ".py",
   "mimetype": "text/x-python",
   "name": "python",
   "nbconvert_exporter": "python",
   "pygments_lexer": "ipython3",
   "version": "3.7.6"
  }
 },
 "nbformat": 4,
 "nbformat_minor": 4
}

{
 "cells": [
  {
   "cell_type": "code",
   "execution_count": 19,
   "metadata": {},
   "outputs": [],
   "source": [
    "import pandas as pd\n",
    "import matplotlib.pyplot as plt\n",
    "import statsmodels.api as sm\n",
    "import seaborn as sns"
   ]
  },
  {
   "cell_type": "code",
   "execution_count": 58,
   "metadata": {},
   "outputs": [
    {
     "data": {
      "text/html": [
       "<div>\n",
       "<style scoped>\n",
       "    .dataframe tbody tr th:only-of-type {\n",
       "        vertical-align: middle;\n",
       "    }\n",
       "\n",
       "    .dataframe tbody tr th {\n",
       "        vertical-align: top;\n",
       "    }\n",
       "\n",
       "    .dataframe thead th {\n",
       "        text-align: right;\n",
       "    }\n",
       "</style>\n",
       "<table border=\"1\" class=\"dataframe\">\n",
       "  <thead>\n",
       "    <tr style=\"text-align: right;\">\n",
       "      <th></th>\n",
       "      <th>Date</th>\n",
       "      <th>Team 1</th>\n",
       "      <th>Team 2</th>\n",
       "      <th>Team 1 Score</th>\n",
       "      <th>Team 2 Score</th>\n",
       "      <th>Venue</th>\n",
       "      <th>Weather (Degrees)</th>\n",
       "      <th>Weather Type</th>\n",
       "      <th>Wind (MPH)</th>\n",
       "      <th>Wind Direction</th>\n",
       "    </tr>\n",
       "  </thead>\n",
       "  <tbody>\n",
       "    <tr>\n",
       "      <th>0</th>\n",
       "      <td>2014-03-22</td>\n",
       "      <td>ARI</td>\n",
       "      <td>LAD</td>\n",
       "      <td>1</td>\n",
       "      <td>3</td>\n",
       "      <td>Sydney Cricket Ground</td>\n",
       "      <td>75</td>\n",
       "      <td>Overcast</td>\n",
       "      <td>5</td>\n",
       "      <td>Varies</td>\n",
       "    </tr>\n",
       "    <tr>\n",
       "      <th>1</th>\n",
       "      <td>2014-03-22</td>\n",
       "      <td>ARI</td>\n",
       "      <td>LAD</td>\n",
       "      <td>5</td>\n",
       "      <td>7</td>\n",
       "      <td>Sydney Cricket Ground</td>\n",
       "      <td>79</td>\n",
       "      <td>Partly Cloudy</td>\n",
       "      <td>5</td>\n",
       "      <td>Varies</td>\n",
       "    </tr>\n",
       "    <tr>\n",
       "      <th>2</th>\n",
       "      <td>2014-03-30</td>\n",
       "      <td>LAD</td>\n",
       "      <td>SD</td>\n",
       "      <td>1</td>\n",
       "      <td>3</td>\n",
       "      <td>Petco Park</td>\n",
       "      <td>67</td>\n",
       "      <td>Clear</td>\n",
       "      <td>11</td>\n",
       "      <td>L To R</td>\n",
       "    </tr>\n",
       "    <tr>\n",
       "      <th>3</th>\n",
       "      <td>2014-03-31</td>\n",
       "      <td>CHC</td>\n",
       "      <td>PIT</td>\n",
       "      <td>0</td>\n",
       "      <td>1</td>\n",
       "      <td>PNC Park</td>\n",
       "      <td>54</td>\n",
       "      <td>Sunny</td>\n",
       "      <td>2</td>\n",
       "      <td>Out To CF</td>\n",
       "    </tr>\n",
       "    <tr>\n",
       "      <th>4</th>\n",
       "      <td>2014-03-31</td>\n",
       "      <td>KAN</td>\n",
       "      <td>DET</td>\n",
       "      <td>3</td>\n",
       "      <td>4</td>\n",
       "      <td>Comerica Park</td>\n",
       "      <td>52</td>\n",
       "      <td>Sunny</td>\n",
       "      <td>4</td>\n",
       "      <td>In From CF</td>\n",
       "    </tr>\n",
       "  </tbody>\n",
       "</table>\n",
       "</div>"
      ],
      "text/plain": [
       "         Date Team 1 Team 2  Team 1 Score  Team 2 Score  \\\n",
       "0  2014-03-22    ARI    LAD             1             3   \n",
       "1  2014-03-22    ARI    LAD             5             7   \n",
       "2  2014-03-30    LAD     SD             1             3   \n",
       "3  2014-03-31    CHC    PIT             0             1   \n",
       "4  2014-03-31    KAN    DET             3             4   \n",
       "\n",
       "                   Venue  Weather (Degrees)   Weather Type  Wind (MPH)  \\\n",
       "0  Sydney Cricket Ground                 75       Overcast           5   \n",
       "1  Sydney Cricket Ground                 79  Partly Cloudy           5   \n",
       "2             Petco Park                 67          Clear          11   \n",
       "3               PNC Park                 54          Sunny           2   \n",
       "4          Comerica Park                 52          Sunny           4   \n",
       "\n",
       "  Wind Direction  \n",
       "0         Varies  \n",
       "1         Varies  \n",
       "2         L To R  \n",
       "3      Out To CF  \n",
       "4     In From CF  "
      ]
     },
     "execution_count": 58,
     "metadata": {},
     "output_type": "execute_result"
    }
   ],
   "source": [
    "df = pd.read_csv('weather2.csv')\n",
    "df = df.drop(['Unnamed: 0'], axis = 1)\n",
    "df.head()"
   ]
  },
  {
   "cell_type": "code",
   "execution_count": 21,
   "metadata": {},
   "outputs": [
    {
     "data": {
      "text/html": [
       "<div>\n",
       "<style scoped>\n",
       "    .dataframe tbody tr th:only-of-type {\n",
       "        vertical-align: middle;\n",
       "    }\n",
       "\n",
       "    .dataframe tbody tr th {\n",
       "        vertical-align: top;\n",
       "    }\n",
       "\n",
       "    .dataframe thead th {\n",
       "        text-align: right;\n",
       "    }\n",
       "</style>\n",
       "<table border=\"1\" class=\"dataframe\">\n",
       "  <thead>\n",
       "    <tr style=\"text-align: right;\">\n",
       "      <th></th>\n",
       "      <th>Player</th>\n",
       "      <th>Date</th>\n",
       "      <th>Tm</th>\n",
       "      <th>Opp</th>\n",
       "      <th>PA</th>\n",
       "      <th>AB</th>\n",
       "      <th>R</th>\n",
       "      <th>H</th>\n",
       "      <th>X2B</th>\n",
       "      <th>X3B</th>\n",
       "      <th>HR</th>\n",
       "      <th>RBI</th>\n",
       "      <th>BB</th>\n",
       "      <th>SO</th>\n",
       "      <th>WPA</th>\n",
       "      <th>RE24</th>\n",
       "      <th>aLI</th>\n",
       "      <th>BOP</th>\n",
       "      <th>Pos.Summary</th>\n",
       "    </tr>\n",
       "  </thead>\n",
       "  <tbody>\n",
       "    <tr>\n",
       "      <th>0</th>\n",
       "      <td>A.J. Ellis\\ellisaj01</td>\n",
       "      <td>2014-03-22 00:00:00</td>\n",
       "      <td>LAD</td>\n",
       "      <td>ARI</td>\n",
       "      <td>4</td>\n",
       "      <td>2</td>\n",
       "      <td>0</td>\n",
       "      <td>0</td>\n",
       "      <td>0</td>\n",
       "      <td>0</td>\n",
       "      <td>0</td>\n",
       "      <td>0</td>\n",
       "      <td>1</td>\n",
       "      <td>1</td>\n",
       "      <td>-0.024</td>\n",
       "      <td>0.061</td>\n",
       "      <td>0.620</td>\n",
       "      <td>8</td>\n",
       "      <td>C</td>\n",
       "    </tr>\n",
       "    <tr>\n",
       "      <th>1</th>\n",
       "      <td>Miguel Montero\\montemi01</td>\n",
       "      <td>2014-03-22 00:00:00</td>\n",
       "      <td>ARI</td>\n",
       "      <td>LAD</td>\n",
       "      <td>4</td>\n",
       "      <td>4</td>\n",
       "      <td>0</td>\n",
       "      <td>1</td>\n",
       "      <td>0</td>\n",
       "      <td>0</td>\n",
       "      <td>0</td>\n",
       "      <td>0</td>\n",
       "      <td>0</td>\n",
       "      <td>0</td>\n",
       "      <td>-0.052</td>\n",
       "      <td>-0.334</td>\n",
       "      <td>0.743</td>\n",
       "      <td>6</td>\n",
       "      <td>C</td>\n",
       "    </tr>\n",
       "    <tr>\n",
       "      <th>2</th>\n",
       "      <td>A.J. Ellis\\ellisaj01</td>\n",
       "      <td>2014-03-23 00:00:00</td>\n",
       "      <td>LAD</td>\n",
       "      <td>ARI</td>\n",
       "      <td>5</td>\n",
       "      <td>4</td>\n",
       "      <td>1</td>\n",
       "      <td>0</td>\n",
       "      <td>0</td>\n",
       "      <td>0</td>\n",
       "      <td>0</td>\n",
       "      <td>0</td>\n",
       "      <td>1</td>\n",
       "      <td>1</td>\n",
       "      <td>-0.034</td>\n",
       "      <td>-0.131</td>\n",
       "      <td>0.504</td>\n",
       "      <td>6</td>\n",
       "      <td>C</td>\n",
       "    </tr>\n",
       "    <tr>\n",
       "      <th>3</th>\n",
       "      <td>Miguel Montero\\montemi01</td>\n",
       "      <td>2014-03-23 00:00:00</td>\n",
       "      <td>ARI</td>\n",
       "      <td>LAD</td>\n",
       "      <td>5</td>\n",
       "      <td>5</td>\n",
       "      <td>0</td>\n",
       "      <td>1</td>\n",
       "      <td>0</td>\n",
       "      <td>0</td>\n",
       "      <td>0</td>\n",
       "      <td>0</td>\n",
       "      <td>0</td>\n",
       "      <td>1</td>\n",
       "      <td>0.004</td>\n",
       "      <td>-0.073</td>\n",
       "      <td>0.602</td>\n",
       "      <td>5</td>\n",
       "      <td>C</td>\n",
       "    </tr>\n",
       "    <tr>\n",
       "      <th>4</th>\n",
       "      <td>A.J. Ellis\\ellisaj01</td>\n",
       "      <td>2014-03-30 00:00:00</td>\n",
       "      <td>LAD</td>\n",
       "      <td>SDP</td>\n",
       "      <td>4</td>\n",
       "      <td>3</td>\n",
       "      <td>0</td>\n",
       "      <td>2</td>\n",
       "      <td>0</td>\n",
       "      <td>0</td>\n",
       "      <td>0</td>\n",
       "      <td>0</td>\n",
       "      <td>1</td>\n",
       "      <td>0</td>\n",
       "      <td>0.100</td>\n",
       "      <td>0.852</td>\n",
       "      <td>0.742</td>\n",
       "      <td>7</td>\n",
       "      <td>C</td>\n",
       "    </tr>\n",
       "  </tbody>\n",
       "</table>\n",
       "</div>"
      ],
      "text/plain": [
       "                     Player                 Date   Tm  Opp  PA  AB  R  H  X2B  \\\n",
       "0      A.J. Ellis\\ellisaj01  2014-03-22 00:00:00  LAD  ARI   4   2  0  0    0   \n",
       "1  Miguel Montero\\montemi01  2014-03-22 00:00:00  ARI  LAD   4   4  0  1    0   \n",
       "2      A.J. Ellis\\ellisaj01  2014-03-23 00:00:00  LAD  ARI   5   4  1  0    0   \n",
       "3  Miguel Montero\\montemi01  2014-03-23 00:00:00  ARI  LAD   5   5  0  1    0   \n",
       "4      A.J. Ellis\\ellisaj01  2014-03-30 00:00:00  LAD  SDP   4   3  0  2    0   \n",
       "\n",
       "   X3B  HR  RBI  BB  SO    WPA   RE24    aLI  BOP Pos.Summary  \n",
       "0    0   0    0   1   1 -0.024  0.061  0.620    8           C  \n",
       "1    0   0    0   0   0 -0.052 -0.334  0.743    6           C  \n",
       "2    0   0    0   1   1 -0.034 -0.131  0.504    6           C  \n",
       "3    0   0    0   0   1  0.004 -0.073  0.602    5           C  \n",
       "4    0   0    0   1   0  0.100  0.852  0.742    7           C  "
      ]
     },
     "execution_count": 21,
     "metadata": {},
     "output_type": "execute_result"
    }
   ],
   "source": [
    "df2 = pd.read_csv('logs.csv')\n",
    "df2.head()"
   ]
  },
  {
   "cell_type": "code",
   "execution_count": 22,
   "metadata": {},
   "outputs": [
    {
     "data": {
      "text/html": [
       "<div>\n",
       "<style scoped>\n",
       "    .dataframe tbody tr th:only-of-type {\n",
       "        vertical-align: middle;\n",
       "    }\n",
       "\n",
       "    .dataframe tbody tr th {\n",
       "        vertical-align: top;\n",
       "    }\n",
       "\n",
       "    .dataframe thead th {\n",
       "        text-align: right;\n",
       "    }\n",
       "</style>\n",
       "<table border=\"1\" class=\"dataframe\">\n",
       "  <thead>\n",
       "    <tr style=\"text-align: right;\">\n",
       "      <th></th>\n",
       "      <th>Player</th>\n",
       "      <th>Date</th>\n",
       "      <th>Tm</th>\n",
       "      <th>Opp</th>\n",
       "      <th>PA</th>\n",
       "      <th>AB</th>\n",
       "      <th>R</th>\n",
       "      <th>H</th>\n",
       "      <th>X2B</th>\n",
       "      <th>X3B</th>\n",
       "      <th>HR</th>\n",
       "      <th>RBI</th>\n",
       "      <th>BB</th>\n",
       "      <th>SO</th>\n",
       "      <th>WPA</th>\n",
       "      <th>RE24</th>\n",
       "      <th>aLI</th>\n",
       "      <th>BOP</th>\n",
       "      <th>Pos.Summary</th>\n",
       "    </tr>\n",
       "  </thead>\n",
       "  <tbody>\n",
       "    <tr>\n",
       "      <th>0</th>\n",
       "      <td>A.J. Ellis\\ellisaj01</td>\n",
       "      <td>2014-03-22</td>\n",
       "      <td>LAD</td>\n",
       "      <td>ARI</td>\n",
       "      <td>4</td>\n",
       "      <td>2</td>\n",
       "      <td>0</td>\n",
       "      <td>0</td>\n",
       "      <td>0</td>\n",
       "      <td>0</td>\n",
       "      <td>0</td>\n",
       "      <td>0</td>\n",
       "      <td>1</td>\n",
       "      <td>1</td>\n",
       "      <td>-0.024</td>\n",
       "      <td>0.061</td>\n",
       "      <td>0.620</td>\n",
       "      <td>8</td>\n",
       "      <td>C</td>\n",
       "    </tr>\n",
       "    <tr>\n",
       "      <th>1</th>\n",
       "      <td>Miguel Montero\\montemi01</td>\n",
       "      <td>2014-03-22</td>\n",
       "      <td>ARI</td>\n",
       "      <td>LAD</td>\n",
       "      <td>4</td>\n",
       "      <td>4</td>\n",
       "      <td>0</td>\n",
       "      <td>1</td>\n",
       "      <td>0</td>\n",
       "      <td>0</td>\n",
       "      <td>0</td>\n",
       "      <td>0</td>\n",
       "      <td>0</td>\n",
       "      <td>0</td>\n",
       "      <td>-0.052</td>\n",
       "      <td>-0.334</td>\n",
       "      <td>0.743</td>\n",
       "      <td>6</td>\n",
       "      <td>C</td>\n",
       "    </tr>\n",
       "    <tr>\n",
       "      <th>2</th>\n",
       "      <td>A.J. Ellis\\ellisaj01</td>\n",
       "      <td>2014-03-23</td>\n",
       "      <td>LAD</td>\n",
       "      <td>ARI</td>\n",
       "      <td>5</td>\n",
       "      <td>4</td>\n",
       "      <td>1</td>\n",
       "      <td>0</td>\n",
       "      <td>0</td>\n",
       "      <td>0</td>\n",
       "      <td>0</td>\n",
       "      <td>0</td>\n",
       "      <td>1</td>\n",
       "      <td>1</td>\n",
       "      <td>-0.034</td>\n",
       "      <td>-0.131</td>\n",
       "      <td>0.504</td>\n",
       "      <td>6</td>\n",
       "      <td>C</td>\n",
       "    </tr>\n",
       "    <tr>\n",
       "      <th>3</th>\n",
       "      <td>Miguel Montero\\montemi01</td>\n",
       "      <td>2014-03-23</td>\n",
       "      <td>ARI</td>\n",
       "      <td>LAD</td>\n",
       "      <td>5</td>\n",
       "      <td>5</td>\n",
       "      <td>0</td>\n",
       "      <td>1</td>\n",
       "      <td>0</td>\n",
       "      <td>0</td>\n",
       "      <td>0</td>\n",
       "      <td>0</td>\n",
       "      <td>0</td>\n",
       "      <td>1</td>\n",
       "      <td>0.004</td>\n",
       "      <td>-0.073</td>\n",
       "      <td>0.602</td>\n",
       "      <td>5</td>\n",
       "      <td>C</td>\n",
       "    </tr>\n",
       "    <tr>\n",
       "      <th>4</th>\n",
       "      <td>A.J. Ellis\\ellisaj01</td>\n",
       "      <td>2014-03-30</td>\n",
       "      <td>LAD</td>\n",
       "      <td>SDP</td>\n",
       "      <td>4</td>\n",
       "      <td>3</td>\n",
       "      <td>0</td>\n",
       "      <td>1</td>\n",
       "      <td>0</td>\n",
       "      <td>0</td>\n",
       "      <td>0</td>\n",
       "      <td>0</td>\n",
       "      <td>1</td>\n",
       "      <td>0</td>\n",
       "      <td>0.100</td>\n",
       "      <td>0.852</td>\n",
       "      <td>0.742</td>\n",
       "      <td>7</td>\n",
       "      <td>C</td>\n",
       "    </tr>\n",
       "  </tbody>\n",
       "</table>\n",
       "</div>"
      ],
      "text/plain": [
       "                     Player        Date   Tm  Opp  PA  AB  R  H  X2B  X3B  HR  \\\n",
       "0      A.J. Ellis\\ellisaj01  2014-03-22  LAD  ARI   4   2  0  0    0    0   0   \n",
       "1  Miguel Montero\\montemi01  2014-03-22  ARI  LAD   4   4  0  1    0    0   0   \n",
       "2      A.J. Ellis\\ellisaj01  2014-03-23  LAD  ARI   5   4  1  0    0    0   0   \n",
       "3  Miguel Montero\\montemi01  2014-03-23  ARI  LAD   5   5  0  1    0    0   0   \n",
       "4      A.J. Ellis\\ellisaj01  2014-03-30  LAD  SDP   4   3  0  1    0    0   0   \n",
       "\n",
       "   RBI  BB  SO    WPA   RE24    aLI  BOP Pos.Summary  \n",
       "0    0   1   1 -0.024  0.061  0.620    8           C  \n",
       "1    0   0   0 -0.052 -0.334  0.743    6           C  \n",
       "2    0   1   1 -0.034 -0.131  0.504    6           C  \n",
       "3    0   0   1  0.004 -0.073  0.602    5           C  \n",
       "4    0   1   0  0.100  0.852  0.742    7           C  "
      ]
     },
     "execution_count": 22,
     "metadata": {},
     "output_type": "execute_result"
    }
   ],
   "source": [
    "for i in range(len(df2)):\n",
    "    df2.at[i, 'Date'] = df2.at[i, 'Date'].replace(' 00:00:00', '')\n",
    "    if df2.at[i, 'H'] >= 1:\n",
    "        df2.at[i, 'H'] = 1\n",
    "df2.head()"
   ]
  },
  {
   "cell_type": "code",
   "execution_count": 23,
   "metadata": {},
   "outputs": [
    {
     "data": {
      "text/html": [
       "<div>\n",
       "<style scoped>\n",
       "    .dataframe tbody tr th:only-of-type {\n",
       "        vertical-align: middle;\n",
       "    }\n",
       "\n",
       "    .dataframe tbody tr th {\n",
       "        vertical-align: top;\n",
       "    }\n",
       "\n",
       "    .dataframe thead th {\n",
       "        text-align: right;\n",
       "    }\n",
       "</style>\n",
       "<table border=\"1\" class=\"dataframe\">\n",
       "  <thead>\n",
       "    <tr style=\"text-align: right;\">\n",
       "      <th></th>\n",
       "      <th>Player</th>\n",
       "      <th>Date</th>\n",
       "      <th>Tm</th>\n",
       "      <th>Opp</th>\n",
       "      <th>PA</th>\n",
       "      <th>AB</th>\n",
       "      <th>R</th>\n",
       "      <th>H</th>\n",
       "      <th>X2B</th>\n",
       "      <th>X3B</th>\n",
       "      <th>...</th>\n",
       "      <th>Unnamed: 0</th>\n",
       "      <th>Team 1</th>\n",
       "      <th>Team 2</th>\n",
       "      <th>Team 1 Score</th>\n",
       "      <th>Team 2 Score</th>\n",
       "      <th>Venue</th>\n",
       "      <th>Weather (Degrees)</th>\n",
       "      <th>Weather Type</th>\n",
       "      <th>Wind (MPH)</th>\n",
       "      <th>Wind Direction</th>\n",
       "    </tr>\n",
       "  </thead>\n",
       "  <tbody>\n",
       "    <tr>\n",
       "      <th>0</th>\n",
       "      <td>J.P. Arencibia\\arencjp01</td>\n",
       "      <td>2014-03-31</td>\n",
       "      <td>TEX</td>\n",
       "      <td>PHI</td>\n",
       "      <td>5</td>\n",
       "      <td>4</td>\n",
       "      <td>2</td>\n",
       "      <td>1</td>\n",
       "      <td>1</td>\n",
       "      <td>0</td>\n",
       "      <td>...</td>\n",
       "      <td>6</td>\n",
       "      <td>TEX</td>\n",
       "      <td>PHI</td>\n",
       "      <td>10</td>\n",
       "      <td>14</td>\n",
       "      <td>Globe Life Field</td>\n",
       "      <td>74</td>\n",
       "      <td>Partly Cloudy</td>\n",
       "      <td>18</td>\n",
       "      <td>R To L</td>\n",
       "    </tr>\n",
       "    <tr>\n",
       "      <th>1</th>\n",
       "      <td>Evan Gattis\\gattiev01</td>\n",
       "      <td>2014-03-31</td>\n",
       "      <td>ATL</td>\n",
       "      <td>MIL</td>\n",
       "      <td>4</td>\n",
       "      <td>4</td>\n",
       "      <td>0</td>\n",
       "      <td>0</td>\n",
       "      <td>0</td>\n",
       "      <td>0</td>\n",
       "      <td>...</td>\n",
       "      <td>7</td>\n",
       "      <td>ATL</td>\n",
       "      <td>MIL</td>\n",
       "      <td>0</td>\n",
       "      <td>2</td>\n",
       "      <td>Miller Park</td>\n",
       "      <td>67</td>\n",
       "      <td>Roof Closed</td>\n",
       "      <td>0</td>\n",
       "      <td>None</td>\n",
       "    </tr>\n",
       "    <tr>\n",
       "      <th>2</th>\n",
       "      <td>Chris Iannetta\\iannech01</td>\n",
       "      <td>2014-03-31</td>\n",
       "      <td>LAA</td>\n",
       "      <td>SEA</td>\n",
       "      <td>4</td>\n",
       "      <td>4</td>\n",
       "      <td>0</td>\n",
       "      <td>0</td>\n",
       "      <td>0</td>\n",
       "      <td>0</td>\n",
       "      <td>...</td>\n",
       "      <td>15</td>\n",
       "      <td>LAA</td>\n",
       "      <td>SEA</td>\n",
       "      <td>3</td>\n",
       "      <td>10</td>\n",
       "      <td>Angel Stadium</td>\n",
       "      <td>60</td>\n",
       "      <td>Partly Cloudy</td>\n",
       "      <td>9</td>\n",
       "      <td>Out To CF</td>\n",
       "    </tr>\n",
       "    <tr>\n",
       "      <th>3</th>\n",
       "      <td>John Jaso\\jasojo01</td>\n",
       "      <td>2014-03-31</td>\n",
       "      <td>OAK</td>\n",
       "      <td>CLE</td>\n",
       "      <td>4</td>\n",
       "      <td>3</td>\n",
       "      <td>0</td>\n",
       "      <td>1</td>\n",
       "      <td>1</td>\n",
       "      <td>0</td>\n",
       "      <td>...</td>\n",
       "      <td>14</td>\n",
       "      <td>OAK</td>\n",
       "      <td>CLE</td>\n",
       "      <td>0</td>\n",
       "      <td>2</td>\n",
       "      <td>RingCentral Coliseum</td>\n",
       "      <td>49</td>\n",
       "      <td>Cloudy</td>\n",
       "      <td>12</td>\n",
       "      <td>Out To RF</td>\n",
       "    </tr>\n",
       "    <tr>\n",
       "      <th>4</th>\n",
       "      <td>Brayan Pena\\penabr01</td>\n",
       "      <td>2014-03-31</td>\n",
       "      <td>CIN</td>\n",
       "      <td>STL</td>\n",
       "      <td>4</td>\n",
       "      <td>3</td>\n",
       "      <td>0</td>\n",
       "      <td>0</td>\n",
       "      <td>0</td>\n",
       "      <td>0</td>\n",
       "      <td>...</td>\n",
       "      <td>10</td>\n",
       "      <td>CIN</td>\n",
       "      <td>STL</td>\n",
       "      <td>0</td>\n",
       "      <td>1</td>\n",
       "      <td>Great American Ball Park</td>\n",
       "      <td>64</td>\n",
       "      <td>Partly Cloudy</td>\n",
       "      <td>9</td>\n",
       "      <td>In From CF</td>\n",
       "    </tr>\n",
       "  </tbody>\n",
       "</table>\n",
       "<p>5 rows × 29 columns</p>\n",
       "</div>"
      ],
      "text/plain": [
       "                     Player        Date   Tm  Opp  PA  AB  R  H  X2B  X3B  \\\n",
       "0  J.P. Arencibia\\arencjp01  2014-03-31  TEX  PHI   5   4  2  1    1    0   \n",
       "1     Evan Gattis\\gattiev01  2014-03-31  ATL  MIL   4   4  0  0    0    0   \n",
       "2  Chris Iannetta\\iannech01  2014-03-31  LAA  SEA   4   4  0  0    0    0   \n",
       "3        John Jaso\\jasojo01  2014-03-31  OAK  CLE   4   3  0  1    1    0   \n",
       "4      Brayan Pena\\penabr01  2014-03-31  CIN  STL   4   3  0  0    0    0   \n",
       "\n",
       "   ...  Unnamed: 0  Team 1  Team 2  Team 1 Score  Team 2 Score  \\\n",
       "0  ...           6     TEX     PHI            10            14   \n",
       "1  ...           7     ATL     MIL             0             2   \n",
       "2  ...          15     LAA     SEA             3            10   \n",
       "3  ...          14     OAK     CLE             0             2   \n",
       "4  ...          10     CIN     STL             0             1   \n",
       "\n",
       "                      Venue  Weather (Degrees)   Weather Type Wind (MPH)  \\\n",
       "0          Globe Life Field                 74  Partly Cloudy         18   \n",
       "1               Miller Park                 67    Roof Closed          0   \n",
       "2             Angel Stadium                 60  Partly Cloudy          9   \n",
       "3      RingCentral Coliseum                 49         Cloudy         12   \n",
       "4  Great American Ball Park                 64  Partly Cloudy          9   \n",
       "\n",
       "   Wind Direction  \n",
       "0          R To L  \n",
       "1            None  \n",
       "2       Out To CF  \n",
       "3       Out To RF  \n",
       "4      In From CF  \n",
       "\n",
       "[5 rows x 29 columns]"
      ]
     },
     "execution_count": 23,
     "metadata": {},
     "output_type": "execute_result"
    }
   ],
   "source": [
    "merge = pd.merge(df2, df,  how= 'inner', left_on=['Date','Tm', 'Opp'], right_on = ['Date','Team 1', 'Team 2'])\n",
    "merge2 = pd.merge(df2, df,  how= 'inner', left_on=['Date','Tm', 'Opp'], right_on = ['Date','Team 2', 'Team 1'])\n",
    "merge = merge.append(merge2)\n",
    "merge = merge.drop_duplicates(['Player', 'Date'], keep= False)\n",
    "merge = merge.reset_index()\n",
    "merge = merge.drop(['index'], 1)\n",
    "merge.head()"
   ]
  },
  {
   "cell_type": "code",
   "execution_count": 24,
   "metadata": {},
   "outputs": [
    {
     "data": {
      "image/png": "[encoded data removed]",
      "text/plain": [
       "<Figure size 432x288 with 1 Axes>"
      ]
     },
     "metadata": {
      "needs_background": "light"
     },
     "output_type": "display_data"
    }
   ],
   "source": [
    "plt.scatter(x = merge['Weather (Degrees)'], y = merge['H'])\n",
    "plt.show()"
   ]
  },
  {
   "cell_type": "code",
   "execution_count": 25,
   "metadata": {},
   "outputs": [
    {
     "data": {
      "image/png": "[encoded data removed]",
      "text/plain": [
       "<Figure size 432x288 with 1 Axes>"
      ]
     },
     "metadata": {
      "needs_background": "light"
     },
     "output_type": "display_data"
    }
   ],
   "source": [
    "plt.scatter(x = merge['Wind (MPH)'], y = merge['H'])\n",
    "plt.show()"
   ]
  },
  {
   "cell_type": "code",
   "execution_count": 26,
   "metadata": {},
   "outputs": [
    {
     "name": "stdout",
     "output_type": "stream",
     "text": [
      "Optimization terminated successfully.\n",
      "         Current function value: 0.626335\n",
      "         Iterations 5\n"
     ]
    },
    {
     "data": {
      "text/html": [
       "<table class=\"simpletable\">\n",
       "<caption>Logit Regression Results</caption>\n",
       "<tr>\n",
       "  <th>Dep. Variable:</th>           <td>H</td>        <th>  No. Observations:  </th>  <td>   571</td> \n",
       "</tr>\n",
       "<tr>\n",
       "  <th>Model:</th>                 <td>Logit</td>      <th>  Df Residuals:      </th>  <td>   569</td> \n",
       "</tr>\n",
       "<tr>\n",
       "  <th>Method:</th>                 <td>MLE</td>       <th>  Df Model:          </th>  <td>     1</td> \n",
       "</tr>\n",
       "<tr>\n",
       "  <th>Date:</th>            <td>Sun, 28 Jun 2020</td> <th>  Pseudo R-squ.:     </th> <td>0.001441</td>\n",
       "</tr>\n",
       "<tr>\n",
       "  <th>Time:</th>                <td>13:21:24</td>     <th>  Log-Likelihood:    </th> <td> -357.64</td>\n",
       "</tr>\n",
       "<tr>\n",
       "  <th>converged:</th>             <td>True</td>       <th>  LL-Null:           </th> <td> -358.15</td>\n",
       "</tr>\n",
       "<tr>\n",
       "  <th>Covariance Type:</th>     <td>nonrobust</td>    <th>  LLR p-value:       </th>  <td>0.3096</td> \n",
       "</tr>\n",
       "</table>\n",
       "<table class=\"simpletable\">\n",
       "<tr>\n",
       "          <td></td>             <th>coef</th>     <th>std err</th>      <th>z</th>      <th>P>|z|</th>  <th>[0.025</th>    <th>0.975]</th>  \n",
       "</tr>\n",
       "<tr>\n",
       "  <th>const</th>             <td>    1.2361</td> <td>    0.488</td> <td>    2.535</td> <td> 0.011</td> <td>    0.280</td> <td>    2.192</td>\n",
       "</tr>\n",
       "<tr>\n",
       "  <th>Weather (Degrees)</th> <td>   -0.0075</td> <td>    0.007</td> <td>   -1.014</td> <td> 0.311</td> <td>   -0.022</td> <td>    0.007</td>\n",
       "</tr>\n",
       "</table>"
      ],
      "text/plain": [
       "<class 'statsmodels.iolib.summary.Summary'>\n",
       "\"\"\"\n",
       "                           Logit Regression Results                           \n",
       "==============================================================================\n",
       "Dep. Variable:                      H   No. Observations:                  571\n",
       "Model:                          Logit   Df Residuals:                      569\n",
       "Method:                           MLE   Df Model:                            1\n",
       "Date:                Sun, 28 Jun 2020   Pseudo R-squ.:                0.001441\n",
       "Time:                        13:21:24   Log-Likelihood:                -357.64\n",
       "converged:                       True   LL-Null:                       -358.15\n",
       "Covariance Type:            nonrobust   LLR p-value:                    0.3096\n",
       "=====================================================================================\n",
       "                        coef    std err          z      P>|z|      [0.025      0.975]\n",
       "-------------------------------------------------------------------------------------\n",
       "const                 1.2361      0.488      2.535      0.011       0.280       2.192\n",
       "Weather (Degrees)    -0.0075      0.007     -1.014      0.311      -0.022       0.007\n",
       "=====================================================================================\n",
       "\"\"\""
      ]
     },
     "execution_count": 26,
     "metadata": {},
     "output_type": "execute_result"
    }
   ],
   "source": [
    "x = merge['Weather (Degrees)']\n",
    "y = merge['H']\n",
    "model = sm.Logit(y, sm.add_constant(x)).fit()\n",
    "model.summary()"
   ]
  },
  {
   "cell_type": "code",
   "execution_count": 27,
   "metadata": {},
   "outputs": [
    {
     "name": "stdout",
     "output_type": "stream",
     "text": [
      "Optimization terminated successfully.\n",
      "         Current function value: 0.626899\n",
      "         Iterations 4\n"
     ]
    },
    {
     "data": {
      "text/html": [
       "<table class=\"simpletable\">\n",
       "<caption>Logit Regression Results</caption>\n",
       "<tr>\n",
       "  <th>Dep. Variable:</th>           <td>H</td>        <th>  No. Observations:  </th>  <td>   571</td>  \n",
       "</tr>\n",
       "<tr>\n",
       "  <th>Model:</th>                 <td>Logit</td>      <th>  Df Residuals:      </th>  <td>   569</td>  \n",
       "</tr>\n",
       "<tr>\n",
       "  <th>Method:</th>                 <td>MLE</td>       <th>  Df Model:          </th>  <td>     1</td>  \n",
       "</tr>\n",
       "<tr>\n",
       "  <th>Date:</th>            <td>Sun, 28 Jun 2020</td> <th>  Pseudo R-squ.:     </th> <td>0.0005418</td>\n",
       "</tr>\n",
       "<tr>\n",
       "  <th>Time:</th>                <td>13:21:25</td>     <th>  Log-Likelihood:    </th> <td> -357.96</td> \n",
       "</tr>\n",
       "<tr>\n",
       "  <th>converged:</th>             <td>True</td>       <th>  LL-Null:           </th> <td> -358.15</td> \n",
       "</tr>\n",
       "<tr>\n",
       "  <th>Covariance Type:</th>     <td>nonrobust</td>    <th>  LLR p-value:       </th>  <td>0.5333</td>  \n",
       "</tr>\n",
       "</table>\n",
       "<table class=\"simpletable\">\n",
       "<tr>\n",
       "       <td></td>         <th>coef</th>     <th>std err</th>      <th>z</th>      <th>P>|z|</th>  <th>[0.025</th>    <th>0.975]</th>  \n",
       "</tr>\n",
       "<tr>\n",
       "  <th>const</th>      <td>    0.6759</td> <td>    0.150</td> <td>    4.492</td> <td> 0.000</td> <td>    0.381</td> <td>    0.971</td>\n",
       "</tr>\n",
       "<tr>\n",
       "  <th>Wind (MPH)</th> <td>    0.0089</td> <td>    0.014</td> <td>    0.621</td> <td> 0.534</td> <td>   -0.019</td> <td>    0.037</td>\n",
       "</tr>\n",
       "</table>"
      ],
      "text/plain": [
       "<class 'statsmodels.iolib.summary.Summary'>\n",
       "\"\"\"\n",
       "                           Logit Regression Results                           \n",
       "==============================================================================\n",
       "Dep. Variable:                      H   No. Observations:                  571\n",
       "Model:                          Logit   Df Residuals:                      569\n",
       "Method:                           MLE   Df Model:                            1\n",
       "Date:                Sun, 28 Jun 2020   Pseudo R-squ.:               0.0005418\n",
       "Time:                        13:21:25   Log-Likelihood:                -357.96\n",
       "converged:                       True   LL-Null:                       -358.15\n",
       "Covariance Type:            nonrobust   LLR p-value:                    0.5333\n",
       "==============================================================================\n",
       "                 coef    std err          z      P>|z|      [0.025      0.975]\n",
       "------------------------------------------------------------------------------\n",
       "const          0.6759      0.150      4.492      0.000       0.381       0.971\n",
       "Wind (MPH)     0.0089      0.014      0.621      0.534      -0.019       0.037\n",
       "==============================================================================\n",
       "\"\"\""
      ]
     },
     "execution_count": 27,
     "metadata": {},
     "output_type": "execute_result"
    }
   ],
   "source": [
    "x = merge['Wind (MPH)']\n",
    "y = merge['H']\n",
    "model = sm.Logit(y, sm.add_constant(x)).fit()\n",
    "model.summary()"
   ]
  },
  {
   "cell_type": "code",
   "execution_count": 28,
   "metadata": {},
   "outputs": [
    {
     "name": "stdout",
     "output_type": "stream",
     "text": [
      "Optimization terminated successfully.\n",
      "         Current function value: 0.626078\n",
      "         Iterations 5\n"
     ]
    },
    {
     "data": {
      "text/html": [
       "<table class=\"simpletable\">\n",
       "<caption>Logit Regression Results</caption>\n",
       "<tr>\n",
       "  <th>Dep. Variable:</th>           <td>H</td>        <th>  No. Observations:  </th>  <td>   571</td> \n",
       "</tr>\n",
       "<tr>\n",
       "  <th>Model:</th>                 <td>Logit</td>      <th>  Df Residuals:      </th>  <td>   568</td> \n",
       "</tr>\n",
       "<tr>\n",
       "  <th>Method:</th>                 <td>MLE</td>       <th>  Df Model:          </th>  <td>     2</td> \n",
       "</tr>\n",
       "<tr>\n",
       "  <th>Date:</th>            <td>Sun, 28 Jun 2020</td> <th>  Pseudo R-squ.:     </th> <td>0.001849</td>\n",
       "</tr>\n",
       "<tr>\n",
       "  <th>Time:</th>                <td>13:21:26</td>     <th>  Log-Likelihood:    </th> <td> -357.49</td>\n",
       "</tr>\n",
       "<tr>\n",
       "  <th>converged:</th>             <td>True</td>       <th>  LL-Null:           </th> <td> -358.15</td>\n",
       "</tr>\n",
       "<tr>\n",
       "  <th>Covariance Type:</th>     <td>nonrobust</td>    <th>  LLR p-value:       </th>  <td>0.5156</td> \n",
       "</tr>\n",
       "</table>\n",
       "<table class=\"simpletable\">\n",
       "<tr>\n",
       "          <td></td>             <th>coef</th>     <th>std err</th>      <th>z</th>      <th>P>|z|</th>  <th>[0.025</th>    <th>0.975]</th>  \n",
       "</tr>\n",
       "<tr>\n",
       "  <th>const</th>             <td>    1.1495</td> <td>    0.514</td> <td>    2.238</td> <td> 0.025</td> <td>    0.143</td> <td>    2.156</td>\n",
       "</tr>\n",
       "<tr>\n",
       "  <th>Weather (Degrees)</th> <td>   -0.0071</td> <td>    0.007</td> <td>   -0.966</td> <td> 0.334</td> <td>   -0.022</td> <td>    0.007</td>\n",
       "</tr>\n",
       "<tr>\n",
       "  <th>Wind (MPH)</th>        <td>    0.0077</td> <td>    0.014</td> <td>    0.540</td> <td> 0.589</td> <td>   -0.020</td> <td>    0.036</td>\n",
       "</tr>\n",
       "</table>"
      ],
      "text/plain": [
       "<class 'statsmodels.iolib.summary.Summary'>\n",
       "\"\"\"\n",
       "                           Logit Regression Results                           \n",
       "==============================================================================\n",
       "Dep. Variable:                      H   No. Observations:                  571\n",
       "Model:                          Logit   Df Residuals:                      568\n",
       "Method:                           MLE   Df Model:                            2\n",
       "Date:                Sun, 28 Jun 2020   Pseudo R-squ.:                0.001849\n",
       "Time:                        13:21:26   Log-Likelihood:                -357.49\n",
       "converged:                       True   LL-Null:                       -358.15\n",
       "Covariance Type:            nonrobust   LLR p-value:                    0.5156\n",
       "=====================================================================================\n",
       "                        coef    std err          z      P>|z|      [0.025      0.975]\n",
       "-------------------------------------------------------------------------------------\n",
       "const                 1.1495      0.514      2.238      0.025       0.143       2.156\n",
       "Weather (Degrees)    -0.0071      0.007     -0.966      0.334      -0.022       0.007\n",
       "Wind (MPH)            0.0077      0.014      0.540      0.589      -0.020       0.036\n",
       "=====================================================================================\n",
       "\"\"\""
      ]
     },
     "execution_count": 28,
     "metadata": {},
     "output_type": "execute_result"
    }
   ],
   "source": [
    "x = merge[['Weather (Degrees)', 'Wind (MPH)']]\n",
    "y = merge['H']\n",
    "model = sm.Logit(y, sm.add_constant(x)).fit()\n",
    "model.summary()"
   ]
  },
  {
   "cell_type": "code",
   "execution_count": 29,
   "metadata": {},
   "outputs": [
    {
     "data": {
      "text/plain": [
       "RandomForestClassifier(bootstrap=True, ccp_alpha=0.0, class_weight=None,\n",
       "                       criterion='gini', max_depth=None, max_features='auto',\n",
       "                       max_leaf_nodes=None, max_samples=None,\n",
       "                       min_impurity_decrease=0.0, min_impurity_split=None,\n",
       "                       min_samples_leaf=1, min_samples_split=2,\n",
       "                       min_weight_fraction_leaf=0.0, n_estimators=100,\n",
       "                       n_jobs=None, oob_score=False, random_state=None,\n",
       "                       verbose=0, warm_start=False)"
      ]
     },
     "execution_count": 29,
     "metadata": {},
     "output_type": "execute_result"
    }
   ],
   "source": [
    "from sklearn.ensemble import RandomForestClassifier\n",
    "from sklearn.model_selection import train_test_split\n",
    "\n",
    "x, y = pd.DataFrame(merge, columns = ['Weather (Degrees)']), pd.DataFrame(merge, columns = ['H'])\n",
    "x_train, x_test, y_train, y_test = train_test_split(x, y, test_size=0.20)\n",
    "\n",
    "clf = RandomForestClassifier()\n",
    "clf.fit(x_train, y_train.values.ravel())"
   ]
  },
  {
   "cell_type": "code",
   "execution_count": 33,
   "metadata": {},
   "outputs": [
    {
     "name": "stdout",
     "output_type": "stream",
     "text": [
      "0.6\n"
     ]
    }
   ],
   "source": [
    "predictions = clf.predict(x_test)\n",
    "predictions = [float(i) for i in predictions]\n",
    "comparison = pd.DataFrame({\"Real\" : y_test.iloc[:,0], \"Predictions\" : predictions})\n",
    "comparison = comparison.reset_index()\n",
    "comparison = comparison.drop(['index'], axis=1)\n",
    "correct = 0\n",
    "for i in range(len(comparison)):\n",
    "    if comparison.at[i, 'Real'] == comparison.at[i, 'Predictions']:\n",
    "        correct += 1\n",
    "print (correct / len(comparison))"
   ]
  },
  {
   "cell_type": "code",
   "execution_count": 34,
   "metadata": {},
   "outputs": [
    {
     "data": {
      "text/plain": [
       "RandomForestClassifier(bootstrap=True, ccp_alpha=0.0, class_weight=None,\n",
       "                       criterion='gini', max_depth=None, max_features='auto',\n",
       "                       max_leaf_nodes=None, max_samples=None,\n",
       "                       min_impurity_decrease=0.0, min_impurity_split=None,\n",
       "                       min_samples_leaf=1, min_samples_split=2,\n",
       "                       min_weight_fraction_leaf=0.0, n_estimators=100,\n",
       "                       n_jobs=None, oob_score=False, random_state=None,\n",
       "                       verbose=0, warm_start=False)"
      ]
     },
     "execution_count": 34,
     "metadata": {},
     "output_type": "execute_result"
    }
   ],
   "source": [
    "from sklearn.ensemble import RandomForestClassifier\n",
    "from sklearn.model_selection import train_test_split\n",
    "\n",
    "x, y = pd.DataFrame(merge, columns = ['Wind (MPH)']), pd.DataFrame(merge, columns = ['H'])\n",
    "x_train, x_test, y_train, y_test = train_test_split(x, y, test_size=0.20)\n",
    "\n",
    "clf = RandomForestClassifier()\n",
    "clf.fit(x_train, y_train.values.ravel())"
   ]
  },
  {
   "cell_type": "code",
   "execution_count": 35,
   "metadata": {},
   "outputs": [
    {
     "name": "stdout",
     "output_type": "stream",
     "text": [
      "0.6521739130434783\n"
     ]
    }
   ],
   "source": [
    "predictions = clf.predict(x_test)\n",
    "predictions = [float(i) for i in predictions]\n",
    "comparison = pd.DataFrame({\"Real\" : y_test.iloc[:,0], \"Predictions\" : predictions})\n",
    "comparison = comparison.reset_index()\n",
    "comparison = comparison.drop(['index'], axis=1)\n",
    "correct = 0\n",
    "for i in range(len(comparison)):\n",
    "    if comparison.at[i, 'Real'] == comparison.at[i, 'Predictions']:\n",
    "        correct += 1\n",
    "print (correct / len(comparison))"
   ]
  },
  {
   "cell_type": "code",
   "execution_count": 36,
   "metadata": {},
   "outputs": [
    {
     "data": {
      "text/plain": [
       "RandomForestClassifier(bootstrap=True, ccp_alpha=0.0, class_weight=None,\n",
       "                       criterion='gini', max_depth=None, max_features='auto',\n",
       "                       max_leaf_nodes=None, max_samples=None,\n",
       "                       min_impurity_decrease=0.0, min_impurity_split=None,\n",
       "                       min_samples_leaf=1, min_samples_split=2,\n",
       "                       min_weight_fraction_leaf=0.0, n_estimators=100,\n",
       "                       n_jobs=None, oob_score=False, random_state=None,\n",
       "                       verbose=0, warm_start=False)"
      ]
     },
     "execution_count": 36,
     "metadata": {},
     "output_type": "execute_result"
    }
   ],
   "source": [
    "from sklearn.ensemble import RandomForestClassifier\n",
    "from sklearn.model_selection import train_test_split\n",
    "\n",
    "x, y = pd.DataFrame(merge, columns = ['Weather (Degrees)', 'Wind (MPH)']), pd.DataFrame(merge, columns = ['H'])\n",
    "x_train, x_test, y_train, y_test = train_test_split(x, y, test_size=0.20)\n",
    "\n",
    "clf = RandomForestClassifier()\n",
    "clf.fit(x_train, y_train.values.ravel())"
   ]
  },
  {
   "cell_type": "code",
   "execution_count": 37,
   "metadata": {},
   "outputs": [
    {
     "name": "stdout",
     "output_type": "stream",
     "text": [
      "0.591304347826087\n"
     ]
    }
   ],
   "source": [
    "predictions = clf.predict(x_test)\n",
    "predictions = [float(i) for i in predictions]\n",
    "comparison = pd.DataFrame({\"Real\" : y_test.iloc[:,0], \"Predictions\" : predictions})\n",
    "comparison = comparison.reset_index()\n",
    "comparison = comparison.drop(['index'], axis=1)\n",
    "correct = 0\n",
    "for i in range(len(comparison)):\n",
    "    if comparison.at[i, 'Real'] == comparison.at[i, 'Predictions']:\n",
    "        correct += 1\n",
    "print (correct / len(comparison))"
   ]
  },
  {
   "cell_type": "code",
   "execution_count": 38,
   "metadata": {},
   "outputs": [
    {
     "data": {
      "text/html": [
       "<div>\n",
       "<style scoped>\n",
       "    .dataframe tbody tr th:only-of-type {\n",
       "        vertical-align: middle;\n",
       "    }\n",
       "\n",
       "    .dataframe tbody tr th {\n",
       "        vertical-align: top;\n",
       "    }\n",
       "\n",
       "    .dataframe thead th {\n",
       "        text-align: right;\n",
       "    }\n",
       "</style>\n",
       "<table border=\"1\" class=\"dataframe\">\n",
       "  <thead>\n",
       "    <tr style=\"text-align: right;\">\n",
       "      <th></th>\n",
       "      <th>Weather_Clear</th>\n",
       "      <th>Weather_Cloudy</th>\n",
       "      <th>Weather_Drizzle</th>\n",
       "      <th>Weather_Overcast</th>\n",
       "      <th>Weather_Partly Cloudy</th>\n",
       "      <th>Weather_Rain</th>\n",
       "      <th>Weather_Roof Closed</th>\n",
       "      <th>Weather_Sunny</th>\n",
       "    </tr>\n",
       "  </thead>\n",
       "  <tbody>\n",
       "    <tr>\n",
       "      <th>0</th>\n",
       "      <td>0</td>\n",
       "      <td>0</td>\n",
       "      <td>0</td>\n",
       "      <td>0</td>\n",
       "      <td>1</td>\n",
       "      <td>0</td>\n",
       "      <td>0</td>\n",
       "      <td>0</td>\n",
       "    </tr>\n",
       "    <tr>\n",
       "      <th>1</th>\n",
       "      <td>0</td>\n",
       "      <td>0</td>\n",
       "      <td>0</td>\n",
       "      <td>0</td>\n",
       "      <td>0</td>\n",
       "      <td>0</td>\n",
       "      <td>1</td>\n",
       "      <td>0</td>\n",
       "    </tr>\n",
       "    <tr>\n",
       "      <th>2</th>\n",
       "      <td>0</td>\n",
       "      <td>0</td>\n",
       "      <td>0</td>\n",
       "      <td>0</td>\n",
       "      <td>1</td>\n",
       "      <td>0</td>\n",
       "      <td>0</td>\n",
       "      <td>0</td>\n",
       "    </tr>\n",
       "    <tr>\n",
       "      <th>3</th>\n",
       "      <td>0</td>\n",
       "      <td>1</td>\n",
       "      <td>0</td>\n",
       "      <td>0</td>\n",
       "      <td>0</td>\n",
       "      <td>0</td>\n",
       "      <td>0</td>\n",
       "      <td>0</td>\n",
       "    </tr>\n",
       "    <tr>\n",
       "      <th>4</th>\n",
       "      <td>0</td>\n",
       "      <td>0</td>\n",
       "      <td>0</td>\n",
       "      <td>0</td>\n",
       "      <td>1</td>\n",
       "      <td>0</td>\n",
       "      <td>0</td>\n",
       "      <td>0</td>\n",
       "    </tr>\n",
       "  </tbody>\n",
       "</table>\n",
       "</div>"
      ],
      "text/plain": [
       "   Weather_Clear  Weather_Cloudy  Weather_Drizzle  Weather_Overcast  \\\n",
       "0              0               0                0                 0   \n",
       "1              0               0                0                 0   \n",
       "2              0               0                0                 0   \n",
       "3              0               1                0                 0   \n",
       "4              0               0                0                 0   \n",
       "\n",
       "   Weather_Partly Cloudy  Weather_Rain  Weather_Roof Closed  Weather_Sunny  \n",
       "0                      1             0                    0              0  \n",
       "1                      0             0                    1              0  \n",
       "2                      1             0                    0              0  \n",
       "3                      0             0                    0              0  \n",
       "4                      1             0                    0              0  "
      ]
     },
     "execution_count": 38,
     "metadata": {},
     "output_type": "execute_result"
    }
   ],
   "source": [
    "merge2 = pd.get_dummies(merge['Weather Type'], prefix = 'Weather')\n",
    "merge2.head()"
   ]
  },
  {
   "cell_type": "code",
   "execution_count": 39,
   "metadata": {},
   "outputs": [
    {
     "data": {
      "text/plain": [
       "RandomForestClassifier(bootstrap=True, ccp_alpha=0.0, class_weight=None,\n",
       "                       criterion='gini', max_depth=None, max_features='auto',\n",
       "                       max_leaf_nodes=None, max_samples=None,\n",
       "                       min_impurity_decrease=0.0, min_impurity_split=None,\n",
       "                       min_samples_leaf=1, min_samples_split=2,\n",
       "                       min_weight_fraction_leaf=0.0, n_estimators=100,\n",
       "                       n_jobs=None, oob_score=False, random_state=None,\n",
       "                       verbose=0, warm_start=False)"
      ]
     },
     "execution_count": 39,
     "metadata": {},
     "output_type": "execute_result"
    }
   ],
   "source": [
    "from sklearn.ensemble import RandomForestClassifier\n",
    "from sklearn.model_selection import train_test_split\n",
    "\n",
    "x, y = pd.DataFrame(merge2), pd.DataFrame(merge, columns = ['H'])\n",
    "x_train, x_test, y_train, y_test = train_test_split(x, y, test_size=0.20)\n",
    "\n",
    "clf = RandomForestClassifier()\n",
    "clf.fit(x_train, y_train.values.ravel())"
   ]
  },
  {
   "cell_type": "code",
   "execution_count": 41,
   "metadata": {},
   "outputs": [
    {
     "name": "stdout",
     "output_type": "stream",
     "text": [
      "0.6434782608695652\n"
     ]
    }
   ],
   "source": [
    "predictions = clf.predict(x_test)\n",
    "predictions = [float(i) for i in predictions]\n",
    "comparison = pd.DataFrame({\"Real\" : y_test.iloc[:,0], \"Predictions\" : predictions})\n",
    "comparison = comparison.reset_index()\n",
    "comparison = comparison.drop(['index'], axis=1)\n",
    "correct = 0\n",
    "for i in range(len(comparison)):\n",
    "    if comparison.at[i, 'Real'] == comparison.at[i, 'Predictions']:\n",
    "        correct += 1\n",
    "print (correct / len(comparison))"
   ]
  },
  {
   "cell_type": "code",
   "execution_count": 42,
   "metadata": {},
   "outputs": [
    {
     "data": {
      "text/html": [
       "<div>\n",
       "<style scoped>\n",
       "    .dataframe tbody tr th:only-of-type {\n",
       "        vertical-align: middle;\n",
       "    }\n",
       "\n",
       "    .dataframe tbody tr th {\n",
       "        vertical-align: top;\n",
       "    }\n",
       "\n",
       "    .dataframe thead th {\n",
       "        text-align: right;\n",
       "    }\n",
       "</style>\n",
       "<table border=\"1\" class=\"dataframe\">\n",
       "  <thead>\n",
       "    <tr style=\"text-align: right;\">\n",
       "      <th></th>\n",
       "      <th>Wind_In From CF</th>\n",
       "      <th>Wind_In From LF</th>\n",
       "      <th>Wind_In From RF</th>\n",
       "      <th>Wind_L To R</th>\n",
       "      <th>Wind_None</th>\n",
       "      <th>Wind_Out To CF</th>\n",
       "      <th>Wind_Out To LF</th>\n",
       "      <th>Wind_Out To RF</th>\n",
       "      <th>Wind_R To L</th>\n",
       "      <th>Wind_Varies</th>\n",
       "    </tr>\n",
       "  </thead>\n",
       "  <tbody>\n",
       "    <tr>\n",
       "      <th>0</th>\n",
       "      <td>0</td>\n",
       "      <td>0</td>\n",
       "      <td>0</td>\n",
       "      <td>0</td>\n",
       "      <td>0</td>\n",
       "      <td>0</td>\n",
       "      <td>0</td>\n",
       "      <td>0</td>\n",
       "      <td>1</td>\n",
       "      <td>0</td>\n",
       "    </tr>\n",
       "    <tr>\n",
       "      <th>1</th>\n",
       "      <td>0</td>\n",
       "      <td>0</td>\n",
       "      <td>0</td>\n",
       "      <td>0</td>\n",
       "      <td>1</td>\n",
       "      <td>0</td>\n",
       "      <td>0</td>\n",
       "      <td>0</td>\n",
       "      <td>0</td>\n",
       "      <td>0</td>\n",
       "    </tr>\n",
       "    <tr>\n",
       "      <th>2</th>\n",
       "      <td>0</td>\n",
       "      <td>0</td>\n",
       "      <td>0</td>\n",
       "      <td>0</td>\n",
       "      <td>0</td>\n",
       "      <td>1</td>\n",
       "      <td>0</td>\n",
       "      <td>0</td>\n",
       "      <td>0</td>\n",
       "      <td>0</td>\n",
       "    </tr>\n",
       "    <tr>\n",
       "      <th>3</th>\n",
       "      <td>0</td>\n",
       "      <td>0</td>\n",
       "      <td>0</td>\n",
       "      <td>0</td>\n",
       "      <td>0</td>\n",
       "      <td>0</td>\n",
       "      <td>0</td>\n",
       "      <td>1</td>\n",
       "      <td>0</td>\n",
       "      <td>0</td>\n",
       "    </tr>\n",
       "    <tr>\n",
       "      <th>4</th>\n",
       "      <td>1</td>\n",
       "      <td>0</td>\n",
       "      <td>0</td>\n",
       "      <td>0</td>\n",
       "      <td>0</td>\n",
       "      <td>0</td>\n",
       "      <td>0</td>\n",
       "      <td>0</td>\n",
       "      <td>0</td>\n",
       "      <td>0</td>\n",
       "    </tr>\n",
       "  </tbody>\n",
       "</table>\n",
       "</div>"
      ],
      "text/plain": [
       "   Wind_In From CF  Wind_In From LF  Wind_In From RF  Wind_L To R  Wind_None  \\\n",
       "0                0                0                0            0          0   \n",
       "1                0                0                0            0          1   \n",
       "2                0                0                0            0          0   \n",
       "3                0                0                0            0          0   \n",
       "4                1                0                0            0          0   \n",
       "\n",
       "   Wind_Out To CF  Wind_Out To LF  Wind_Out To RF  Wind_R To L  Wind_Varies  \n",
       "0               0               0               0            1            0  \n",
       "1               0               0               0            0            0  \n",
       "2               1               0               0            0            0  \n",
       "3               0               0               1            0            0  \n",
       "4               0               0               0            0            0  "
      ]
     },
     "execution_count": 42,
     "metadata": {},
     "output_type": "execute_result"
    }
   ],
   "source": [
    "merge3 = pd.get_dummies(merge['Wind Direction'], prefix = 'Wind')\n",
    "merge3.head()"
   ]
  },
  {
   "cell_type": "code",
   "execution_count": 43,
   "metadata": {},
   "outputs": [
    {
     "data": {
      "text/plain": [
       "RandomForestClassifier(bootstrap=True, ccp_alpha=0.0, class_weight=None,\n",
       "                       criterion='gini', max_depth=None, max_features='auto',\n",
       "                       max_leaf_nodes=None, max_samples=None,\n",
       "                       min_impurity_decrease=0.0, min_impurity_split=None,\n",
       "                       min_samples_leaf=1, min_samples_split=2,\n",
       "                       min_weight_fraction_leaf=0.0, n_estimators=100,\n",
       "                       n_jobs=None, oob_score=False, random_state=None,\n",
       "                       verbose=0, warm_start=False)"
      ]
     },
     "execution_count": 43,
     "metadata": {},
     "output_type": "execute_result"
    }
   ],
   "source": [
    "from sklearn.ensemble import RandomForestClassifier\n",
    "from sklearn.model_selection import train_test_split\n",
    "\n",
    "x, y = pd.DataFrame(merge3), pd.DataFrame(merge, columns = ['H'])\n",
    "x_train, x_test, y_train, y_test = train_test_split(x, y, test_size=0.20)\n",
    "\n",
    "clf = RandomForestClassifier()\n",
    "clf.fit(x_train, y_train.values.ravel())"
   ]
  },
  {
   "cell_type": "code",
   "execution_count": 44,
   "metadata": {},
   "outputs": [
    {
     "name": "stdout",
     "output_type": "stream",
     "text": [
      "0.6434782608695652\n"
     ]
    }
   ],
   "source": [
    "predictions = clf.predict(x_test)\n",
    "predictions = [float(i) for i in predictions]\n",
    "comparison = pd.DataFrame({\"Real\" : y_test.iloc[:,0], \"Predictions\" : predictions})\n",
    "comparison = comparison.reset_index()\n",
    "comparison = comparison.drop(['index'], axis=1)\n",
    "correct = 0\n",
    "for i in range(len(comparison)):\n",
    "    if comparison.at[i, 'Real'] == comparison.at[i, 'Predictions']:\n",
    "        correct += 1\n",
    "print (correct / len(comparison))"
   ]
  },
  {
   "cell_type": "code",
   "execution_count": 45,
   "metadata": {},
   "outputs": [
    {
     "data": {
      "text/html": [
       "<div>\n",
       "<style scoped>\n",
       "    .dataframe tbody tr th:only-of-type {\n",
       "        vertical-align: middle;\n",
       "    }\n",
       "\n",
       "    .dataframe tbody tr th {\n",
       "        vertical-align: top;\n",
       "    }\n",
       "\n",
       "    .dataframe thead th {\n",
       "        text-align: right;\n",
       "    }\n",
       "</style>\n",
       "<table border=\"1\" class=\"dataframe\">\n",
       "  <thead>\n",
       "    <tr style=\"text-align: right;\">\n",
       "      <th></th>\n",
       "      <th>Player</th>\n",
       "      <th>Date</th>\n",
       "      <th>Tm</th>\n",
       "      <th>Opp</th>\n",
       "      <th>PA</th>\n",
       "      <th>AB</th>\n",
       "      <th>R</th>\n",
       "      <th>H</th>\n",
       "      <th>X2B</th>\n",
       "      <th>X3B</th>\n",
       "      <th>...</th>\n",
       "      <th>Unnamed: 0</th>\n",
       "      <th>Team 1</th>\n",
       "      <th>Team 2</th>\n",
       "      <th>Team 1 Score</th>\n",
       "      <th>Team 2 Score</th>\n",
       "      <th>Venue</th>\n",
       "      <th>Weather (Degrees)</th>\n",
       "      <th>Weather Type</th>\n",
       "      <th>Wind (MPH)</th>\n",
       "      <th>Wind Direction</th>\n",
       "    </tr>\n",
       "  </thead>\n",
       "  <tbody>\n",
       "    <tr>\n",
       "      <th>0</th>\n",
       "      <td>Jonathan Lucroy\\lucrojo01</td>\n",
       "      <td>2014-04-01</td>\n",
       "      <td>MIL</td>\n",
       "      <td>ATL</td>\n",
       "      <td>4</td>\n",
       "      <td>4</td>\n",
       "      <td>0</td>\n",
       "      <td>1</td>\n",
       "      <td>0</td>\n",
       "      <td>0</td>\n",
       "      <td>...</td>\n",
       "      <td>21</td>\n",
       "      <td>MIL</td>\n",
       "      <td>ATL</td>\n",
       "      <td>2</td>\n",
       "      <td>5</td>\n",
       "      <td>Miller Park</td>\n",
       "      <td>65</td>\n",
       "      <td>Roof Closed</td>\n",
       "      <td>0</td>\n",
       "      <td>None</td>\n",
       "    </tr>\n",
       "    <tr>\n",
       "      <th>1</th>\n",
       "      <td>Jonathan Lucroy\\lucrojo01</td>\n",
       "      <td>2014-04-14</td>\n",
       "      <td>MIL</td>\n",
       "      <td>STL</td>\n",
       "      <td>4</td>\n",
       "      <td>4</td>\n",
       "      <td>0</td>\n",
       "      <td>0</td>\n",
       "      <td>0</td>\n",
       "      <td>0</td>\n",
       "      <td>...</td>\n",
       "      <td>190</td>\n",
       "      <td>MIL</td>\n",
       "      <td>STL</td>\n",
       "      <td>0</td>\n",
       "      <td>4</td>\n",
       "      <td>Miller Park</td>\n",
       "      <td>62</td>\n",
       "      <td>Roof Closed</td>\n",
       "      <td>0</td>\n",
       "      <td>None</td>\n",
       "    </tr>\n",
       "    <tr>\n",
       "      <th>2</th>\n",
       "      <td>Jonathan Lucroy\\lucrojo01</td>\n",
       "      <td>2014-04-15</td>\n",
       "      <td>MIL</td>\n",
       "      <td>STL</td>\n",
       "      <td>4</td>\n",
       "      <td>3</td>\n",
       "      <td>0</td>\n",
       "      <td>0</td>\n",
       "      <td>0</td>\n",
       "      <td>0</td>\n",
       "      <td>...</td>\n",
       "      <td>200</td>\n",
       "      <td>MIL</td>\n",
       "      <td>STL</td>\n",
       "      <td>1</td>\n",
       "      <td>6</td>\n",
       "      <td>Miller Park</td>\n",
       "      <td>62</td>\n",
       "      <td>Roof Closed</td>\n",
       "      <td>0</td>\n",
       "      <td>None</td>\n",
       "    </tr>\n",
       "    <tr>\n",
       "      <th>3</th>\n",
       "      <td>Jonathan Lucroy\\lucrojo01</td>\n",
       "      <td>2014-04-17</td>\n",
       "      <td>MIL</td>\n",
       "      <td>PIT</td>\n",
       "      <td>4</td>\n",
       "      <td>3</td>\n",
       "      <td>0</td>\n",
       "      <td>1</td>\n",
       "      <td>0</td>\n",
       "      <td>0</td>\n",
       "      <td>...</td>\n",
       "      <td>227</td>\n",
       "      <td>MIL</td>\n",
       "      <td>PIT</td>\n",
       "      <td>2</td>\n",
       "      <td>11</td>\n",
       "      <td>PNC Park</td>\n",
       "      <td>62</td>\n",
       "      <td>Clear</td>\n",
       "      <td>8</td>\n",
       "      <td>L To R</td>\n",
       "    </tr>\n",
       "    <tr>\n",
       "      <th>4</th>\n",
       "      <td>Jonathan Lucroy\\lucrojo01</td>\n",
       "      <td>2014-04-27</td>\n",
       "      <td>MIL</td>\n",
       "      <td>CHC</td>\n",
       "      <td>4</td>\n",
       "      <td>3</td>\n",
       "      <td>0</td>\n",
       "      <td>0</td>\n",
       "      <td>0</td>\n",
       "      <td>0</td>\n",
       "      <td>...</td>\n",
       "      <td>339</td>\n",
       "      <td>MIL</td>\n",
       "      <td>CHC</td>\n",
       "      <td>0</td>\n",
       "      <td>4</td>\n",
       "      <td>Miller Park</td>\n",
       "      <td>70</td>\n",
       "      <td>Roof Closed</td>\n",
       "      <td>0</td>\n",
       "      <td>None</td>\n",
       "    </tr>\n",
       "  </tbody>\n",
       "</table>\n",
       "<p>5 rows × 29 columns</p>\n",
       "</div>"
      ],
      "text/plain": [
       "                      Player        Date   Tm  Opp  PA  AB  R  H  X2B  X3B  \\\n",
       "0  Jonathan Lucroy\\lucrojo01  2014-04-01  MIL  ATL   4   4  0  1    0    0   \n",
       "1  Jonathan Lucroy\\lucrojo01  2014-04-14  MIL  STL   4   4  0  0    0    0   \n",
       "2  Jonathan Lucroy\\lucrojo01  2014-04-15  MIL  STL   4   3  0  0    0    0   \n",
       "3  Jonathan Lucroy\\lucrojo01  2014-04-17  MIL  PIT   4   3  0  1    0    0   \n",
       "4  Jonathan Lucroy\\lucrojo01  2014-04-27  MIL  CHC   4   3  0  0    0    0   \n",
       "\n",
       "   ...  Unnamed: 0  Team 1  Team 2  Team 1 Score  Team 2 Score        Venue  \\\n",
       "0  ...          21     MIL     ATL             2             5  Miller Park   \n",
       "1  ...         190     MIL     STL             0             4  Miller Park   \n",
       "2  ...         200     MIL     STL             1             6  Miller Park   \n",
       "3  ...         227     MIL     PIT             2            11     PNC Park   \n",
       "4  ...         339     MIL     CHC             0             4  Miller Park   \n",
       "\n",
       "   Weather (Degrees)  Weather Type Wind (MPH)  Wind Direction  \n",
       "0                 65   Roof Closed          0            None  \n",
       "1                 62   Roof Closed          0            None  \n",
       "2                 62   Roof Closed          0            None  \n",
       "3                 62         Clear          8          L To R  \n",
       "4                 70   Roof Closed          0            None  \n",
       "\n",
       "[5 rows x 29 columns]"
      ]
     },
     "execution_count": 45,
     "metadata": {},
     "output_type": "execute_result"
    }
   ],
   "source": [
    "test = merge[merge['Player'] == 'Jonathan Lucroy\\lucrojo01']\n",
    "test = test.reset_index()\n",
    "test = test.drop(['index'], axis = 1)\n",
    "test.head()"
   ]
  },
  {
   "cell_type": "code",
   "execution_count": 46,
   "metadata": {},
   "outputs": [
    {
     "data": {
      "image/png": "[encoded data removed]",
      "text/plain": [
       "<Figure size 432x288 with 1 Axes>"
      ]
     },
     "metadata": {
      "needs_background": "light"
     },
     "output_type": "display_data"
    }
   ],
   "source": [
    "plt.scatter(x = test['Weather (Degrees)'], y = test['H'])\n",
    "plt.show()"
   ]
  },
  {
   "cell_type": "code",
   "execution_count": 47,
   "metadata": {},
   "outputs": [
    {
     "data": {
      "image/png": "[encoded data removed]",
      "text/plain": [
       "<Figure size 432x288 with 1 Axes>"
      ]
     },
     "metadata": {
      "needs_background": "light"
     },
     "output_type": "display_data"
    }
   ],
   "source": [
    "plt.scatter(x = test['Wind (MPH)'], y = test['H'])\n",
    "plt.show()"
   ]
  },
  {
   "cell_type": "code",
   "execution_count": 48,
   "metadata": {},
   "outputs": [
    {
     "name": "stdout",
     "output_type": "stream",
     "text": [
      "Optimization terminated successfully.\n",
      "         Current function value: 0.588682\n",
      "         Iterations 5\n"
     ]
    },
    {
     "data": {
      "text/html": [
       "<table class=\"simpletable\">\n",
       "<caption>Logit Regression Results</caption>\n",
       "<tr>\n",
       "  <th>Dep. Variable:</th>           <td>H</td>        <th>  No. Observations:  </th>  <td>    31</td> \n",
       "</tr>\n",
       "<tr>\n",
       "  <th>Model:</th>                 <td>Logit</td>      <th>  Df Residuals:      </th>  <td>    29</td> \n",
       "</tr>\n",
       "<tr>\n",
       "  <th>Method:</th>                 <td>MLE</td>       <th>  Df Model:          </th>  <td>     1</td> \n",
       "</tr>\n",
       "<tr>\n",
       "  <th>Date:</th>            <td>Sun, 28 Jun 2020</td> <th>  Pseudo R-squ.:     </th>  <td>0.02284</td>\n",
       "</tr>\n",
       "<tr>\n",
       "  <th>Time:</th>                <td>13:22:07</td>     <th>  Log-Likelihood:    </th> <td> -18.249</td>\n",
       "</tr>\n",
       "<tr>\n",
       "  <th>converged:</th>             <td>True</td>       <th>  LL-Null:           </th> <td> -18.676</td>\n",
       "</tr>\n",
       "<tr>\n",
       "  <th>Covariance Type:</th>     <td>nonrobust</td>    <th>  LLR p-value:       </th>  <td>0.3557</td> \n",
       "</tr>\n",
       "</table>\n",
       "<table class=\"simpletable\">\n",
       "<tr>\n",
       "          <td></td>             <th>coef</th>     <th>std err</th>      <th>z</th>      <th>P>|z|</th>  <th>[0.025</th>    <th>0.975]</th>  \n",
       "</tr>\n",
       "<tr>\n",
       "  <th>const</th>             <td>    3.4153</td> <td>    2.898</td> <td>    1.179</td> <td> 0.239</td> <td>   -2.264</td> <td>    9.095</td>\n",
       "</tr>\n",
       "<tr>\n",
       "  <th>Weather (Degrees)</th> <td>   -0.0390</td> <td>    0.044</td> <td>   -0.889</td> <td> 0.374</td> <td>   -0.125</td> <td>    0.047</td>\n",
       "</tr>\n",
       "</table>"
      ],
      "text/plain": [
       "<class 'statsmodels.iolib.summary.Summary'>\n",
       "\"\"\"\n",
       "                           Logit Regression Results                           \n",
       "==============================================================================\n",
       "Dep. Variable:                      H   No. Observations:                   31\n",
       "Model:                          Logit   Df Residuals:                       29\n",
       "Method:                           MLE   Df Model:                            1\n",
       "Date:                Sun, 28 Jun 2020   Pseudo R-squ.:                 0.02284\n",
       "Time:                        13:22:07   Log-Likelihood:                -18.249\n",
       "converged:                       True   LL-Null:                       -18.676\n",
       "Covariance Type:            nonrobust   LLR p-value:                    0.3557\n",
       "=====================================================================================\n",
       "                        coef    std err          z      P>|z|      [0.025      0.975]\n",
       "-------------------------------------------------------------------------------------\n",
       "const                 3.4153      2.898      1.179      0.239      -2.264       9.095\n",
       "Weather (Degrees)    -0.0390      0.044     -0.889      0.374      -0.125       0.047\n",
       "=====================================================================================\n",
       "\"\"\""
      ]
     },
     "execution_count": 48,
     "metadata": {},
     "output_type": "execute_result"
    }
   ],
   "source": [
    "x = test['Weather (Degrees)']\n",
    "y = test['H']\n",
    "model = sm.Logit(y, sm.add_constant(x)).fit()\n",
    "model.summary()"
   ]
  },
  {
   "cell_type": "code",
   "execution_count": 49,
   "metadata": {},
   "outputs": [
    {
     "name": "stdout",
     "output_type": "stream",
     "text": [
      "Optimization terminated successfully.\n",
      "         Current function value: 0.516652\n",
      "         Iterations 6\n"
     ]
    },
    {
     "data": {
      "text/html": [
       "<table class=\"simpletable\">\n",
       "<caption>Logit Regression Results</caption>\n",
       "<tr>\n",
       "  <th>Dep. Variable:</th>           <td>H</td>        <th>  No. Observations:  </th>  <td>    31</td> \n",
       "</tr>\n",
       "<tr>\n",
       "  <th>Model:</th>                 <td>Logit</td>      <th>  Df Residuals:      </th>  <td>    29</td> \n",
       "</tr>\n",
       "<tr>\n",
       "  <th>Method:</th>                 <td>MLE</td>       <th>  Df Model:          </th>  <td>     1</td> \n",
       "</tr>\n",
       "<tr>\n",
       "  <th>Date:</th>            <td>Sun, 28 Jun 2020</td> <th>  Pseudo R-squ.:     </th>  <td>0.1424</td> \n",
       "</tr>\n",
       "<tr>\n",
       "  <th>Time:</th>                <td>13:22:07</td>     <th>  Log-Likelihood:    </th> <td> -16.016</td>\n",
       "</tr>\n",
       "<tr>\n",
       "  <th>converged:</th>             <td>True</td>       <th>  LL-Null:           </th> <td> -18.676</td>\n",
       "</tr>\n",
       "<tr>\n",
       "  <th>Covariance Type:</th>     <td>nonrobust</td>    <th>  LLR p-value:       </th>  <td>0.02110</td>\n",
       "</tr>\n",
       "</table>\n",
       "<table class=\"simpletable\">\n",
       "<tr>\n",
       "       <td></td>         <th>coef</th>     <th>std err</th>      <th>z</th>      <th>P>|z|</th>  <th>[0.025</th>    <th>0.975]</th>  \n",
       "</tr>\n",
       "<tr>\n",
       "  <th>const</th>      <td>    0.1031</td> <td>    0.513</td> <td>    0.201</td> <td> 0.841</td> <td>   -0.903</td> <td>    1.110</td>\n",
       "</tr>\n",
       "<tr>\n",
       "  <th>Wind (MPH)</th> <td>    0.1648</td> <td>    0.085</td> <td>    1.931</td> <td> 0.053</td> <td>   -0.002</td> <td>    0.332</td>\n",
       "</tr>\n",
       "</table>"
      ],
      "text/plain": [
       "<class 'statsmodels.iolib.summary.Summary'>\n",
       "\"\"\"\n",
       "                           Logit Regression Results                           \n",
       "==============================================================================\n",
       "Dep. Variable:                      H   No. Observations:                   31\n",
       "Model:                          Logit   Df Residuals:                       29\n",
       "Method:                           MLE   Df Model:                            1\n",
       "Date:                Sun, 28 Jun 2020   Pseudo R-squ.:                  0.1424\n",
       "Time:                        13:22:07   Log-Likelihood:                -16.016\n",
       "converged:                       True   LL-Null:                       -18.676\n",
       "Covariance Type:            nonrobust   LLR p-value:                   0.02110\n",
       "==============================================================================\n",
       "                 coef    std err          z      P>|z|      [0.025      0.975]\n",
       "------------------------------------------------------------------------------\n",
       "const          0.1031      0.513      0.201      0.841      -0.903       1.110\n",
       "Wind (MPH)     0.1648      0.085      1.931      0.053      -0.002       0.332\n",
       "==============================================================================\n",
       "\"\"\""
      ]
     },
     "execution_count": 49,
     "metadata": {},
     "output_type": "execute_result"
    }
   ],
   "source": [
    "x = test['Wind (MPH)']\n",
    "y = test['H']\n",
    "model = sm.Logit(y, sm.add_constant(x)).fit()\n",
    "model.summary()"
   ]
  },
  {
   "cell_type": "code",
   "execution_count": 50,
   "metadata": {},
   "outputs": [
    {
     "name": "stdout",
     "output_type": "stream",
     "text": [
      "Optimization terminated successfully.\n",
      "         Current function value: 0.507087\n",
      "         Iterations 7\n"
     ]
    },
    {
     "data": {
      "text/html": [
       "<table class=\"simpletable\">\n",
       "<caption>Logit Regression Results</caption>\n",
       "<tr>\n",
       "  <th>Dep. Variable:</th>           <td>H</td>        <th>  No. Observations:  </th>  <td>    31</td> \n",
       "</tr>\n",
       "<tr>\n",
       "  <th>Model:</th>                 <td>Logit</td>      <th>  Df Residuals:      </th>  <td>    28</td> \n",
       "</tr>\n",
       "<tr>\n",
       "  <th>Method:</th>                 <td>MLE</td>       <th>  Df Model:          </th>  <td>     2</td> \n",
       "</tr>\n",
       "<tr>\n",
       "  <th>Date:</th>            <td>Sun, 28 Jun 2020</td> <th>  Pseudo R-squ.:     </th>  <td>0.1583</td> \n",
       "</tr>\n",
       "<tr>\n",
       "  <th>Time:</th>                <td>13:22:09</td>     <th>  Log-Likelihood:    </th> <td> -15.720</td>\n",
       "</tr>\n",
       "<tr>\n",
       "  <th>converged:</th>             <td>True</td>       <th>  LL-Null:           </th> <td> -18.676</td>\n",
       "</tr>\n",
       "<tr>\n",
       "  <th>Covariance Type:</th>     <td>nonrobust</td>    <th>  LLR p-value:       </th>  <td>0.05203</td>\n",
       "</tr>\n",
       "</table>\n",
       "<table class=\"simpletable\">\n",
       "<tr>\n",
       "          <td></td>             <th>coef</th>     <th>std err</th>      <th>z</th>      <th>P>|z|</th>  <th>[0.025</th>    <th>0.975]</th>  \n",
       "</tr>\n",
       "<tr>\n",
       "  <th>const</th>             <td>    2.7342</td> <td>    3.595</td> <td>    0.760</td> <td> 0.447</td> <td>   -4.313</td> <td>    9.781</td>\n",
       "</tr>\n",
       "<tr>\n",
       "  <th>Weather (Degrees)</th> <td>   -0.0402</td> <td>    0.054</td> <td>   -0.742</td> <td> 0.458</td> <td>   -0.146</td> <td>    0.066</td>\n",
       "</tr>\n",
       "<tr>\n",
       "  <th>Wind (MPH)</th>        <td>    0.1609</td> <td>    0.084</td> <td>    1.911</td> <td> 0.056</td> <td>   -0.004</td> <td>    0.326</td>\n",
       "</tr>\n",
       "</table>"
      ],
      "text/plain": [
       "<class 'statsmodels.iolib.summary.Summary'>\n",
       "\"\"\"\n",
       "                           Logit Regression Results                           \n",
       "==============================================================================\n",
       "Dep. Variable:                      H   No. Observations:                   31\n",
       "Model:                          Logit   Df Residuals:                       28\n",
       "Method:                           MLE   Df Model:                            2\n",
       "Date:                Sun, 28 Jun 2020   Pseudo R-squ.:                  0.1583\n",
       "Time:                        13:22:09   Log-Likelihood:                -15.720\n",
       "converged:                       True   LL-Null:                       -18.676\n",
       "Covariance Type:            nonrobust   LLR p-value:                   0.05203\n",
       "=====================================================================================\n",
       "                        coef    std err          z      P>|z|      [0.025      0.975]\n",
       "-------------------------------------------------------------------------------------\n",
       "const                 2.7342      3.595      0.760      0.447      -4.313       9.781\n",
       "Weather (Degrees)    -0.0402      0.054     -0.742      0.458      -0.146       0.066\n",
       "Wind (MPH)            0.1609      0.084      1.911      0.056      -0.004       0.326\n",
       "=====================================================================================\n",
       "\"\"\""
      ]
     },
     "execution_count": 50,
     "metadata": {},
     "output_type": "execute_result"
    }
   ],
   "source": [
    "x = test[['Weather (Degrees)', 'Wind (MPH)']]\n",
    "y = test['H']\n",
    "model = sm.Logit(y, sm.add_constant(x)).fit()\n",
    "model.summary()"
   ]
  },
  {
   "cell_type": "code",
   "execution_count": 51,
   "metadata": {},
   "outputs": [
    {
     "data": {
      "text/html": [
       "<div>\n",
       "<style scoped>\n",
       "    .dataframe tbody tr th:only-of-type {\n",
       "        vertical-align: middle;\n",
       "    }\n",
       "\n",
       "    .dataframe tbody tr th {\n",
       "        vertical-align: top;\n",
       "    }\n",
       "\n",
       "    .dataframe thead th {\n",
       "        text-align: right;\n",
       "    }\n",
       "</style>\n",
       "<table border=\"1\" class=\"dataframe\">\n",
       "  <thead>\n",
       "    <tr style=\"text-align: right;\">\n",
       "      <th></th>\n",
       "      <th>Wind_Clear</th>\n",
       "      <th>Wind_Cloudy</th>\n",
       "      <th>Wind_Drizzle</th>\n",
       "      <th>Wind_Overcast</th>\n",
       "      <th>Wind_Partly Cloudy</th>\n",
       "      <th>Wind_Roof Closed</th>\n",
       "      <th>Wind_Sunny</th>\n",
       "    </tr>\n",
       "  </thead>\n",
       "  <tbody>\n",
       "    <tr>\n",
       "      <th>0</th>\n",
       "      <td>0</td>\n",
       "      <td>0</td>\n",
       "      <td>0</td>\n",
       "      <td>0</td>\n",
       "      <td>0</td>\n",
       "      <td>1</td>\n",
       "      <td>0</td>\n",
       "    </tr>\n",
       "    <tr>\n",
       "      <th>1</th>\n",
       "      <td>0</td>\n",
       "      <td>0</td>\n",
       "      <td>0</td>\n",
       "      <td>0</td>\n",
       "      <td>0</td>\n",
       "      <td>1</td>\n",
       "      <td>0</td>\n",
       "    </tr>\n",
       "    <tr>\n",
       "      <th>2</th>\n",
       "      <td>0</td>\n",
       "      <td>0</td>\n",
       "      <td>0</td>\n",
       "      <td>0</td>\n",
       "      <td>0</td>\n",
       "      <td>1</td>\n",
       "      <td>0</td>\n",
       "    </tr>\n",
       "    <tr>\n",
       "      <th>3</th>\n",
       "      <td>1</td>\n",
       "      <td>0</td>\n",
       "      <td>0</td>\n",
       "      <td>0</td>\n",
       "      <td>0</td>\n",
       "      <td>0</td>\n",
       "      <td>0</td>\n",
       "    </tr>\n",
       "    <tr>\n",
       "      <th>4</th>\n",
       "      <td>0</td>\n",
       "      <td>0</td>\n",
       "      <td>0</td>\n",
       "      <td>0</td>\n",
       "      <td>0</td>\n",
       "      <td>1</td>\n",
       "      <td>0</td>\n",
       "    </tr>\n",
       "  </tbody>\n",
       "</table>\n",
       "</div>"
      ],
      "text/plain": [
       "   Wind_Clear  Wind_Cloudy  Wind_Drizzle  Wind_Overcast  Wind_Partly Cloudy  \\\n",
       "0           0            0             0              0                   0   \n",
       "1           0            0             0              0                   0   \n",
       "2           0            0             0              0                   0   \n",
       "3           1            0             0              0                   0   \n",
       "4           0            0             0              0                   0   \n",
       "\n",
       "   Wind_Roof Closed  Wind_Sunny  \n",
       "0                 1           0  \n",
       "1                 1           0  \n",
       "2                 1           0  \n",
       "3                 0           0  \n",
       "4                 1           0  "
      ]
     },
     "execution_count": 51,
     "metadata": {},
     "output_type": "execute_result"
    }
   ],
   "source": [
    "merge4 = pd.get_dummies(test['Weather Type'], prefix = 'Wind')\n",
    "merge4.head()"
   ]
  },
  {
   "cell_type": "code",
   "execution_count": 52,
   "metadata": {},
   "outputs": [
    {
     "data": {
      "text/plain": [
       "RandomForestClassifier(bootstrap=True, ccp_alpha=0.0, class_weight=None,\n",
       "                       criterion='gini', max_depth=None, max_features='auto',\n",
       "                       max_leaf_nodes=None, max_samples=None,\n",
       "                       min_impurity_decrease=0.0, min_impurity_split=None,\n",
       "                       min_samples_leaf=1, min_samples_split=2,\n",
       "                       min_weight_fraction_leaf=0.0, n_estimators=100,\n",
       "                       n_jobs=None, oob_score=False, random_state=None,\n",
       "                       verbose=0, warm_start=False)"
      ]
     },
     "execution_count": 52,
     "metadata": {},
     "output_type": "execute_result"
    }
   ],
   "source": [
    "from sklearn.ensemble import RandomForestClassifier\n",
    "from sklearn.model_selection import train_test_split\n",
    "\n",
    "x, y = pd.DataFrame(merge4), pd.DataFrame(test, columns = ['H'])\n",
    "x_train, x_test, y_train, y_test = train_test_split(x, y, test_size=0.20)\n",
    "\n",
    "clf = RandomForestClassifier()\n",
    "clf.fit(x_train, y_train.values.ravel())"
   ]
  },
  {
   "cell_type": "code",
   "execution_count": 53,
   "metadata": {},
   "outputs": [
    {
     "name": "stdout",
     "output_type": "stream",
     "text": [
      "0.7142857142857143\n"
     ]
    }
   ],
   "source": [
    "predictions = clf.predict(x_test)\n",
    "predictions = [float(i) for i in predictions]\n",
    "comparison = pd.DataFrame({\"Real\" : y_test.iloc[:,0], \"Predictions\" : predictions})\n",
    "comparison = comparison.reset_index()\n",
    "comparison = comparison.drop(['index'], axis=1)\n",
    "correct = 0\n",
    "for i in range(len(comparison)):\n",
    "    if comparison.at[i, 'Real'] == comparison.at[i, 'Predictions']:\n",
    "        correct += 1\n",
    "print (correct / len(comparison))"
   ]
  },
  {
   "cell_type": "code",
   "execution_count": 54,
   "metadata": {},
   "outputs": [
    {
     "data": {
      "text/html": [
       "<div>\n",
       "<style scoped>\n",
       "    .dataframe tbody tr th:only-of-type {\n",
       "        vertical-align: middle;\n",
       "    }\n",
       "\n",
       "    .dataframe tbody tr th {\n",
       "        vertical-align: top;\n",
       "    }\n",
       "\n",
       "    .dataframe thead th {\n",
       "        text-align: right;\n",
       "    }\n",
       "</style>\n",
       "<table border=\"1\" class=\"dataframe\">\n",
       "  <thead>\n",
       "    <tr style=\"text-align: right;\">\n",
       "      <th></th>\n",
       "      <th>Wind_In From CF</th>\n",
       "      <th>Wind_In From RF</th>\n",
       "      <th>Wind_L To R</th>\n",
       "      <th>Wind_None</th>\n",
       "      <th>Wind_Out To CF</th>\n",
       "      <th>Wind_Out To LF</th>\n",
       "      <th>Wind_Out To RF</th>\n",
       "      <th>Wind_Varies</th>\n",
       "    </tr>\n",
       "  </thead>\n",
       "  <tbody>\n",
       "    <tr>\n",
       "      <th>0</th>\n",
       "      <td>0</td>\n",
       "      <td>0</td>\n",
       "      <td>0</td>\n",
       "      <td>1</td>\n",
       "      <td>0</td>\n",
       "      <td>0</td>\n",
       "      <td>0</td>\n",
       "      <td>0</td>\n",
       "    </tr>\n",
       "    <tr>\n",
       "      <th>1</th>\n",
       "      <td>0</td>\n",
       "      <td>0</td>\n",
       "      <td>0</td>\n",
       "      <td>1</td>\n",
       "      <td>0</td>\n",
       "      <td>0</td>\n",
       "      <td>0</td>\n",
       "      <td>0</td>\n",
       "    </tr>\n",
       "    <tr>\n",
       "      <th>2</th>\n",
       "      <td>0</td>\n",
       "      <td>0</td>\n",
       "      <td>0</td>\n",
       "      <td>1</td>\n",
       "      <td>0</td>\n",
       "      <td>0</td>\n",
       "      <td>0</td>\n",
       "      <td>0</td>\n",
       "    </tr>\n",
       "    <tr>\n",
       "      <th>3</th>\n",
       "      <td>0</td>\n",
       "      <td>0</td>\n",
       "      <td>1</td>\n",
       "      <td>0</td>\n",
       "      <td>0</td>\n",
       "      <td>0</td>\n",
       "      <td>0</td>\n",
       "      <td>0</td>\n",
       "    </tr>\n",
       "    <tr>\n",
       "      <th>4</th>\n",
       "      <td>0</td>\n",
       "      <td>0</td>\n",
       "      <td>0</td>\n",
       "      <td>1</td>\n",
       "      <td>0</td>\n",
       "      <td>0</td>\n",
       "      <td>0</td>\n",
       "      <td>0</td>\n",
       "    </tr>\n",
       "  </tbody>\n",
       "</table>\n",
       "</div>"
      ],
      "text/plain": [
       "   Wind_In From CF  Wind_In From RF  Wind_L To R  Wind_None  Wind_Out To CF  \\\n",
       "0                0                0            0          1               0   \n",
       "1                0                0            0          1               0   \n",
       "2                0                0            0          1               0   \n",
       "3                0                0            1          0               0   \n",
       "4                0                0            0          1               0   \n",
       "\n",
       "   Wind_Out To LF  Wind_Out To RF  Wind_Varies  \n",
       "0               0               0            0  \n",
       "1               0               0            0  \n",
       "2               0               0            0  \n",
       "3               0               0            0  \n",
       "4               0               0            0  "
      ]
     },
     "execution_count": 54,
     "metadata": {},
     "output_type": "execute_result"
    }
   ],
   "source": [
    "merge5 = pd.get_dummies(test['Wind Direction'], prefix = 'Wind')\n",
    "merge5.head()"
   ]
  },
  {
   "cell_type": "code",
   "execution_count": 55,
   "metadata": {},
   "outputs": [
    {
     "data": {
      "text/plain": [
       "RandomForestClassifier(bootstrap=True, ccp_alpha=0.0, class_weight=None,\n",
       "                       criterion='gini', max_depth=None, max_features='auto',\n",
       "                       max_leaf_nodes=None, max_samples=None,\n",
       "                       min_impurity_decrease=0.0, min_impurity_split=None,\n",
       "                       min_samples_leaf=1, min_samples_split=2,\n",
       "                       min_weight_fraction_leaf=0.0, n_estimators=100,\n",
       "                       n_jobs=None, oob_score=False, random_state=None,\n",
       "                       verbose=0, warm_start=False)"
      ]
     },
     "execution_count": 55,
     "metadata": {},
     "output_type": "execute_result"
    }
   ],
   "source": [
    "from sklearn.ensemble import RandomForestClassifier\n",
    "from sklearn.model_selection import train_test_split\n",
    "\n",
    "x, y = pd.DataFrame(merge5), pd.DataFrame(test, columns = ['H'])\n",
    "x_train, x_test, y_train, y_test = train_test_split(x, y, test_size=0.20)\n",
    "\n",
    "clf = RandomForestClassifier()\n",
    "clf.fit(x_train, y_train.values.ravel())"
   ]
  },
  {
   "cell_type": "code",
   "execution_count": 56,
   "metadata": {},
   "outputs": [
    {
     "name": "stdout",
     "output_type": "stream",
     "text": [
      "0.5714285714285714\n"
     ]
    }
   ],
   "source": [
    "predictions = clf.predict(x_test)\n",
    "predictions = [float(i) for i in predictions]\n",
    "comparison = pd.DataFrame({\"Real\" : y_test.iloc[:,0], \"Predictions\" : predictions})\n",
    "comparison = comparison.reset_index()\n",
    "comparison = comparison.drop(['index'], axis=1)\n",
    "correct = 0\n",
    "for i in range(len(comparison)):\n",
    "    if comparison.at[i, 'Real'] == comparison.at[i, 'Predictions']:\n",
    "        correct += 1\n",
    "print (correct / len(comparison))"
   ]
  },
  {
   "cell_type": "code",
   "execution_count": 62,
   "metadata": {},
   "outputs": [
    {
     "data": {
      "text/plain": [
       "<seaborn.axisgrid.FacetGrid at 0x130b827d648>"
      ]
     },
     "execution_count": 62,
     "metadata": {},
     "output_type": "execute_result"
    },
    {
     "data": {
      "image/png": "[encoded data removed]",
      "text/plain": [
       "<Figure size 360x360 with 1 Axes>"
      ]
     },
     "metadata": {
      "needs_background": "light"
     },
     "output_type": "display_data"
    }
   ],
   "source": [
    "sns.catplot(x = 'Weather Type', y = 'H', data = merge)"
   ]
  },
  {
   "cell_type": "code",
   "execution_count": 61,
   "metadata": {},
   "outputs": [
    {
     "data": {
      "text/plain": [
       "<seaborn.axisgrid.FacetGrid at 0x130b808ae48>"
      ]
     },
     "execution_count": 61,
     "metadata": {},
     "output_type": "execute_result"
    },
    {
     "data": {
      "image/png": "[encoded data removed]",
      "text/plain": [
       "<Figure size 360x360 with 1 Axes>"
      ]
     },
     "metadata": {
      "needs_background": "light"
     },
     "output_type": "display_data"
    }
   ],
   "source": [
    "sns.catplot(x = 'Wind Direction', y = 'H', data = merge)"
   ]
  },
  {
   "cell_type": "code",
   "execution_count": 64,
   "metadata": {},
   "outputs": [
    {
     "data": {
      "text/plain": [
       "<seaborn.axisgrid.FacetGrid at 0x130b83300c8>"
      ]
     },
     "execution_count": 64,
     "metadata": {},
     "output_type": "execute_result"
    },
    {
     "data": {
      "image/png": "[encoded data removed]",
      "text/plain": [
       "<Figure size 360x360 with 1 Axes>"
      ]
     },
     "metadata": {
      "needs_background": "light"
     },
     "output_type": "display_data"
    }
   ],
   "source": [
    "sns.catplot(x = 'Weather Type', y = 'H', data = test)"
   ]
  },
  {
   "cell_type": "code",
   "execution_count": 63,
   "metadata": {},
   "outputs": [
    {
     "data": {
      "text/plain": [
       "<seaborn.axisgrid.FacetGrid at 0x130b81c0bc8>"
      ]
     },
     "execution_count": 63,
     "metadata": {},
     "output_type": "execute_result"
    },
    {
     "data": {
      "image/png": "[encoded data removed]",
      "text/plain": [
       "<Figure size 360x360 with 1 Axes>"
      ]
     },
     "metadata": {
      "needs_background": "light"
     },
     "output_type": "display_data"
    }
   ],
   "source": [
    "sns.catplot(x = 'Wind Direction', y = 'H', data = test)"
   ]
  }
 ],
 "metadata": {
  "kernelspec": {
   "display_name": "Python 3",
   "language": "python",
   "name": "python3"
  },
  "language_info": {
   "codemirror_mode": {
    "name": "ipython",
    "version": 3
   },
   "file_extension": ".py",
   "mimetype": "text/x-python",
   "name": "python",
   "nbconvert_exporter": "python",
   "pygments_lexer": "ipython3",
   "version": "3.7.6"
  }
 },
 "nbformat": 4,
 "nbformat_minor": 4
}

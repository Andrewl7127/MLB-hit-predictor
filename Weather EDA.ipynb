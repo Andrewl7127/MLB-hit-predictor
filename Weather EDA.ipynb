{
 "cells": [
  {
   "cell_type": "code",
   "execution_count": 1,
   "metadata": {},
   "outputs": [],
   "source": [
    "import numpy as np\n",
    "import seaborn as sns\n",
    "import matplotlib.pyplot as plt\n",
    "import pandas as pd\n",
    "import statsmodels.api as sm"
   ]
  },
  {
   "cell_type": "code",
   "execution_count": 3,
   "metadata": {},
   "outputs": [
    {
     "data": {
      "text/html": [
       "<div>\n",
       "<style scoped>\n",
       "    .dataframe tbody tr th:only-of-type {\n",
       "        vertical-align: middle;\n",
       "    }\n",
       "\n",
       "    .dataframe tbody tr th {\n",
       "        vertical-align: top;\n",
       "    }\n",
       "\n",
       "    .dataframe thead th {\n",
       "        text-align: right;\n",
       "    }\n",
       "</style>\n",
       "<table border=\"1\" class=\"dataframe\">\n",
       "  <thead>\n",
       "    <tr style=\"text-align: right;\">\n",
       "      <th></th>\n",
       "      <th>Date</th>\n",
       "      <th>Team 1</th>\n",
       "      <th>Team 2</th>\n",
       "      <th>Team 1 Score</th>\n",
       "      <th>Team 2 Score</th>\n",
       "      <th>Venue</th>\n",
       "      <th>Weather (Degrees)</th>\n",
       "      <th>Weather Type</th>\n",
       "      <th>Wind (MPH)</th>\n",
       "      <th>Wind Direction</th>\n",
       "    </tr>\n",
       "  </thead>\n",
       "  <tbody>\n",
       "    <tr>\n",
       "      <th>0</th>\n",
       "      <td>2014-03-22</td>\n",
       "      <td>ARI</td>\n",
       "      <td>LAD</td>\n",
       "      <td>1</td>\n",
       "      <td>3</td>\n",
       "      <td>Sydney Cricket Ground</td>\n",
       "      <td>75</td>\n",
       "      <td>Overcast</td>\n",
       "      <td>5</td>\n",
       "      <td>Varies</td>\n",
       "    </tr>\n",
       "    <tr>\n",
       "      <th>1</th>\n",
       "      <td>2014-03-22</td>\n",
       "      <td>ARI</td>\n",
       "      <td>LAD</td>\n",
       "      <td>5</td>\n",
       "      <td>7</td>\n",
       "      <td>Sydney Cricket Ground</td>\n",
       "      <td>79</td>\n",
       "      <td>Partly Cloudy</td>\n",
       "      <td>5</td>\n",
       "      <td>Varies</td>\n",
       "    </tr>\n",
       "    <tr>\n",
       "      <th>2</th>\n",
       "      <td>2014-03-30</td>\n",
       "      <td>LAD</td>\n",
       "      <td>SD</td>\n",
       "      <td>1</td>\n",
       "      <td>3</td>\n",
       "      <td>Petco Park</td>\n",
       "      <td>67</td>\n",
       "      <td>Clear</td>\n",
       "      <td>11</td>\n",
       "      <td>L To R</td>\n",
       "    </tr>\n",
       "    <tr>\n",
       "      <th>3</th>\n",
       "      <td>2014-03-31</td>\n",
       "      <td>CHC</td>\n",
       "      <td>PIT</td>\n",
       "      <td>0</td>\n",
       "      <td>1</td>\n",
       "      <td>PNC Park</td>\n",
       "      <td>54</td>\n",
       "      <td>Sunny</td>\n",
       "      <td>2</td>\n",
       "      <td>Out To CF</td>\n",
       "    </tr>\n",
       "    <tr>\n",
       "      <th>4</th>\n",
       "      <td>2014-03-31</td>\n",
       "      <td>KAN</td>\n",
       "      <td>DET</td>\n",
       "      <td>3</td>\n",
       "      <td>4</td>\n",
       "      <td>Comerica Park</td>\n",
       "      <td>52</td>\n",
       "      <td>Sunny</td>\n",
       "      <td>4</td>\n",
       "      <td>In From CF</td>\n",
       "    </tr>\n",
       "  </tbody>\n",
       "</table>\n",
       "</div>"
      ],
      "text/plain": [
       "         Date Team 1 Team 2  Team 1 Score  Team 2 Score  \\\n",
       "0  2014-03-22    ARI    LAD             1             3   \n",
       "1  2014-03-22    ARI    LAD             5             7   \n",
       "2  2014-03-30    LAD     SD             1             3   \n",
       "3  2014-03-31    CHC    PIT             0             1   \n",
       "4  2014-03-31    KAN    DET             3             4   \n",
       "\n",
       "                   Venue  Weather (Degrees)   Weather Type  Wind (MPH)  \\\n",
       "0  Sydney Cricket Ground                 75       Overcast           5   \n",
       "1  Sydney Cricket Ground                 79  Partly Cloudy           5   \n",
       "2             Petco Park                 67          Clear          11   \n",
       "3               PNC Park                 54          Sunny           2   \n",
       "4          Comerica Park                 52          Sunny           4   \n",
       "\n",
       "  Wind Direction  \n",
       "0         Varies  \n",
       "1         Varies  \n",
       "2         L To R  \n",
       "3      Out To CF  \n",
       "4     In From CF  "
      ]
     },
     "execution_count": 3,
     "metadata": {},
     "output_type": "execute_result"
    }
   ],
   "source": [
    "df = pd.read_csv('weather2.csv')\n",
    "df = df.drop(['Unnamed: 0'], axis = 1)\n",
    "df.head()"
   ]
  },
  {
   "cell_type": "code",
   "execution_count": 4,
   "metadata": {},
   "outputs": [
    {
     "data": {
      "text/html": [
       "<div>\n",
       "<style scoped>\n",
       "    .dataframe tbody tr th:only-of-type {\n",
       "        vertical-align: middle;\n",
       "    }\n",
       "\n",
       "    .dataframe tbody tr th {\n",
       "        vertical-align: top;\n",
       "    }\n",
       "\n",
       "    .dataframe thead th {\n",
       "        text-align: right;\n",
       "    }\n",
       "</style>\n",
       "<table border=\"1\" class=\"dataframe\">\n",
       "  <thead>\n",
       "    <tr style=\"text-align: right;\">\n",
       "      <th></th>\n",
       "      <th>Venue</th>\n",
       "      <th>Weather (Degrees)</th>\n",
       "      <th>Wind (MPH)</th>\n",
       "    </tr>\n",
       "  </thead>\n",
       "  <tbody>\n",
       "    <tr>\n",
       "      <th>0</th>\n",
       "      <td>Angel Stadium</td>\n",
       "      <td>75.279018</td>\n",
       "      <td>7.421875</td>\n",
       "    </tr>\n",
       "    <tr>\n",
       "      <th>1</th>\n",
       "      <td>BB&amp;T Ballpark</td>\n",
       "      <td>75.666667</td>\n",
       "      <td>4.333333</td>\n",
       "    </tr>\n",
       "    <tr>\n",
       "      <th>2</th>\n",
       "      <td>Busch Stadium</td>\n",
       "      <td>78.168122</td>\n",
       "      <td>8.058952</td>\n",
       "    </tr>\n",
       "    <tr>\n",
       "      <th>3</th>\n",
       "      <td>Chase Field</td>\n",
       "      <td>80.629712</td>\n",
       "      <td>2.815965</td>\n",
       "    </tr>\n",
       "    <tr>\n",
       "      <th>4</th>\n",
       "      <td>Citi Field</td>\n",
       "      <td>72.772829</td>\n",
       "      <td>10.761693</td>\n",
       "    </tr>\n",
       "  </tbody>\n",
       "</table>\n",
       "</div>"
      ],
      "text/plain": [
       "           Venue  Weather (Degrees)  Wind (MPH)\n",
       "0  Angel Stadium          75.279018    7.421875\n",
       "1  BB&T Ballpark          75.666667    4.333333\n",
       "2  Busch Stadium          78.168122    8.058952\n",
       "3    Chase Field          80.629712    2.815965\n",
       "4     Citi Field          72.772829   10.761693"
      ]
     },
     "execution_count": 4,
     "metadata": {},
     "output_type": "execute_result"
    }
   ],
   "source": [
    "df = df[['Venue', 'Weather (Degrees)', 'Wind (MPH)']]\n",
    "df = df.groupby('Venue').mean()\n",
    "df = df.reset_index()\n",
    "df.head()"
   ]
  },
  {
   "cell_type": "code",
   "execution_count": 5,
   "metadata": {},
   "outputs": [
    {
     "data": {
      "text/html": [
       "<div>\n",
       "<style scoped>\n",
       "    .dataframe tbody tr th:only-of-type {\n",
       "        vertical-align: middle;\n",
       "    }\n",
       "\n",
       "    .dataframe tbody tr th {\n",
       "        vertical-align: top;\n",
       "    }\n",
       "\n",
       "    .dataframe thead th {\n",
       "        text-align: right;\n",
       "    }\n",
       "</style>\n",
       "<table border=\"1\" class=\"dataframe\">\n",
       "  <thead>\n",
       "    <tr style=\"text-align: right;\">\n",
       "      <th></th>\n",
       "      <th>YEAR</th>\n",
       "      <th>PARK NAME</th>\n",
       "      <th>RUNS</th>\n",
       "      <th>HR</th>\n",
       "      <th>H</th>\n",
       "      <th>2B</th>\n",
       "      <th>3B</th>\n",
       "      <th>BB</th>\n",
       "      <th>PARKID</th>\n",
       "      <th>LEAGUE</th>\n",
       "      <th>...</th>\n",
       "      <th>CF_wall_norm</th>\n",
       "      <th>CF_wall_stand</th>\n",
       "      <th>RCF_wall_norm</th>\n",
       "      <th>RCF_wall_stand</th>\n",
       "      <th>RF_wall_norm</th>\n",
       "      <th>RF_wall_stand</th>\n",
       "      <th>Area_norm</th>\n",
       "      <th>Area_stand</th>\n",
       "      <th>Back_norm</th>\n",
       "      <th>Back_stand</th>\n",
       "    </tr>\n",
       "  </thead>\n",
       "  <tbody>\n",
       "    <tr>\n",
       "      <th>0</th>\n",
       "      <td>2001-01-01 00:00:00</td>\n",
       "      <td>Progressive Field</td>\n",
       "      <td>1.584</td>\n",
       "      <td>2.031</td>\n",
       "      <td>1.581</td>\n",
       "      <td>1.546</td>\n",
       "      <td>0.971</td>\n",
       "      <td>1.450</td>\n",
       "      <td>CLE08</td>\n",
       "      <td>AL</td>\n",
       "      <td>...</td>\n",
       "      <td>0.105263</td>\n",
       "      <td>-0.377697</td>\n",
       "      <td>0.15</td>\n",
       "      <td>-0.627716</td>\n",
       "      <td>0.5</td>\n",
       "      <td>0.49017</td>\n",
       "      <td>0.889262</td>\n",
       "      <td>-0.004813</td>\n",
       "      <td>0.907692</td>\n",
       "      <td>1.155407</td>\n",
       "    </tr>\n",
       "    <tr>\n",
       "      <th>1</th>\n",
       "      <td>2002-01-01 00:00:00</td>\n",
       "      <td>Progressive Field</td>\n",
       "      <td>1.031</td>\n",
       "      <td>1.049</td>\n",
       "      <td>0.984</td>\n",
       "      <td>1.029</td>\n",
       "      <td>0.489</td>\n",
       "      <td>0.964</td>\n",
       "      <td>CLE08</td>\n",
       "      <td>AL</td>\n",
       "      <td>...</td>\n",
       "      <td>0.105263</td>\n",
       "      <td>-0.377697</td>\n",
       "      <td>0.15</td>\n",
       "      <td>-0.627716</td>\n",
       "      <td>0.5</td>\n",
       "      <td>0.49017</td>\n",
       "      <td>0.889262</td>\n",
       "      <td>-0.004813</td>\n",
       "      <td>0.907692</td>\n",
       "      <td>1.155407</td>\n",
       "    </tr>\n",
       "    <tr>\n",
       "      <th>2</th>\n",
       "      <td>2003-01-01 00:00:00</td>\n",
       "      <td>Progressive Field</td>\n",
       "      <td>0.853</td>\n",
       "      <td>0.719</td>\n",
       "      <td>0.923</td>\n",
       "      <td>0.936</td>\n",
       "      <td>0.583</td>\n",
       "      <td>1.006</td>\n",
       "      <td>CLE08</td>\n",
       "      <td>AL</td>\n",
       "      <td>...</td>\n",
       "      <td>0.157895</td>\n",
       "      <td>-0.111632</td>\n",
       "      <td>0.20</td>\n",
       "      <td>-0.427418</td>\n",
       "      <td>0.5</td>\n",
       "      <td>0.49017</td>\n",
       "      <td>0.889262</td>\n",
       "      <td>-0.004813</td>\n",
       "      <td>1.000000</td>\n",
       "      <td>2.275899</td>\n",
       "    </tr>\n",
       "    <tr>\n",
       "      <th>3</th>\n",
       "      <td>2004-01-01 00:00:00</td>\n",
       "      <td>Progressive Field</td>\n",
       "      <td>0.960</td>\n",
       "      <td>0.742</td>\n",
       "      <td>0.952</td>\n",
       "      <td>1.115</td>\n",
       "      <td>0.781</td>\n",
       "      <td>1.127</td>\n",
       "      <td>CLE08</td>\n",
       "      <td>AL</td>\n",
       "      <td>...</td>\n",
       "      <td>0.157895</td>\n",
       "      <td>-0.111632</td>\n",
       "      <td>0.20</td>\n",
       "      <td>-0.427418</td>\n",
       "      <td>0.5</td>\n",
       "      <td>0.49017</td>\n",
       "      <td>0.889262</td>\n",
       "      <td>-0.004813</td>\n",
       "      <td>1.000000</td>\n",
       "      <td>2.275899</td>\n",
       "    </tr>\n",
       "    <tr>\n",
       "      <th>4</th>\n",
       "      <td>2005-01-01 00:00:00</td>\n",
       "      <td>Progressive Field</td>\n",
       "      <td>0.874</td>\n",
       "      <td>0.867</td>\n",
       "      <td>0.921</td>\n",
       "      <td>1.040</td>\n",
       "      <td>0.364</td>\n",
       "      <td>1.004</td>\n",
       "      <td>CLE08</td>\n",
       "      <td>AL</td>\n",
       "      <td>...</td>\n",
       "      <td>0.157895</td>\n",
       "      <td>-0.111632</td>\n",
       "      <td>0.20</td>\n",
       "      <td>-0.427418</td>\n",
       "      <td>0.5</td>\n",
       "      <td>0.49017</td>\n",
       "      <td>0.889262</td>\n",
       "      <td>-0.004813</td>\n",
       "      <td>1.000000</td>\n",
       "      <td>2.275899</td>\n",
       "    </tr>\n",
       "  </tbody>\n",
       "</table>\n",
       "<p>5 rows × 81 columns</p>\n",
       "</div>"
      ],
      "text/plain": [
       "                  YEAR          PARK NAME   RUNS     HR      H     2B     3B  \\\n",
       "0  2001-01-01 00:00:00  Progressive Field  1.584  2.031  1.581  1.546  0.971   \n",
       "1  2002-01-01 00:00:00  Progressive Field  1.031  1.049  0.984  1.029  0.489   \n",
       "2  2003-01-01 00:00:00  Progressive Field  0.853  0.719  0.923  0.936  0.583   \n",
       "3  2004-01-01 00:00:00  Progressive Field  0.960  0.742  0.952  1.115  0.781   \n",
       "4  2005-01-01 00:00:00  Progressive Field  0.874  0.867  0.921  1.040  0.364   \n",
       "\n",
       "      BB PARKID LEAGUE  ...  CF_wall_norm  CF_wall_stand  RCF_wall_norm  \\\n",
       "0  1.450  CLE08     AL  ...      0.105263      -0.377697           0.15   \n",
       "1  0.964  CLE08     AL  ...      0.105263      -0.377697           0.15   \n",
       "2  1.006  CLE08     AL  ...      0.157895      -0.111632           0.20   \n",
       "3  1.127  CLE08     AL  ...      0.157895      -0.111632           0.20   \n",
       "4  1.004  CLE08     AL  ...      0.157895      -0.111632           0.20   \n",
       "\n",
       "  RCF_wall_stand  RF_wall_norm  RF_wall_stand  Area_norm  Area_stand  \\\n",
       "0      -0.627716           0.5        0.49017   0.889262   -0.004813   \n",
       "1      -0.627716           0.5        0.49017   0.889262   -0.004813   \n",
       "2      -0.427418           0.5        0.49017   0.889262   -0.004813   \n",
       "3      -0.427418           0.5        0.49017   0.889262   -0.004813   \n",
       "4      -0.427418           0.5        0.49017   0.889262   -0.004813   \n",
       "\n",
       "   Back_norm  Back_stand  \n",
       "0   0.907692    1.155407  \n",
       "1   0.907692    1.155407  \n",
       "2   1.000000    2.275899  \n",
       "3   1.000000    2.275899  \n",
       "4   1.000000    2.275899  \n",
       "\n",
       "[5 rows x 81 columns]"
      ]
     },
     "execution_count": 5,
     "metadata": {},
     "output_type": "execute_result"
    }
   ],
   "source": [
    "park = pd.read_csv('park.csv')\n",
    "park.head()"
   ]
  },
  {
   "cell_type": "code",
   "execution_count": 6,
   "metadata": {},
   "outputs": [
    {
     "data": {
      "text/html": [
       "<div>\n",
       "<style scoped>\n",
       "    .dataframe tbody tr th:only-of-type {\n",
       "        vertical-align: middle;\n",
       "    }\n",
       "\n",
       "    .dataframe tbody tr th {\n",
       "        vertical-align: top;\n",
       "    }\n",
       "\n",
       "    .dataframe thead th {\n",
       "        text-align: right;\n",
       "    }\n",
       "</style>\n",
       "<table border=\"1\" class=\"dataframe\">\n",
       "  <thead>\n",
       "    <tr style=\"text-align: right;\">\n",
       "      <th></th>\n",
       "      <th>PARK NAME</th>\n",
       "      <th>RUNS</th>\n",
       "      <th>HR</th>\n",
       "      <th>H</th>\n",
       "      <th>2B</th>\n",
       "      <th>3B</th>\n",
       "    </tr>\n",
       "  </thead>\n",
       "  <tbody>\n",
       "    <tr>\n",
       "      <th>0</th>\n",
       "      <td>Angel Stadium</td>\n",
       "      <td>0.937667</td>\n",
       "      <td>1.000667</td>\n",
       "      <td>0.963667</td>\n",
       "      <td>0.913333</td>\n",
       "      <td>0.673833</td>\n",
       "    </tr>\n",
       "    <tr>\n",
       "      <th>1</th>\n",
       "      <td>Busch Stadium</td>\n",
       "      <td>0.947333</td>\n",
       "      <td>0.876667</td>\n",
       "      <td>0.988167</td>\n",
       "      <td>0.974667</td>\n",
       "      <td>0.953333</td>\n",
       "    </tr>\n",
       "    <tr>\n",
       "      <th>2</th>\n",
       "      <td>Chase Field</td>\n",
       "      <td>1.112833</td>\n",
       "      <td>1.067833</td>\n",
       "      <td>1.058333</td>\n",
       "      <td>1.124500</td>\n",
       "      <td>1.792667</td>\n",
       "    </tr>\n",
       "    <tr>\n",
       "      <th>3</th>\n",
       "      <td>Citi Field</td>\n",
       "      <td>0.864167</td>\n",
       "      <td>0.954333</td>\n",
       "      <td>0.887667</td>\n",
       "      <td>0.865500</td>\n",
       "      <td>0.664167</td>\n",
       "    </tr>\n",
       "    <tr>\n",
       "      <th>4</th>\n",
       "      <td>Citizens Bank Park</td>\n",
       "      <td>0.994833</td>\n",
       "      <td>1.212000</td>\n",
       "      <td>0.980333</td>\n",
       "      <td>0.912333</td>\n",
       "      <td>0.884000</td>\n",
       "    </tr>\n",
       "  </tbody>\n",
       "</table>\n",
       "</div>"
      ],
      "text/plain": [
       "            PARK NAME      RUNS        HR         H        2B        3B\n",
       "0       Angel Stadium  0.937667  1.000667  0.963667  0.913333  0.673833\n",
       "1       Busch Stadium  0.947333  0.876667  0.988167  0.974667  0.953333\n",
       "2         Chase Field  1.112833  1.067833  1.058333  1.124500  1.792667\n",
       "3          Citi Field  0.864167  0.954333  0.887667  0.865500  0.664167\n",
       "4  Citizens Bank Park  0.994833  1.212000  0.980333  0.912333  0.884000"
      ]
     },
     "execution_count": 6,
     "metadata": {},
     "output_type": "execute_result"
    }
   ],
   "source": [
    "park['YEAR'] = [i.replace('-01-01 00:00:00', '') for i in park['YEAR']]\n",
    "park['YEAR'] = park['YEAR'].astype('int')\n",
    "park = park[park['YEAR'] >= 2014]\n",
    "park = park[['PARK NAME', 'RUNS', 'HR', 'H', '2B', '3B']]\n",
    "park = park.groupby('PARK NAME').mean()\n",
    "park = park.reset_index()\n",
    "park.head()"
   ]
  },
  {
   "cell_type": "code",
   "execution_count": 7,
   "metadata": {},
   "outputs": [
    {
     "data": {
      "text/plain": [
       "array(['Angel Stadium', 'Busch Stadium', 'Chase Field', 'Citi Field',\n",
       "       'Citizens Bank Park', 'Comerica Park', 'Coors Field',\n",
       "       'Dodger Stadium', 'Fenway Park', 'Great American Ball Park',\n",
       "       'Guaranteed Rate Field', 'Kauffman Stadium', 'Marlins Park',\n",
       "       'Miller Park', 'Minute Maid Park', 'Nationals Park', 'Oracle Park',\n",
       "       'Oriole Park at Camden Yards', 'PNC Park', 'Petco Park',\n",
       "       'Progressive Field', 'Rogers Centre', 'T-Mobile Park',\n",
       "       'Target Field', 'Tropicana Field', 'Truist Park', 'Wrigley Field',\n",
       "       'Yankee Stadium'], dtype=object)"
      ]
     },
     "execution_count": 7,
     "metadata": {},
     "output_type": "execute_result"
    }
   ],
   "source": [
    "park['PARK NAME'].unique()"
   ]
  },
  {
   "cell_type": "code",
   "execution_count": 8,
   "metadata": {},
   "outputs": [
    {
     "data": {
      "text/html": [
       "<div>\n",
       "<style scoped>\n",
       "    .dataframe tbody tr th:only-of-type {\n",
       "        vertical-align: middle;\n",
       "    }\n",
       "\n",
       "    .dataframe tbody tr th {\n",
       "        vertical-align: top;\n",
       "    }\n",
       "\n",
       "    .dataframe thead th {\n",
       "        text-align: right;\n",
       "    }\n",
       "</style>\n",
       "<table border=\"1\" class=\"dataframe\">\n",
       "  <thead>\n",
       "    <tr style=\"text-align: right;\">\n",
       "      <th></th>\n",
       "      <th>PARK NAME</th>\n",
       "      <th>RUNS</th>\n",
       "      <th>HR</th>\n",
       "      <th>H</th>\n",
       "      <th>2B</th>\n",
       "      <th>3B</th>\n",
       "      <th>Weather (Degrees)</th>\n",
       "      <th>Wind (MPH)</th>\n",
       "    </tr>\n",
       "  </thead>\n",
       "  <tbody>\n",
       "    <tr>\n",
       "      <th>0</th>\n",
       "      <td>Angel Stadium</td>\n",
       "      <td>0.937667</td>\n",
       "      <td>1.000667</td>\n",
       "      <td>0.963667</td>\n",
       "      <td>0.913333</td>\n",
       "      <td>0.673833</td>\n",
       "      <td>75.279018</td>\n",
       "      <td>7.421875</td>\n",
       "    </tr>\n",
       "    <tr>\n",
       "      <th>1</th>\n",
       "      <td>Busch Stadium</td>\n",
       "      <td>0.947333</td>\n",
       "      <td>0.876667</td>\n",
       "      <td>0.988167</td>\n",
       "      <td>0.974667</td>\n",
       "      <td>0.953333</td>\n",
       "      <td>78.168122</td>\n",
       "      <td>8.058952</td>\n",
       "    </tr>\n",
       "    <tr>\n",
       "      <th>2</th>\n",
       "      <td>Chase Field</td>\n",
       "      <td>1.112833</td>\n",
       "      <td>1.067833</td>\n",
       "      <td>1.058333</td>\n",
       "      <td>1.124500</td>\n",
       "      <td>1.792667</td>\n",
       "      <td>80.629712</td>\n",
       "      <td>2.815965</td>\n",
       "    </tr>\n",
       "    <tr>\n",
       "      <th>3</th>\n",
       "      <td>Citi Field</td>\n",
       "      <td>0.864167</td>\n",
       "      <td>0.954333</td>\n",
       "      <td>0.887667</td>\n",
       "      <td>0.865500</td>\n",
       "      <td>0.664167</td>\n",
       "      <td>72.772829</td>\n",
       "      <td>10.761693</td>\n",
       "    </tr>\n",
       "    <tr>\n",
       "      <th>4</th>\n",
       "      <td>Citizens Bank Park</td>\n",
       "      <td>0.994833</td>\n",
       "      <td>1.212000</td>\n",
       "      <td>0.980333</td>\n",
       "      <td>0.912333</td>\n",
       "      <td>0.884000</td>\n",
       "      <td>75.657080</td>\n",
       "      <td>8.993363</td>\n",
       "    </tr>\n",
       "  </tbody>\n",
       "</table>\n",
       "</div>"
      ],
      "text/plain": [
       "            PARK NAME      RUNS        HR         H        2B        3B  \\\n",
       "0       Angel Stadium  0.937667  1.000667  0.963667  0.913333  0.673833   \n",
       "1       Busch Stadium  0.947333  0.876667  0.988167  0.974667  0.953333   \n",
       "2         Chase Field  1.112833  1.067833  1.058333  1.124500  1.792667   \n",
       "3          Citi Field  0.864167  0.954333  0.887667  0.865500  0.664167   \n",
       "4  Citizens Bank Park  0.994833  1.212000  0.980333  0.912333  0.884000   \n",
       "\n",
       "   Weather (Degrees)  Wind (MPH)  \n",
       "0          75.279018    7.421875  \n",
       "1          78.168122    8.058952  \n",
       "2          80.629712    2.815965  \n",
       "3          72.772829   10.761693  \n",
       "4          75.657080    8.993363  "
      ]
     },
     "execution_count": 8,
     "metadata": {},
     "output_type": "execute_result"
    }
   ],
   "source": [
    "merge = pd.merge(left= park, right= df, left_on= 'PARK NAME', right_on= 'Venue')\n",
    "merge = merge.drop(['Venue'], axis = 1)\n",
    "merge.head()"
   ]
  },
  {
   "cell_type": "code",
   "execution_count": 9,
   "metadata": {},
   "outputs": [
    {
     "data": {
      "image/png": "[encoded data removed]",
      "text/plain": [
       "<Figure size 432x288 with 1 Axes>"
      ]
     },
     "metadata": {
      "needs_background": "light"
     },
     "output_type": "display_data"
    }
   ],
   "source": [
    "x = merge['Wind (MPH)']\n",
    "y = merge['H']\n",
    "plt.scatter(x, y)\n",
    "plt.plot(np.unique(x), np.poly1d(np.polyfit(x, y, 1))(np.unique(x)))\n",
    "plt.show()"
   ]
  },
  {
   "cell_type": "code",
   "execution_count": 10,
   "metadata": {
    "scrolled": true
   },
   "outputs": [
    {
     "data": {
      "text/plain": [
       "<matplotlib.axes._subplots.AxesSubplot at 0x1c40532b108>"
      ]
     },
     "execution_count": 10,
     "metadata": {},
     "output_type": "execute_result"
    },
    {
     "data": {
      "image/png": "[encoded data removed]",
      "text/plain": [
       "<Figure size 432x288 with 1 Axes>"
      ]
     },
     "metadata": {
      "needs_background": "light"
     },
     "output_type": "display_data"
    }
   ],
   "source": [
    "sns.regplot(x, y)"
   ]
  },
  {
   "cell_type": "code",
   "execution_count": 11,
   "metadata": {},
   "outputs": [
    {
     "data": {
      "text/plain": [
       "array([0.0024844 , 0.98206106])"
      ]
     },
     "execution_count": 11,
     "metadata": {},
     "output_type": "execute_result"
    }
   ],
   "source": [
    "model = np.polyfit(x, y, 1)\n",
    "model"
   ]
  },
  {
   "cell_type": "code",
   "execution_count": 12,
   "metadata": {},
   "outputs": [
    {
     "data": {
      "text/html": [
       "<table class=\"simpletable\">\n",
       "<caption>OLS Regression Results</caption>\n",
       "<tr>\n",
       "  <th>Dep. Variable:</th>            <td>H</td>        <th>  R-squared:         </th> <td>   0.015</td>\n",
       "</tr>\n",
       "<tr>\n",
       "  <th>Model:</th>                   <td>OLS</td>       <th>  Adj. R-squared:    </th> <td>  -0.023</td>\n",
       "</tr>\n",
       "<tr>\n",
       "  <th>Method:</th>             <td>Least Squares</td>  <th>  F-statistic:       </th> <td>  0.3889</td>\n",
       "</tr>\n",
       "<tr>\n",
       "  <th>Date:</th>             <td>Sun, 28 Jun 2020</td> <th>  Prob (F-statistic):</th>  <td> 0.538</td> \n",
       "</tr>\n",
       "<tr>\n",
       "  <th>Time:</th>                 <td>13:23:39</td>     <th>  Log-Likelihood:    </th> <td>  36.566</td>\n",
       "</tr>\n",
       "<tr>\n",
       "  <th>No. Observations:</th>      <td>    28</td>      <th>  AIC:               </th> <td>  -69.13</td>\n",
       "</tr>\n",
       "<tr>\n",
       "  <th>Df Residuals:</th>          <td>    26</td>      <th>  BIC:               </th> <td>  -66.47</td>\n",
       "</tr>\n",
       "<tr>\n",
       "  <th>Df Model:</th>              <td>     1</td>      <th>                     </th>     <td> </td>   \n",
       "</tr>\n",
       "<tr>\n",
       "  <th>Covariance Type:</th>      <td>nonrobust</td>    <th>                     </th>     <td> </td>   \n",
       "</tr>\n",
       "</table>\n",
       "<table class=\"simpletable\">\n",
       "<tr>\n",
       "       <td></td>         <th>coef</th>     <th>std err</th>      <th>t</th>      <th>P>|t|</th>  <th>[0.025</th>    <th>0.975]</th>  \n",
       "</tr>\n",
       "<tr>\n",
       "  <th>const</th>      <td>    0.9821</td> <td>    0.032</td> <td>   31.024</td> <td> 0.000</td> <td>    0.917</td> <td>    1.047</td>\n",
       "</tr>\n",
       "<tr>\n",
       "  <th>Wind (MPH)</th> <td>    0.0025</td> <td>    0.004</td> <td>    0.624</td> <td> 0.538</td> <td>   -0.006</td> <td>    0.011</td>\n",
       "</tr>\n",
       "</table>\n",
       "<table class=\"simpletable\">\n",
       "<tr>\n",
       "  <th>Omnibus:</th>       <td>27.638</td> <th>  Durbin-Watson:     </th> <td>   2.496</td>\n",
       "</tr>\n",
       "<tr>\n",
       "  <th>Prob(Omnibus):</th> <td> 0.000</td> <th>  Jarque-Bera (JB):  </th> <td>  62.417</td>\n",
       "</tr>\n",
       "<tr>\n",
       "  <th>Skew:</th>          <td> 1.965</td> <th>  Prob(JB):          </th> <td>2.79e-14</td>\n",
       "</tr>\n",
       "<tr>\n",
       "  <th>Kurtosis:</th>      <td> 9.169</td> <th>  Cond. No.          </th> <td>    19.8</td>\n",
       "</tr>\n",
       "</table><br/><br/>Warnings:<br/>[1] Standard Errors assume that the covariance matrix of the errors is correctly specified."
      ],
      "text/plain": [
       "<class 'statsmodels.iolib.summary.Summary'>\n",
       "\"\"\"\n",
       "                            OLS Regression Results                            \n",
       "==============================================================================\n",
       "Dep. Variable:                      H   R-squared:                       0.015\n",
       "Model:                            OLS   Adj. R-squared:                 -0.023\n",
       "Method:                 Least Squares   F-statistic:                    0.3889\n",
       "Date:                Sun, 28 Jun 2020   Prob (F-statistic):              0.538\n",
       "Time:                        13:23:39   Log-Likelihood:                 36.566\n",
       "No. Observations:                  28   AIC:                            -69.13\n",
       "Df Residuals:                      26   BIC:                            -66.47\n",
       "Df Model:                           1                                         \n",
       "Covariance Type:            nonrobust                                         \n",
       "==============================================================================\n",
       "                 coef    std err          t      P>|t|      [0.025      0.975]\n",
       "------------------------------------------------------------------------------\n",
       "const          0.9821      0.032     31.024      0.000       0.917       1.047\n",
       "Wind (MPH)     0.0025      0.004      0.624      0.538      -0.006       0.011\n",
       "==============================================================================\n",
       "Omnibus:                       27.638   Durbin-Watson:                   2.496\n",
       "Prob(Omnibus):                  0.000   Jarque-Bera (JB):               62.417\n",
       "Skew:                           1.965   Prob(JB):                     2.79e-14\n",
       "Kurtosis:                       9.169   Cond. No.                         19.8\n",
       "==============================================================================\n",
       "\n",
       "Warnings:\n",
       "[1] Standard Errors assume that the covariance matrix of the errors is correctly specified.\n",
       "\"\"\""
      ]
     },
     "execution_count": 12,
     "metadata": {},
     "output_type": "execute_result"
    }
   ],
   "source": [
    "model = sm.OLS(y, sm.add_constant(x)).fit()\n",
    "model.summary()"
   ]
  },
  {
   "cell_type": "code",
   "execution_count": 13,
   "metadata": {},
   "outputs": [
    {
     "data": {
      "image/png": "[encoded data removed]",
      "text/plain": [
       "<Figure size 432x288 with 1 Axes>"
      ]
     },
     "metadata": {
      "needs_background": "light"
     },
     "output_type": "display_data"
    }
   ],
   "source": [
    "x = merge['Weather (Degrees)']\n",
    "y = merge['H']\n",
    "plt.scatter(x, y)\n",
    "plt.plot(np.unique(x), np.poly1d(np.polyfit(x, y, 1))(np.unique(x)))\n",
    "plt.show()"
   ]
  },
  {
   "cell_type": "code",
   "execution_count": 14,
   "metadata": {},
   "outputs": [
    {
     "data": {
      "text/plain": [
       "<matplotlib.axes._subplots.AxesSubplot at 0x1c40b3fcb48>"
      ]
     },
     "execution_count": 14,
     "metadata": {},
     "output_type": "execute_result"
    },
    {
     "data": {
      "image/png": "[encoded data removed]",
      "text/plain": [
       "<Figure size 432x288 with 1 Axes>"
      ]
     },
     "metadata": {
      "needs_background": "light"
     },
     "output_type": "display_data"
    }
   ],
   "source": [
    "sns.regplot(x, y)"
   ]
  },
  {
   "cell_type": "code",
   "execution_count": 15,
   "metadata": {},
   "outputs": [
    {
     "data": {
      "text/plain": [
       "array([0.00313111, 0.77046728])"
      ]
     },
     "execution_count": 15,
     "metadata": {},
     "output_type": "execute_result"
    }
   ],
   "source": [
    "model = np.polyfit(x, y, 1)\n",
    "model"
   ]
  },
  {
   "cell_type": "code",
   "execution_count": 16,
   "metadata": {},
   "outputs": [
    {
     "data": {
      "text/html": [
       "<table class=\"simpletable\">\n",
       "<caption>OLS Regression Results</caption>\n",
       "<tr>\n",
       "  <th>Dep. Variable:</th>            <td>H</td>        <th>  R-squared:         </th> <td>   0.032</td>\n",
       "</tr>\n",
       "<tr>\n",
       "  <th>Model:</th>                   <td>OLS</td>       <th>  Adj. R-squared:    </th> <td>  -0.005</td>\n",
       "</tr>\n",
       "<tr>\n",
       "  <th>Method:</th>             <td>Least Squares</td>  <th>  F-statistic:       </th> <td>  0.8722</td>\n",
       "</tr>\n",
       "<tr>\n",
       "  <th>Date:</th>             <td>Sun, 28 Jun 2020</td> <th>  Prob (F-statistic):</th>  <td> 0.359</td> \n",
       "</tr>\n",
       "<tr>\n",
       "  <th>Time:</th>                 <td>13:23:41</td>     <th>  Log-Likelihood:    </th> <td>  36.820</td>\n",
       "</tr>\n",
       "<tr>\n",
       "  <th>No. Observations:</th>      <td>    28</td>      <th>  AIC:               </th> <td>  -69.64</td>\n",
       "</tr>\n",
       "<tr>\n",
       "  <th>Df Residuals:</th>          <td>    26</td>      <th>  BIC:               </th> <td>  -66.98</td>\n",
       "</tr>\n",
       "<tr>\n",
       "  <th>Df Model:</th>              <td>     1</td>      <th>                     </th>     <td> </td>   \n",
       "</tr>\n",
       "<tr>\n",
       "  <th>Covariance Type:</th>      <td>nonrobust</td>    <th>                     </th>     <td> </td>   \n",
       "</tr>\n",
       "</table>\n",
       "<table class=\"simpletable\">\n",
       "<tr>\n",
       "          <td></td>             <th>coef</th>     <th>std err</th>      <th>t</th>      <th>P>|t|</th>  <th>[0.025</th>    <th>0.975]</th>  \n",
       "</tr>\n",
       "<tr>\n",
       "  <th>const</th>             <td>    0.7705</td> <td>    0.246</td> <td>    3.129</td> <td> 0.004</td> <td>    0.264</td> <td>    1.277</td>\n",
       "</tr>\n",
       "<tr>\n",
       "  <th>Weather (Degrees)</th> <td>    0.0031</td> <td>    0.003</td> <td>    0.934</td> <td> 0.359</td> <td>   -0.004</td> <td>    0.010</td>\n",
       "</tr>\n",
       "</table>\n",
       "<table class=\"simpletable\">\n",
       "<tr>\n",
       "  <th>Omnibus:</th>       <td>26.542</td> <th>  Durbin-Watson:     </th> <td>   2.362</td>\n",
       "</tr>\n",
       "<tr>\n",
       "  <th>Prob(Omnibus):</th> <td> 0.000</td> <th>  Jarque-Bera (JB):  </th> <td>  54.805</td>\n",
       "</tr>\n",
       "<tr>\n",
       "  <th>Skew:</th>          <td> 1.937</td> <th>  Prob(JB):          </th> <td>1.26e-12</td>\n",
       "</tr>\n",
       "<tr>\n",
       "  <th>Kurtosis:</th>      <td> 8.654</td> <th>  Cond. No.          </th> <td>1.42e+03</td>\n",
       "</tr>\n",
       "</table><br/><br/>Warnings:<br/>[1] Standard Errors assume that the covariance matrix of the errors is correctly specified.<br/>[2] The condition number is large, 1.42e+03. This might indicate that there are<br/>strong multicollinearity or other numerical problems."
      ],
      "text/plain": [
       "<class 'statsmodels.iolib.summary.Summary'>\n",
       "\"\"\"\n",
       "                            OLS Regression Results                            \n",
       "==============================================================================\n",
       "Dep. Variable:                      H   R-squared:                       0.032\n",
       "Model:                            OLS   Adj. R-squared:                 -0.005\n",
       "Method:                 Least Squares   F-statistic:                    0.8722\n",
       "Date:                Sun, 28 Jun 2020   Prob (F-statistic):              0.359\n",
       "Time:                        13:23:41   Log-Likelihood:                 36.820\n",
       "No. Observations:                  28   AIC:                            -69.64\n",
       "Df Residuals:                      26   BIC:                            -66.98\n",
       "Df Model:                           1                                         \n",
       "Covariance Type:            nonrobust                                         \n",
       "=====================================================================================\n",
       "                        coef    std err          t      P>|t|      [0.025      0.975]\n",
       "-------------------------------------------------------------------------------------\n",
       "const                 0.7705      0.246      3.129      0.004       0.264       1.277\n",
       "Weather (Degrees)     0.0031      0.003      0.934      0.359      -0.004       0.010\n",
       "==============================================================================\n",
       "Omnibus:                       26.542   Durbin-Watson:                   2.362\n",
       "Prob(Omnibus):                  0.000   Jarque-Bera (JB):               54.805\n",
       "Skew:                           1.937   Prob(JB):                     1.26e-12\n",
       "Kurtosis:                       8.654   Cond. No.                     1.42e+03\n",
       "==============================================================================\n",
       "\n",
       "Warnings:\n",
       "[1] Standard Errors assume that the covariance matrix of the errors is correctly specified.\n",
       "[2] The condition number is large, 1.42e+03. This might indicate that there are\n",
       "strong multicollinearity or other numerical problems.\n",
       "\"\"\""
      ]
     },
     "execution_count": 16,
     "metadata": {},
     "output_type": "execute_result"
    }
   ],
   "source": [
    "model = sm.OLS(y, sm.add_constant(x)).fit()\n",
    "model.summary()"
   ]
  },
  {
   "cell_type": "code",
   "execution_count": 17,
   "metadata": {},
   "outputs": [
    {
     "data": {
      "text/html": [
       "<table class=\"simpletable\">\n",
       "<caption>OLS Regression Results</caption>\n",
       "<tr>\n",
       "  <th>Dep. Variable:</th>            <td>H</td>        <th>  R-squared:         </th> <td>   0.069</td>\n",
       "</tr>\n",
       "<tr>\n",
       "  <th>Model:</th>                   <td>OLS</td>       <th>  Adj. R-squared:    </th> <td>  -0.005</td>\n",
       "</tr>\n",
       "<tr>\n",
       "  <th>Method:</th>             <td>Least Squares</td>  <th>  F-statistic:       </th> <td>  0.9301</td>\n",
       "</tr>\n",
       "<tr>\n",
       "  <th>Date:</th>             <td>Sun, 28 Jun 2020</td> <th>  Prob (F-statistic):</th>  <td> 0.408</td> \n",
       "</tr>\n",
       "<tr>\n",
       "  <th>Time:</th>                 <td>13:23:41</td>     <th>  Log-Likelihood:    </th> <td>  37.363</td>\n",
       "</tr>\n",
       "<tr>\n",
       "  <th>No. Observations:</th>      <td>    28</td>      <th>  AIC:               </th> <td>  -68.73</td>\n",
       "</tr>\n",
       "<tr>\n",
       "  <th>Df Residuals:</th>          <td>    25</td>      <th>  BIC:               </th> <td>  -64.73</td>\n",
       "</tr>\n",
       "<tr>\n",
       "  <th>Df Model:</th>              <td>     2</td>      <th>                     </th>     <td> </td>   \n",
       "</tr>\n",
       "<tr>\n",
       "  <th>Covariance Type:</th>      <td>nonrobust</td>    <th>                     </th>     <td> </td>   \n",
       "</tr>\n",
       "</table>\n",
       "<table class=\"simpletable\">\n",
       "<tr>\n",
       "          <td></td>             <th>coef</th>     <th>std err</th>      <th>t</th>      <th>P>|t|</th>  <th>[0.025</th>    <th>0.975]</th>  \n",
       "</tr>\n",
       "<tr>\n",
       "  <th>const</th>             <td>    0.6545</td> <td>    0.272</td> <td>    2.402</td> <td> 0.024</td> <td>    0.093</td> <td>    1.216</td>\n",
       "</tr>\n",
       "<tr>\n",
       "  <th>Weather (Degrees)</th> <td>    0.0043</td> <td>    0.004</td> <td>    1.210</td> <td> 0.238</td> <td>   -0.003</td> <td>    0.012</td>\n",
       "</tr>\n",
       "<tr>\n",
       "  <th>Wind (MPH)</th>        <td>    0.0042</td> <td>    0.004</td> <td>    0.994</td> <td> 0.330</td> <td>   -0.004</td> <td>    0.013</td>\n",
       "</tr>\n",
       "</table>\n",
       "<table class=\"simpletable\">\n",
       "<tr>\n",
       "  <th>Omnibus:</th>       <td>29.391</td> <th>  Durbin-Watson:     </th> <td>   2.273</td>\n",
       "</tr>\n",
       "<tr>\n",
       "  <th>Prob(Omnibus):</th> <td> 0.000</td> <th>  Jarque-Bera (JB):  </th> <td>  73.049</td>\n",
       "</tr>\n",
       "<tr>\n",
       "  <th>Skew:</th>          <td> 2.052</td> <th>  Prob(JB):          </th> <td>1.37e-16</td>\n",
       "</tr>\n",
       "<tr>\n",
       "  <th>Kurtosis:</th>      <td> 9.765</td> <th>  Cond. No.          </th> <td>1.58e+03</td>\n",
       "</tr>\n",
       "</table><br/><br/>Warnings:<br/>[1] Standard Errors assume that the covariance matrix of the errors is correctly specified.<br/>[2] The condition number is large, 1.58e+03. This might indicate that there are<br/>strong multicollinearity or other numerical problems."
      ],
      "text/plain": [
       "<class 'statsmodels.iolib.summary.Summary'>\n",
       "\"\"\"\n",
       "                            OLS Regression Results                            \n",
       "==============================================================================\n",
       "Dep. Variable:                      H   R-squared:                       0.069\n",
       "Model:                            OLS   Adj. R-squared:                 -0.005\n",
       "Method:                 Least Squares   F-statistic:                    0.9301\n",
       "Date:                Sun, 28 Jun 2020   Prob (F-statistic):              0.408\n",
       "Time:                        13:23:41   Log-Likelihood:                 37.363\n",
       "No. Observations:                  28   AIC:                            -68.73\n",
       "Df Residuals:                      25   BIC:                            -64.73\n",
       "Df Model:                           2                                         \n",
       "Covariance Type:            nonrobust                                         \n",
       "=====================================================================================\n",
       "                        coef    std err          t      P>|t|      [0.025      0.975]\n",
       "-------------------------------------------------------------------------------------\n",
       "const                 0.6545      0.272      2.402      0.024       0.093       1.216\n",
       "Weather (Degrees)     0.0043      0.004      1.210      0.238      -0.003       0.012\n",
       "Wind (MPH)            0.0042      0.004      0.994      0.330      -0.004       0.013\n",
       "==============================================================================\n",
       "Omnibus:                       29.391   Durbin-Watson:                   2.273\n",
       "Prob(Omnibus):                  0.000   Jarque-Bera (JB):               73.049\n",
       "Skew:                           2.052   Prob(JB):                     1.37e-16\n",
       "Kurtosis:                       9.765   Cond. No.                     1.58e+03\n",
       "==============================================================================\n",
       "\n",
       "Warnings:\n",
       "[1] Standard Errors assume that the covariance matrix of the errors is correctly specified.\n",
       "[2] The condition number is large, 1.58e+03. This might indicate that there are\n",
       "strong multicollinearity or other numerical problems.\n",
       "\"\"\""
      ]
     },
     "execution_count": 17,
     "metadata": {},
     "output_type": "execute_result"
    }
   ],
   "source": [
    "x = merge[['Weather (Degrees)', 'Wind (MPH)']]\n",
    "y = merge['H']\n",
    "model = sm.OLS(y, sm.add_constant(x)).fit()\n",
    "model.summary()"
   ]
  },
  {
   "cell_type": "code",
   "execution_count": 18,
   "metadata": {},
   "outputs": [
    {
     "data": {
      "text/plain": [
       "RandomForestRegressor(bootstrap=True, ccp_alpha=0.0, criterion='mse',\n",
       "                      max_depth=None, max_features='auto', max_leaf_nodes=None,\n",
       "                      max_samples=None, min_impurity_decrease=0.0,\n",
       "                      min_impurity_split=None, min_samples_leaf=1,\n",
       "                      min_samples_split=2, min_weight_fraction_leaf=0.0,\n",
       "                      n_estimators=100, n_jobs=None, oob_score=False,\n",
       "                      random_state=None, verbose=0, warm_start=False)"
      ]
     },
     "execution_count": 18,
     "metadata": {},
     "output_type": "execute_result"
    }
   ],
   "source": [
    "from sklearn.ensemble import RandomForestRegressor\n",
    "from sklearn.model_selection import train_test_split\n",
    "\n",
    "x, y = pd.DataFrame(merge, columns = ['Weather (Degrees)']), pd.DataFrame(merge, columns = ['H'])\n",
    "x_train, x_test, y_train, y_test = train_test_split(x, y, test_size=0.20)\n",
    "\n",
    "regressor = RandomForestRegressor()\n",
    "regressor.fit(x_train, y_train.values.ravel())"
   ]
  },
  {
   "cell_type": "code",
   "execution_count": 29,
   "metadata": {},
   "outputs": [
    {
     "data": {
      "text/html": [
       "<div>\n",
       "<style scoped>\n",
       "    .dataframe tbody tr th:only-of-type {\n",
       "        vertical-align: middle;\n",
       "    }\n",
       "\n",
       "    .dataframe tbody tr th {\n",
       "        vertical-align: top;\n",
       "    }\n",
       "\n",
       "    .dataframe thead th {\n",
       "        text-align: right;\n",
       "    }\n",
       "</style>\n",
       "<table border=\"1\" class=\"dataframe\">\n",
       "  <thead>\n",
       "    <tr style=\"text-align: right;\">\n",
       "      <th></th>\n",
       "      <th>Real</th>\n",
       "      <th>Predictions</th>\n",
       "    </tr>\n",
       "  </thead>\n",
       "  <tbody>\n",
       "    <tr>\n",
       "      <th>0</th>\n",
       "      <td>0.927167</td>\n",
       "      <td>0.988053</td>\n",
       "    </tr>\n",
       "    <tr>\n",
       "      <th>1</th>\n",
       "      <td>0.998500</td>\n",
       "      <td>0.977623</td>\n",
       "    </tr>\n",
       "    <tr>\n",
       "      <th>2</th>\n",
       "      <td>0.963667</td>\n",
       "      <td>1.013322</td>\n",
       "    </tr>\n",
       "    <tr>\n",
       "      <th>3</th>\n",
       "      <td>0.988167</td>\n",
       "      <td>1.024670</td>\n",
       "    </tr>\n",
       "    <tr>\n",
       "      <th>4</th>\n",
       "      <td>1.049500</td>\n",
       "      <td>0.965390</td>\n",
       "    </tr>\n",
       "    <tr>\n",
       "      <th>5</th>\n",
       "      <td>1.025667</td>\n",
       "      <td>0.993292</td>\n",
       "    </tr>\n",
       "  </tbody>\n",
       "</table>\n",
       "</div>"
      ],
      "text/plain": [
       "       Real  Predictions\n",
       "0  0.927167     0.988053\n",
       "1  0.998500     0.977623\n",
       "2  0.963667     1.013322\n",
       "3  0.988167     1.024670\n",
       "4  1.049500     0.965390\n",
       "5  1.025667     0.993292"
      ]
     },
     "execution_count": 29,
     "metadata": {},
     "output_type": "execute_result"
    }
   ],
   "source": [
    "predictions = regressor.predict(x_test)\n",
    "predictions = [float(i) for i in predictions]\n",
    "comparison = pd.DataFrame({\"Real\" : y_test.iloc[:,0], \"Predictions\" : predictions})\n",
    "comparison = comparison.reset_index()\n",
    "comparison = comparison.drop(['index'], axis=1)\n",
    "correct = 0\n",
    "comparison"
   ]
  },
  {
   "cell_type": "code",
   "execution_count": 20,
   "metadata": {},
   "outputs": [
    {
     "data": {
      "image/png": "[encoded data removed]",
      "text/plain": [
       "<Figure size 432x288 with 2 Axes>"
      ]
     },
     "metadata": {
      "needs_background": "light"
     },
     "output_type": "display_data"
    }
   ],
   "source": [
    "fig, (g1, g2) = plt.subplots(1, 2)\n",
    "g1.plot(comparison.index, comparison[\"Real\"], color = \"Green\")\n",
    "g2.plot(comparison.index, comparison[\"Predictions\"], color = \"Red\")\n",
    "g1.set_title(\"Real\")\n",
    "g2.set_title(\"Predictions\")\n",
    "fig.tight_layout()\n",
    "plt.show()"
   ]
  },
  {
   "cell_type": "code",
   "execution_count": 21,
   "metadata": {},
   "outputs": [
    {
     "data": {
      "text/plain": [
       "RandomForestRegressor(bootstrap=True, ccp_alpha=0.0, criterion='mse',\n",
       "                      max_depth=None, max_features='auto', max_leaf_nodes=None,\n",
       "                      max_samples=None, min_impurity_decrease=0.0,\n",
       "                      min_impurity_split=None, min_samples_leaf=1,\n",
       "                      min_samples_split=2, min_weight_fraction_leaf=0.0,\n",
       "                      n_estimators=100, n_jobs=None, oob_score=False,\n",
       "                      random_state=None, verbose=0, warm_start=False)"
      ]
     },
     "execution_count": 21,
     "metadata": {},
     "output_type": "execute_result"
    }
   ],
   "source": [
    "from sklearn.ensemble import RandomForestRegressor\n",
    "from sklearn.model_selection import train_test_split\n",
    "\n",
    "x, y = pd.DataFrame(merge, columns = ['Wind (MPH)']), pd.DataFrame(merge, columns = ['H'])\n",
    "x_train, x_test, y_train, y_test = train_test_split(x, y, test_size=0.20)\n",
    "\n",
    "regressor = RandomForestRegressor()\n",
    "regressor.fit(x_train, y_train.values.ravel())"
   ]
  },
  {
   "cell_type": "code",
   "execution_count": 28,
   "metadata": {},
   "outputs": [
    {
     "data": {
      "text/html": [
       "<div>\n",
       "<style scoped>\n",
       "    .dataframe tbody tr th:only-of-type {\n",
       "        vertical-align: middle;\n",
       "    }\n",
       "\n",
       "    .dataframe tbody tr th {\n",
       "        vertical-align: top;\n",
       "    }\n",
       "\n",
       "    .dataframe thead th {\n",
       "        text-align: right;\n",
       "    }\n",
       "</style>\n",
       "<table border=\"1\" class=\"dataframe\">\n",
       "  <thead>\n",
       "    <tr style=\"text-align: right;\">\n",
       "      <th></th>\n",
       "      <th>Real</th>\n",
       "      <th>Predictions</th>\n",
       "    </tr>\n",
       "  </thead>\n",
       "  <tbody>\n",
       "    <tr>\n",
       "      <th>0</th>\n",
       "      <td>0.927167</td>\n",
       "      <td>0.988053</td>\n",
       "    </tr>\n",
       "    <tr>\n",
       "      <th>1</th>\n",
       "      <td>0.998500</td>\n",
       "      <td>0.977623</td>\n",
       "    </tr>\n",
       "    <tr>\n",
       "      <th>2</th>\n",
       "      <td>0.963667</td>\n",
       "      <td>1.013322</td>\n",
       "    </tr>\n",
       "    <tr>\n",
       "      <th>3</th>\n",
       "      <td>0.988167</td>\n",
       "      <td>1.024670</td>\n",
       "    </tr>\n",
       "    <tr>\n",
       "      <th>4</th>\n",
       "      <td>1.049500</td>\n",
       "      <td>0.965390</td>\n",
       "    </tr>\n",
       "    <tr>\n",
       "      <th>5</th>\n",
       "      <td>1.025667</td>\n",
       "      <td>0.993292</td>\n",
       "    </tr>\n",
       "  </tbody>\n",
       "</table>\n",
       "</div>"
      ],
      "text/plain": [
       "       Real  Predictions\n",
       "0  0.927167     0.988053\n",
       "1  0.998500     0.977623\n",
       "2  0.963667     1.013322\n",
       "3  0.988167     1.024670\n",
       "4  1.049500     0.965390\n",
       "5  1.025667     0.993292"
      ]
     },
     "execution_count": 28,
     "metadata": {},
     "output_type": "execute_result"
    }
   ],
   "source": [
    "predictions = regressor.predict(x_test)\n",
    "predictions = [float(i) for i in predictions]\n",
    "comparison = pd.DataFrame({\"Real\" : y_test.iloc[:,0], \"Predictions\" : predictions})\n",
    "comparison = comparison.reset_index()\n",
    "comparison = comparison.drop(['index'], axis=1)\n",
    "comparison"
   ]
  },
  {
   "cell_type": "code",
   "execution_count": 23,
   "metadata": {},
   "outputs": [
    {
     "data": {
      "image/png": "[encoded data removed]",
      "text/plain": [
       "<Figure size 432x288 with 2 Axes>"
      ]
     },
     "metadata": {
      "needs_background": "light"
     },
     "output_type": "display_data"
    }
   ],
   "source": [
    "fig, (g1, g2) = plt.subplots(1, 2)\n",
    "g1.plot(comparison.index, comparison[\"Real\"], color = \"Green\")\n",
    "g2.plot(comparison.index, comparison[\"Predictions\"], color = \"Red\")\n",
    "g1.set_title(\"Real\")\n",
    "g2.set_title(\"Predictions\")\n",
    "fig.tight_layout()\n",
    "plt.show()"
   ]
  },
  {
   "cell_type": "code",
   "execution_count": 24,
   "metadata": {},
   "outputs": [
    {
     "data": {
      "text/plain": [
       "RandomForestRegressor(bootstrap=True, ccp_alpha=0.0, criterion='mse',\n",
       "                      max_depth=None, max_features='auto', max_leaf_nodes=None,\n",
       "                      max_samples=None, min_impurity_decrease=0.0,\n",
       "                      min_impurity_split=None, min_samples_leaf=1,\n",
       "                      min_samples_split=2, min_weight_fraction_leaf=0.0,\n",
       "                      n_estimators=100, n_jobs=None, oob_score=False,\n",
       "                      random_state=None, verbose=0, warm_start=False)"
      ]
     },
     "execution_count": 24,
     "metadata": {},
     "output_type": "execute_result"
    }
   ],
   "source": [
    "from sklearn.ensemble import RandomForestRegressor\n",
    "from sklearn.model_selection import train_test_split\n",
    "\n",
    "x, y = pd.DataFrame(merge, columns = ['Weather (Degrees)', 'Wind (MPH)']), pd.DataFrame(merge, columns = ['H'])\n",
    "x_train, x_test, y_train, y_test = train_test_split(x, y, test_size=0.20)\n",
    "\n",
    "regressor = RandomForestRegressor()\n",
    "regressor.fit(x_train, y_train.values.ravel())"
   ]
  },
  {
   "cell_type": "code",
   "execution_count": 27,
   "metadata": {},
   "outputs": [
    {
     "data": {
      "text/html": [
       "<div>\n",
       "<style scoped>\n",
       "    .dataframe tbody tr th:only-of-type {\n",
       "        vertical-align: middle;\n",
       "    }\n",
       "\n",
       "    .dataframe tbody tr th {\n",
       "        vertical-align: top;\n",
       "    }\n",
       "\n",
       "    .dataframe thead th {\n",
       "        text-align: right;\n",
       "    }\n",
       "</style>\n",
       "<table border=\"1\" class=\"dataframe\">\n",
       "  <thead>\n",
       "    <tr style=\"text-align: right;\">\n",
       "      <th></th>\n",
       "      <th>Real</th>\n",
       "      <th>Predictions</th>\n",
       "    </tr>\n",
       "  </thead>\n",
       "  <tbody>\n",
       "    <tr>\n",
       "      <th>0</th>\n",
       "      <td>0.927167</td>\n",
       "      <td>0.988053</td>\n",
       "    </tr>\n",
       "    <tr>\n",
       "      <th>1</th>\n",
       "      <td>0.998500</td>\n",
       "      <td>0.977623</td>\n",
       "    </tr>\n",
       "    <tr>\n",
       "      <th>2</th>\n",
       "      <td>0.963667</td>\n",
       "      <td>1.013322</td>\n",
       "    </tr>\n",
       "    <tr>\n",
       "      <th>3</th>\n",
       "      <td>0.988167</td>\n",
       "      <td>1.024670</td>\n",
       "    </tr>\n",
       "    <tr>\n",
       "      <th>4</th>\n",
       "      <td>1.049500</td>\n",
       "      <td>0.965390</td>\n",
       "    </tr>\n",
       "    <tr>\n",
       "      <th>5</th>\n",
       "      <td>1.025667</td>\n",
       "      <td>0.993292</td>\n",
       "    </tr>\n",
       "  </tbody>\n",
       "</table>\n",
       "</div>"
      ],
      "text/plain": [
       "       Real  Predictions\n",
       "0  0.927167     0.988053\n",
       "1  0.998500     0.977623\n",
       "2  0.963667     1.013322\n",
       "3  0.988167     1.024670\n",
       "4  1.049500     0.965390\n",
       "5  1.025667     0.993292"
      ]
     },
     "execution_count": 27,
     "metadata": {},
     "output_type": "execute_result"
    }
   ],
   "source": [
    "predictions = regressor.predict(x_test)\n",
    "predictions = [float(i) for i in predictions]\n",
    "comparison = pd.DataFrame({\"Real\" : y_test.iloc[:,0], \"Predictions\" : predictions})\n",
    "comparison = comparison.reset_index()\n",
    "comparison = comparison.drop(['index'], axis=1)\n",
    "comparison"
   ]
  },
  {
   "cell_type": "code",
   "execution_count": 26,
   "metadata": {},
   "outputs": [
    {
     "data": {
      "image/png": "[encoded data removed]",
      "text/plain": [
       "<Figure size 432x288 with 2 Axes>"
      ]
     },
     "metadata": {
      "needs_background": "light"
     },
     "output_type": "display_data"
    }
   ],
   "source": [
    "fig, (g1, g2) = plt.subplots(1, 2)\n",
    "g1.plot(comparison.index, comparison[\"Real\"], color = \"Green\")\n",
    "g2.plot(comparison.index, comparison[\"Predictions\"], color = \"Red\")\n",
    "g1.set_title(\"Real\")\n",
    "g2.set_title(\"Predictions\")\n",
    "fig.tight_layout()\n",
    "plt.show()"
   ]
  },
  {
   "cell_type": "code",
   "execution_count": null,
   "metadata": {},
   "outputs": [],
   "source": []
  }
 ],
 "metadata": {
  "kernelspec": {
   "display_name": "Python 3",
   "language": "python",
   "name": "python3"
  },
  "language_info": {
   "codemirror_mode": {
    "name": "ipython",
    "version": 3
   },
   "file_extension": ".py",
   "mimetype": "text/x-python",
   "name": "python",
   "nbconvert_exporter": "python",
   "pygments_lexer": "ipython3",
   "version": "3.7.6"
  }
 },
 "nbformat": 4,
 "nbformat_minor": 4
}
